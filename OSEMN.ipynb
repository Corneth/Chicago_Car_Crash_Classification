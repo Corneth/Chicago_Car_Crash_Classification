{
 "cells": [
  {
   "cell_type": "markdown",
   "id": "other-broad",
   "metadata": {},
   "source": [
    "import numpy as np\n",
    "import seaborn as sns\n",
    "import matplotlib.pyplot as plt\n",
    "import pandas as pd\n",
    "# ^^^ pyforest auto-imports - don't write above this line\n",
    "# Chicago Car Crashes"
   ]
  },
  {
   "cell_type": "markdown",
   "id": "theoretical-violation",
   "metadata": {},
   "source": [
    "## Table Of Contents\n",
    "<font size=3rem>\n",
    "    \n",
    "0 -**[ INTRO](#Introduction)<br>**\n",
    "1 -**[ OBTAIN](#Obtain)**<br>\n",
    "2 -**[ SCRUB](#Scrub)**<br>\n",
    "3 -**[ EXPLORE](#Explore)**<br>\n",
    "4 -**[ MODEL](#Models)**<br>\n",
    "5 -**[ INTERPRET](#Interpretations)**<br>\n",
    "</font>\n",
    "___"
   ]
  },
  {
   "cell_type": "markdown",
   "id": "productive-omaha",
   "metadata": {},
   "source": [
    "# Introduction\n",
    "Student: Thomas Cornett\n",
    "\n",
    "Pace: Self-pace\n",
    "\n",
    "Instructor: \n",
    "\n",
    "\n",
    "In this notebook I am going to be doing a multi-variable classification on the Chicago Car Crash dataset.With this data I will be taking a look at the primary contributory cause of car accidents deemed by Chicago Police. We will be trying to see if the causes of crashes are based off negligent behavior or if it was caused by other means."
   ]
  },
  {
   "cell_type": "markdown",
   "id": "opened-recovery",
   "metadata": {},
   "source": [
    "## Imports"
   ]
  },
  {
   "cell_type": "code",
   "execution_count": 87,
   "id": "spread-estonia",
   "metadata": {},
   "outputs": [],
   "source": [
    "# import pandas as pd\n",
    "# import pandas_profiling as pp\n",
    "# import matplotlib.pyplot as plt\n",
    "# %matplotlib inline\n",
    "# import numpy as np\n",
    "# import seaborn as sns\n",
    "\n",
    "# from arcgis.gis import GIS\n",
    "# from sklearn.ensemble import AdaBoostClassifier\n",
    "\n",
    "from sklearn.metrics import plot_confusion_matrix\n",
    "from sklearn.metrics import plot_roc_curve,roc_curve\n",
    "from sklearn import tree\n",
    "from sklearn.metrics import classification_report, multilabel_confusion_matrix,confusion_matrix\n",
    "from sklearn.ensemble import RandomForestClassifier,RandomForestRegressor\n",
    "from sklearn.preprocessing import RobustScaler\n",
    "from sklearn.model_selection import *\n",
    "from sklearn.preprocessing import StandardScaler,OrdinalEncoder\n",
    "import pyforest\n",
    "\n"
   ]
  },
  {
   "cell_type": "markdown",
   "id": "prescribed-filename",
   "metadata": {},
   "source": [
    "### Adjusting settings\n",
    "Unfortunitly (or not) there is A LOT of data, a little over 471K rows of crash data that we will be sifting through so I am going to adjust some settings first to make it easier to look through. "
   ]
  },
  {
   "cell_type": "code",
   "execution_count": 88,
   "id": "incredible-cabinet",
   "metadata": {},
   "outputs": [
    {
     "data": {
      "application/javascript": [
       "\n",
       "        if (window._pyforest_update_imports_cell) { window._pyforest_update_imports_cell('import numpy as np\\nimport seaborn as sns\\nimport matplotlib.pyplot as plt\\nimport pandas as pd'); }\n",
       "    "
      ],
      "text/plain": [
       "<IPython.core.display.Javascript object>"
      ]
     },
     "metadata": {},
     "output_type": "display_data"
    },
    {
     "data": {
      "application/javascript": [
       "\n",
       "        if (window._pyforest_update_imports_cell) { window._pyforest_update_imports_cell('import numpy as np\\nimport seaborn as sns\\nimport matplotlib.pyplot as plt\\nimport pandas as pd'); }\n",
       "    "
      ],
      "text/plain": [
       "<IPython.core.display.Javascript object>"
      ]
     },
     "metadata": {},
     "output_type": "display_data"
    },
    {
     "data": {
      "application/javascript": [
       "\n",
       "        if (window._pyforest_update_imports_cell) { window._pyforest_update_imports_cell('import numpy as np\\nimport seaborn as sns\\nimport matplotlib.pyplot as plt\\nimport pandas as pd'); }\n",
       "    "
      ],
      "text/plain": [
       "<IPython.core.display.Javascript object>"
      ]
     },
     "metadata": {},
     "output_type": "display_data"
    }
   ],
   "source": [
    "pd.set_option('display.max_rows', 50)\n",
    "pd.set_option('display.max_columns', 500)\n",
    "pd.set_option('display.width', 1000)"
   ]
  },
  {
   "cell_type": "markdown",
   "id": "returning-member",
   "metadata": {},
   "source": [
    "## Functions\n",
    "To make it easier I am going to set and define all the functions that I will be using here for later in the project. "
   ]
  },
  {
   "cell_type": "code",
   "execution_count": 89,
   "id": "representative-variety",
   "metadata": {
    "code_folding": []
   },
   "outputs": [],
   "source": [
    "def get_data():\n",
    "    crash_data = pd.read_csv('Data\\Chicago_car_wrecks.csv')\n",
    "    vehicle = pd.read_csv('Data\\Accidents_vehicles.csv',low_memory = False)\n",
    "    persons = pd.read_csv('Data\\Accidents_people.csv',low_memory = False)\n",
    "    return crash_data,vehicle,persons"
   ]
  },
  {
   "cell_type": "code",
   "execution_count": 90,
   "id": "characteristic-responsibility",
   "metadata": {
    "code_folding": []
   },
   "outputs": [],
   "source": [
    "def Cleaning(persons,vehicle,crash_data):\n",
    "        columns_to_remove = ['RD_NO','UNIT_NO','CMRC_VEH_I','VEHICLE_DEFECT','TRAVEL_DIRECTION','MANEUVER','TOWED_I','FIRE_I',\n",
    "                            'OCCUPANT_CNT','TOWED_BY','TOWED_TO','AREA_00_I','AREA_01_I','AREA_02_I',\n",
    "                             'AREA_03_I','AREA_04_I','AREA_05_I','AREA_06_I','AREA_07_I','AREA_08_I','AREA_09_I','AREA_10_I',\n",
    "                             'AREA_11_I','AREA_12_I','AREA_99_I','FIRST_CONTACT_POINT','CMV_ID','USDOT_NO','CCMC_NO','ILCC_NO',\n",
    "                            'COMMERCIAL_SRC','GVWR','CARRIER_NAME','CARRIER_STATE','CARRIER_CITY','HAZMAT_PLACARDS_I',\n",
    "                             'HAZMAT_NAME','UN_NO','HAZMAT_PRESENT_I','HAZMAT_REPORT_I','HAZMAT_REPORT_NO','MCS_REPORT_I',\n",
    "                             'MCS_REPORT_NO','HAZMAT_VIO_CAUSE_CRASH_I','MCS_VIO_CAUSE_CRASH_I','IDOT_PERMIT_NO','WIDE_LOAD_I',\n",
    "                             'TRAILER1_WIDTH','TRAILER2_WIDTH','TRAILER1_LENGTH','TRAILER2_LENGTH','HOSPITAL','EMS_AGENCY',\n",
    "                             'EMS_RUN_NO', 'PEDPEDAL_ACTION','PEDPEDAL_VISIBILITY','PEDPEDAL_LOCATION','INTERSECTION_RELATED_I',\n",
    "                             'NOT_RIGHT_OF_WAY_I','HIT_AND_RUN_I','CRASH_DATE_EST_I','LANE_CNT',\n",
    "                             'BEAT_OF_OCCURRENCE','PHOTOS_TAKEN_I','STATEMENTS_TAKEN_I','DOORING_I','WORK_ZONE_I',\n",
    "                             'WORK_ZONE_TYPE','WORKERS_PRESENT_I', 'INJURIES_TOTAL','INJURIES_FATAL','INJURIES_INCAPACITATING',\n",
    "                             'INJURIES_NON_INCAPACITATING','INJURIES_REPORTED_NOT_EVIDENT','INJURIES_NO_INDICATION',\n",
    "                             'INJURIES_UNKNOWN','SEAT_NO',\n",
    "                             'HAZMAT_OUT_OF_SERVICE_I','MCS_OUT_OF_SERVICE_I','VEHICLE_ID_y','HAZMAT_CLASS',\n",
    "                             'RD_NO_x','CRASH_DATE_x','VEHICLE_ID_x','RD_NO_y','CRASH_DATE_y','CRASH_UNIT_ID',\n",
    "                             'TOTAL_VEHICLE_LENGTH','AXLE_CNT','VEHICLE_CONFIG','CARGO_BODY_TYPE','LOAD_TYPE','PERSON_ID',\n",
    "                             'DRIVERS_LICENSE_CLASS', 'LOCATION', 'PERSON_TYPE', 'VEHICLE_USE']\n",
    "        crash_data['PRIM_CONTRIBUTORY_CAUSE'] = np.where(crash_data.PRIM_CONTRIBUTORY_CAUSE == 'NOT APPLICABLE',crash_data.SEC_CONTRIBUTORY_CAUSE,crash_data.PRIM_CONTRIBUTORY_CAUSE)\n",
    "        persons.fillna(persons.dtypes.replace({'int64': 0,'float64':0.0 ,'O': 'UNKNOWN'}), inplace=True)\n",
    "        vehicle.fillna(vehicle.dtypes.replace({'int64': 0,'float64':0.0 ,'O': 'UNKNOWN'}), inplace=True)\n",
    "        crash_data.fillna(crash_data.dtypes.replace({'int64': 0,'float64':0.0 ,'O': 'UNKNOWN'}), inplace=True)\n",
    "        data = pd.merge(crash_data,vehicle, on= 'CRASH_RECORD_ID', how = 'inner')\n",
    "        full_info = pd.merge(data,persons, on = 'CRASH_RECORD_ID', how = 'inner')\n",
    "        clean_data = full_info.drop(columns = columns_to_remove).copy()\n",
    "        clean = clean_data.drop_duplicates(subset=['CRASH_RECORD_ID'], keep='first', inplace=False)\n",
    "        clean.columns = map(str.title, clean.columns)\n",
    "        persons.columns = map(str.title, persons.columns)\n",
    "        vehicle.columns = map(str.title, vehicle.columns)\n",
    "        crash_data.columns = map(str.title, crash_data.columns)\n",
    "        clean['Prim_Contributory_Cause'] = clean['Prim_Contributory_Cause'].str.lower()\n",
    "        clean['Sec_Contributory_Cause'] = clean['Sec_Contributory_Cause'].str.lower()\n",
    "#         clean['Zipcode'].replace({'UNKNO': '0','J2X5L8':'0'},inplace = True)\n",
    "#         clean['Zipcode'].str[:5].astype(int).astype(int)\n",
    "        clean['Num_Passengers'] = clean['Num_Passengers'].astype(int)\n",
    "        clean['Vehicle_Year'] = clean['Vehicle_Year'].astype(int)\n",
    "        clean['Latitude'] = clean['Latitude'].astype(float)\n",
    "        clean['Longitude']= clean['Longitude'].astype(float)\n",
    "#         clean['Zipcode'] = clean['Zipcode'].astype(int)\n",
    "        clean['Age'] = clean['Age'].astype(int)\n",
    "        clean['Day_Of_Week'] = clean['Crash_Day_Of_Week']\n",
    "        clean['Crash_Day_Of_Week'].replace({1:'Monday',2:'Tuesday',3:'Wednesday',4:'Thursday',5:'Friday',6:'Saturday',7:'Sunday'},inplace = True)\n",
    "        clean['Crash_Date'] =pd.to_datetime(clean['Crash_Date'])\n",
    "        clean.drop('Crash_Record_Id',axis = 1,inplace = True)\n",
    "        clean.fillna(clean.dtypes.replace({'int64': 0,'float64':0.0 ,'O': 'UNKNOWN'}), inplace=True)\n",
    "        clean['Address']=clean.apply(lambda x:'%s_%s_%s' % (x['Street_No'],x['Street_Direction'],x['Street_Name']),axis=1)\n",
    "        clean['Address'] = clean['Address'].replace('_',' ', regex = True)\n",
    "        clean.drop(['Street_No','Street_Direction','Street_Name'], axis = 1, inplace = True)\n",
    "        clean = featReducing(clean)\n",
    "        return clean"
   ]
  },
  {
   "cell_type": "code",
   "execution_count": 91,
   "id": "responsible-battle",
   "metadata": {
    "code_folding": []
   },
   "outputs": [],
   "source": [
    "def Data_fitting(dataset,classification_grouping):\n",
    "    \"\"\"Takes a dataset, the amount you want to try and use in the train test split, and what columns you groupings you want\n",
    "        to test on and outputs the X and y values for train_test_splits\"\"\" \n",
    "    \n",
    "    encoder = OrdinalEncoder()\n",
    "    df = dataset.select_dtypes(object)\n",
    "    df_num = dataset.select_dtypes(np.number)\n",
    "    df_cat = df.astype(str)\n",
    "    data1 = pd.DataFrame(encoder.fit_transform(df_cat), columns = df_cat.columns)\n",
    "    data1.reset_index(drop=True, inplace=True)\n",
    "    df_num.reset_index(drop=True, inplace=True)\n",
    "    data = pd.concat([data1, df_num],axis=1)\n",
    "    X = data.drop(classification_grouping, axis = 1)\n",
    "    y = data[classification_grouping]\n",
    "    \n",
    "    \n",
    "    \n",
    "    return X,y,data\n",
    "    "
   ]
  },
  {
   "cell_type": "code",
   "execution_count": 92,
   "id": "romantic-athletics",
   "metadata": {
    "code_folding": []
   },
   "outputs": [],
   "source": [
    "def Graph (dataset,x_val,y_val,graphtype,title,y_label,x_label,size):\n",
    "    \"\"\" Graphing made easy.\n",
    "    dataset: dataset that you are using\n",
    "    x_val: what you are wanting to graph on the x-axis.| not always needed\n",
    "    y_val: what you want to graph on the y-axis. | not always needed\n",
    "    graphtype: set which graph from the bottom list to that dataset. none provided errors out to no graph\n",
    "    y_label: set the label to the y axis \n",
    "    x_label: set the label to the x-axis\n",
    "    size: size of the plot figure\"\"\"\n",
    "    plt.figure(figsize = size)\n",
    "    plt.tight_layout()\n",
    "    if graphtype == 'countplot':\n",
    "        ax = sns.countplot(x=x_val,y = y_val, data=dataset);\n",
    "        ax.set_title(title,size = 14);\n",
    "        ax.set_ylabel(y_label,size = 12);\n",
    "        ax.set_xlabel(x_label,size = 12);\n",
    "    elif graphtype == 'scatterplot':\n",
    "        ax = sns.scatterplot(data=dataset, x= x_val, y=y_val)\n",
    "        ax.set_title(title,size = 14);\n",
    "        ax.set_ylabel(y_label,size = 12);\n",
    "        ax.set_xlabel(x_label,size = 12);\n",
    "    elif graphtype =='regression':\n",
    "        ax = sns.lmplot(x=x_val, y=y_val, data=dataset)\n",
    "        ax.set_title(title,size = 14);\n",
    "        ax.set_ylabel(y_label,size = 12)\n",
    "        ax.set_xlabel(x_label,size = 12)\n",
    "    elif graphtype == 'matrix':\n",
    "        ax = sns.pairplot(dataset, hue=x_val)\n",
    "#         ax.set_title(title,size = 14);\n",
    "#         ax.set_ylabel(y_label,size = 12)\n",
    "#         ax.set_xlabel(x_label,size = 12)\n",
    "    elif graphtype == 'violinplot':\n",
    "        ax = sns.violinplot(x=x_val, y=y_val,\n",
    "                    data=dataset, palette=\"muted\")\n",
    "    elif graphtype == 'distplot':\n",
    "        ax = sns.displot(data= dataset,x = x_val)\n",
    "    else:\n",
    "        print('Errored out. no graph subjected to data')"
   ]
  },
  {
   "cell_type": "code",
   "execution_count": 93,
   "id": "fifty-exhaust",
   "metadata": {},
   "outputs": [],
   "source": [
    "def featReducing(df):\n",
    "    conditions = [(df['Weather_Condition'] == 'CLEAR') & \n",
    "            (df['Lighting_Condition'] == 'DAYLIGHT') & \n",
    "            (df['Roadway_Surface_Cond'] == 'DRY') &\n",
    "            (df['Road_Defect'] == 'NO DEFECTS'),\n",
    "            (df['Weather_Condition'] == 'RAIN') |(df['Weather_Condition'] =='CLOUDY/OVERCAST') & \n",
    "            (df['Lighting_Condition'] == 'DARKNESS') |(df['Lighting_Condition'] == 'DARKNESS, LIGHTED ROAD') & \n",
    "            (df['Roadway_Surface_Cond'] == 'WET') &\n",
    "            (df['Road_Defect'] != 'NO DEFECTS')]\n",
    "\n",
    "\n",
    "    values = ['Perfect','Not Ideal']\n",
    "    df['Driving_Condition'] =np.select(conditions,values)\n",
    "\n",
    "    df['Driving_Condition'].replace({'0':'Hazardous'}, inplace = True)\n",
    "\n",
    "    df.drop(['Weather_Condition','Lighting_Condition','Roadway_Surface_Cond','Road_Defect'], axis = 1,inplace = True)\n",
    "    if [(df['Drivers_License_State'] != 'IL') & (df['Lic_Plate_State'] !='IL')]:\n",
    "        df['Drivers_License'] = 'Out of State'\n",
    "    else:\n",
    "        df['Drivers_License'] = 'In State'\n",
    "    df.drop(['Drivers_License_State','Lic_Plate_State'],axis = 1,inplace = True)\n",
    "    return df"
   ]
  },
  {
   "cell_type": "code",
   "execution_count": 94,
   "id": "hybrid-cornwall",
   "metadata": {
    "code_folding": []
   },
   "outputs": [],
   "source": [
    "def featConditioning(data):\n",
    "    if data['Prim_Contributory_Cause'] in ['operating vehicle in erratic, reckless, careless, negligent or aggressive manner',\n",
    "                                          'under the influence of alcohol/drugs (use when arrest is effected)',\n",
    "                                          'had been drinking (use when arrest is not made)','exceeding safe speed for conditions',\n",
    "                                          'exceeding authorized speed limit','improper overtaking/passing','passing stopped school bus',\n",
    "                                          'texting','distraction - other electronic device (navigation device, dvd player, etc.)',\n",
    "                                          'cell phone use other than texting','driving on wrong side/wrong way','improper turning/no signal',\n",
    "                                          'improper lane usage','following too closely','distraction - from outside vehicle']:\n",
    "        return 'Negligent'\n",
    "    \n",
    "    if data['Prim_Contributory_Cause'] in ['failing to yield right-of-way','motorcycle advancing legally on red light',\n",
    "                                          'bicycle advancing legally on red light','related to bus stop','disregarding yield sign','turning right on red',\n",
    "                                          'disregarding road markings','disregarding other traffic signs','physical condition of driver',\n",
    "                                          'distraction - from inside vehicle','disregarding traffic signals','disregarding stop sign',\n",
    "                                          'driving skills/knowledge/experience','failing to reduce speed to avoid crash',]:\n",
    "        return 'Non-negligent'\n",
    "    \n",
    "    if data['Prim_Contributory_Cause'] in ['unable to determine','not applicable','animal','evasive action due to animal, object, nonmotorist',\n",
    "                                           'road construction/maintenance','road engineering/surface/marking defects','vision obscured (signs, tree limbs, buildings, etc.)',\n",
    "                                          'equipment - vehicle condition','weather','obstructed crosswalks']:\n",
    "        return 'undetermined'"
   ]
  },
  {
   "cell_type": "markdown",
   "id": "final-canyon",
   "metadata": {},
   "source": [
    "# Obtain\n",
    "I will be working with the Chicago Crash Dataset provided by the city of Chicago as part of their Vision Zero plan. It is split up into 3 different datasets: Persons, Vehicle, and Crashes. I am pulling all three of them so that I can get a 'bigger' picture of what it is that could be causing the problem. I am going to link the dataset locations online so it is easier for others to find what I am looking at."
   ]
  },
  {
   "cell_type": "code",
   "execution_count": 53,
   "id": "productive-chosen",
   "metadata": {},
   "outputs": [
    {
     "data": {
      "application/javascript": [
       "\n",
       "        if (window._pyforest_update_imports_cell) { window._pyforest_update_imports_cell('import numpy as np\\nimport seaborn as sns\\nimport matplotlib.pyplot as plt\\nimport pandas as pd'); }\n",
       "    "
      ],
      "text/plain": [
       "<IPython.core.display.Javascript object>"
      ]
     },
     "metadata": {},
     "output_type": "display_data"
    },
    {
     "data": {
      "application/javascript": [
       "\n",
       "        if (window._pyforest_update_imports_cell) { window._pyforest_update_imports_cell('import numpy as np\\nimport seaborn as sns\\nimport matplotlib.pyplot as plt\\nimport pandas as pd'); }\n",
       "    "
      ],
      "text/plain": [
       "<IPython.core.display.Javascript object>"
      ]
     },
     "metadata": {},
     "output_type": "display_data"
    },
    {
     "data": {
      "application/javascript": [
       "\n",
       "        if (window._pyforest_update_imports_cell) { window._pyforest_update_imports_cell('import numpy as np\\nimport seaborn as sns\\nimport matplotlib.pyplot as plt\\nimport pandas as pd'); }\n",
       "    "
      ],
      "text/plain": [
       "<IPython.core.display.Javascript object>"
      ]
     },
     "metadata": {},
     "output_type": "display_data"
    }
   ],
   "source": [
    "Crashes,Vehicles,Persons = get_data()"
   ]
  },
  {
   "cell_type": "code",
   "execution_count": 54,
   "id": "banned-bones",
   "metadata": {},
   "outputs": [
    {
     "data": {
      "application/javascript": [
       "\n",
       "        if (window._pyforest_update_imports_cell) { window._pyforest_update_imports_cell('import numpy as np\\nimport seaborn as sns\\nimport matplotlib.pyplot as plt\\nimport pandas as pd'); }\n",
       "    "
      ],
      "text/plain": [
       "<IPython.core.display.Javascript object>"
      ]
     },
     "metadata": {},
     "output_type": "display_data"
    }
   ],
   "source": [
    "test_data = pd.read_csv('Data/Testing_Data.csv')"
   ]
  },
  {
   "cell_type": "markdown",
   "id": "completed-convertible",
   "metadata": {},
   "source": [
    "## Initial look through"
   ]
  },
  {
   "cell_type": "markdown",
   "id": "stable-poverty",
   "metadata": {},
   "source": [
    "### Traffic Crashes:\n",
    "Dataset location: https://data.cityofchicago.org/Transportation/Traffic-Crashes-Crashes/85ca-t3if\n"
   ]
  },
  {
   "cell_type": "code",
   "execution_count": 55,
   "id": "acceptable-crash",
   "metadata": {},
   "outputs": [
    {
     "name": "stdout",
     "output_type": "stream",
     "text": [
      "<class 'pandas.core.frame.DataFrame'>\n",
      "RangeIndex: 471122 entries, 0 to 471121\n",
      "Data columns (total 49 columns):\n",
      " #   Column                         Non-Null Count   Dtype  \n",
      "---  ------                         --------------   -----  \n",
      " 0   CRASH_RECORD_ID                471122 non-null  object \n",
      " 1   RD_NO                          467952 non-null  object \n",
      " 2   CRASH_DATE_EST_I               35166 non-null   object \n",
      " 3   CRASH_DATE                     471122 non-null  object \n",
      " 4   POSTED_SPEED_LIMIT             471122 non-null  int64  \n",
      " 5   TRAFFIC_CONTROL_DEVICE         471122 non-null  object \n",
      " 6   DEVICE_CONDITION               471122 non-null  object \n",
      " 7   WEATHER_CONDITION              471122 non-null  object \n",
      " 8   LIGHTING_CONDITION             471122 non-null  object \n",
      " 9   FIRST_CRASH_TYPE               471122 non-null  object \n",
      " 10  TRAFFICWAY_TYPE                471122 non-null  object \n",
      " 11  LANE_CNT                       198961 non-null  float64\n",
      " 12  ALIGNMENT                      471122 non-null  object \n",
      " 13  ROADWAY_SURFACE_COND           471122 non-null  object \n",
      " 14  ROAD_DEFECT                    471122 non-null  object \n",
      " 15  REPORT_TYPE                    459733 non-null  object \n",
      " 16  CRASH_TYPE                     471122 non-null  object \n",
      " 17  INTERSECTION_RELATED_I         106505 non-null  object \n",
      " 18  NOT_RIGHT_OF_WAY_I             22105 non-null   object \n",
      " 19  HIT_AND_RUN_I                  137699 non-null  object \n",
      " 20  DAMAGE                         471122 non-null  object \n",
      " 21  DATE_POLICE_NOTIFIED           471122 non-null  object \n",
      " 22  PRIM_CONTRIBUTORY_CAUSE        471122 non-null  object \n",
      " 23  SEC_CONTRIBUTORY_CAUSE         471122 non-null  object \n",
      " 24  STREET_NO                      471122 non-null  int64  \n",
      " 25  STREET_DIRECTION               471119 non-null  object \n",
      " 26  STREET_NAME                    471121 non-null  object \n",
      " 27  BEAT_OF_OCCURRENCE             471117 non-null  float64\n",
      " 28  PHOTOS_TAKEN_I                 5935 non-null    object \n",
      " 29  STATEMENTS_TAKEN_I             9480 non-null    object \n",
      " 30  DOORING_I                      1535 non-null    object \n",
      " 31  WORK_ZONE_I                    3091 non-null    object \n",
      " 32  WORK_ZONE_TYPE                 2441 non-null    object \n",
      " 33  WORKERS_PRESENT_I              735 non-null     object \n",
      " 34  NUM_UNITS                      471122 non-null  int64  \n",
      " 35  MOST_SEVERE_INJURY             470161 non-null  object \n",
      " 36  INJURIES_TOTAL                 470172 non-null  float64\n",
      " 37  INJURIES_FATAL                 470172 non-null  float64\n",
      " 38  INJURIES_INCAPACITATING        470172 non-null  float64\n",
      " 39  INJURIES_NON_INCAPACITATING    470172 non-null  float64\n",
      " 40  INJURIES_REPORTED_NOT_EVIDENT  470172 non-null  float64\n",
      " 41  INJURIES_NO_INDICATION         470172 non-null  float64\n",
      " 42  INJURIES_UNKNOWN               470172 non-null  float64\n",
      " 43  CRASH_HOUR                     471122 non-null  int64  \n",
      " 44  CRASH_DAY_OF_WEEK              471122 non-null  int64  \n",
      " 45  CRASH_MONTH                    471122 non-null  int64  \n",
      " 46  LATITUDE                       468537 non-null  float64\n",
      " 47  LONGITUDE                      468537 non-null  float64\n",
      " 48  LOCATION                       468537 non-null  object \n",
      "dtypes: float64(11), int64(6), object(32)\n",
      "memory usage: 176.1+ MB\n"
     ]
    },
    {
     "data": {
      "text/plain": [
       "None"
      ]
     },
     "metadata": {},
     "output_type": "display_data"
    },
    {
     "data": {
      "text/html": [
       "<div>\n",
       "<style scoped>\n",
       "    .dataframe tbody tr th:only-of-type {\n",
       "        vertical-align: middle;\n",
       "    }\n",
       "\n",
       "    .dataframe tbody tr th {\n",
       "        vertical-align: top;\n",
       "    }\n",
       "\n",
       "    .dataframe thead th {\n",
       "        text-align: right;\n",
       "    }\n",
       "</style>\n",
       "<table border=\"1\" class=\"dataframe\">\n",
       "  <thead>\n",
       "    <tr style=\"text-align: right;\">\n",
       "      <th></th>\n",
       "      <th>CRASH_RECORD_ID</th>\n",
       "      <th>RD_NO</th>\n",
       "      <th>CRASH_DATE_EST_I</th>\n",
       "      <th>CRASH_DATE</th>\n",
       "      <th>POSTED_SPEED_LIMIT</th>\n",
       "      <th>TRAFFIC_CONTROL_DEVICE</th>\n",
       "      <th>DEVICE_CONDITION</th>\n",
       "      <th>WEATHER_CONDITION</th>\n",
       "      <th>LIGHTING_CONDITION</th>\n",
       "      <th>FIRST_CRASH_TYPE</th>\n",
       "      <th>TRAFFICWAY_TYPE</th>\n",
       "      <th>LANE_CNT</th>\n",
       "      <th>ALIGNMENT</th>\n",
       "      <th>ROADWAY_SURFACE_COND</th>\n",
       "      <th>ROAD_DEFECT</th>\n",
       "      <th>REPORT_TYPE</th>\n",
       "      <th>CRASH_TYPE</th>\n",
       "      <th>INTERSECTION_RELATED_I</th>\n",
       "      <th>NOT_RIGHT_OF_WAY_I</th>\n",
       "      <th>HIT_AND_RUN_I</th>\n",
       "      <th>DAMAGE</th>\n",
       "      <th>DATE_POLICE_NOTIFIED</th>\n",
       "      <th>PRIM_CONTRIBUTORY_CAUSE</th>\n",
       "      <th>SEC_CONTRIBUTORY_CAUSE</th>\n",
       "      <th>STREET_NO</th>\n",
       "      <th>STREET_DIRECTION</th>\n",
       "      <th>STREET_NAME</th>\n",
       "      <th>BEAT_OF_OCCURRENCE</th>\n",
       "      <th>PHOTOS_TAKEN_I</th>\n",
       "      <th>STATEMENTS_TAKEN_I</th>\n",
       "      <th>DOORING_I</th>\n",
       "      <th>WORK_ZONE_I</th>\n",
       "      <th>WORK_ZONE_TYPE</th>\n",
       "      <th>WORKERS_PRESENT_I</th>\n",
       "      <th>NUM_UNITS</th>\n",
       "      <th>MOST_SEVERE_INJURY</th>\n",
       "      <th>INJURIES_TOTAL</th>\n",
       "      <th>INJURIES_FATAL</th>\n",
       "      <th>INJURIES_INCAPACITATING</th>\n",
       "      <th>INJURIES_NON_INCAPACITATING</th>\n",
       "      <th>INJURIES_REPORTED_NOT_EVIDENT</th>\n",
       "      <th>INJURIES_NO_INDICATION</th>\n",
       "      <th>INJURIES_UNKNOWN</th>\n",
       "      <th>CRASH_HOUR</th>\n",
       "      <th>CRASH_DAY_OF_WEEK</th>\n",
       "      <th>CRASH_MONTH</th>\n",
       "      <th>LATITUDE</th>\n",
       "      <th>LONGITUDE</th>\n",
       "      <th>LOCATION</th>\n",
       "    </tr>\n",
       "  </thead>\n",
       "  <tbody>\n",
       "    <tr>\n",
       "      <th>0</th>\n",
       "      <td>4fd0a3e0897b3335b94cd8d5b2d2b350eb691add56c62d...</td>\n",
       "      <td>JC343143</td>\n",
       "      <td>NaN</td>\n",
       "      <td>07/10/2019 05:56:00 PM</td>\n",
       "      <td>35</td>\n",
       "      <td>NO CONTROLS</td>\n",
       "      <td>NO CONTROLS</td>\n",
       "      <td>CLEAR</td>\n",
       "      <td>DAYLIGHT</td>\n",
       "      <td>TURNING</td>\n",
       "      <td>ONE-WAY</td>\n",
       "      <td>NaN</td>\n",
       "      <td>STRAIGHT AND LEVEL</td>\n",
       "      <td>DRY</td>\n",
       "      <td>NO DEFECTS</td>\n",
       "      <td>ON SCENE</td>\n",
       "      <td>NO INJURY / DRIVE AWAY</td>\n",
       "      <td>NaN</td>\n",
       "      <td>NaN</td>\n",
       "      <td>NaN</td>\n",
       "      <td>OVER $1,500</td>\n",
       "      <td>07/10/2019 06:16:00 PM</td>\n",
       "      <td>IMPROPER BACKING</td>\n",
       "      <td>UNABLE TO DETERMINE</td>\n",
       "      <td>2158</td>\n",
       "      <td>N</td>\n",
       "      <td>MARMORA AVE</td>\n",
       "      <td>2515.0</td>\n",
       "      <td>NaN</td>\n",
       "      <td>NaN</td>\n",
       "      <td>NaN</td>\n",
       "      <td>NaN</td>\n",
       "      <td>NaN</td>\n",
       "      <td>NaN</td>\n",
       "      <td>2</td>\n",
       "      <td>NO INDICATION OF INJURY</td>\n",
       "      <td>0.0</td>\n",
       "      <td>0.0</td>\n",
       "      <td>0.0</td>\n",
       "      <td>0.0</td>\n",
       "      <td>0.0</td>\n",
       "      <td>3.0</td>\n",
       "      <td>0.0</td>\n",
       "      <td>17</td>\n",
       "      <td>4</td>\n",
       "      <td>7</td>\n",
       "      <td>41.919664</td>\n",
       "      <td>-87.773288</td>\n",
       "      <td>POINT (-87.773287883007 41.919663832993)</td>\n",
       "    </tr>\n",
       "    <tr>\n",
       "      <th>1</th>\n",
       "      <td>009e9e67203442370272e1a13d6ee51a4155dac65e583d...</td>\n",
       "      <td>JA329216</td>\n",
       "      <td>NaN</td>\n",
       "      <td>06/30/2017 04:00:00 PM</td>\n",
       "      <td>35</td>\n",
       "      <td>STOP SIGN/FLASHER</td>\n",
       "      <td>FUNCTIONING PROPERLY</td>\n",
       "      <td>CLEAR</td>\n",
       "      <td>DAYLIGHT</td>\n",
       "      <td>TURNING</td>\n",
       "      <td>NOT DIVIDED</td>\n",
       "      <td>4.0</td>\n",
       "      <td>STRAIGHT AND LEVEL</td>\n",
       "      <td>DRY</td>\n",
       "      <td>NO DEFECTS</td>\n",
       "      <td>ON SCENE</td>\n",
       "      <td>INJURY AND / OR TOW DUE TO CRASH</td>\n",
       "      <td>Y</td>\n",
       "      <td>NaN</td>\n",
       "      <td>NaN</td>\n",
       "      <td>OVER $1,500</td>\n",
       "      <td>06/30/2017 04:01:00 PM</td>\n",
       "      <td>FAILING TO YIELD RIGHT-OF-WAY</td>\n",
       "      <td>NOT APPLICABLE</td>\n",
       "      <td>8301</td>\n",
       "      <td>S</td>\n",
       "      <td>CICERO AVE</td>\n",
       "      <td>834.0</td>\n",
       "      <td>NaN</td>\n",
       "      <td>NaN</td>\n",
       "      <td>NaN</td>\n",
       "      <td>NaN</td>\n",
       "      <td>NaN</td>\n",
       "      <td>NaN</td>\n",
       "      <td>2</td>\n",
       "      <td>NO INDICATION OF INJURY</td>\n",
       "      <td>0.0</td>\n",
       "      <td>0.0</td>\n",
       "      <td>0.0</td>\n",
       "      <td>0.0</td>\n",
       "      <td>0.0</td>\n",
       "      <td>3.0</td>\n",
       "      <td>0.0</td>\n",
       "      <td>16</td>\n",
       "      <td>6</td>\n",
       "      <td>6</td>\n",
       "      <td>41.741804</td>\n",
       "      <td>-87.740954</td>\n",
       "      <td>POINT (-87.740953581987 41.741803598989)</td>\n",
       "    </tr>\n",
       "    <tr>\n",
       "      <th>2</th>\n",
       "      <td>ee9283eff3a55ac50ee58f3d9528ce1d689b1c4180b4c4...</td>\n",
       "      <td>JD292400</td>\n",
       "      <td>NaN</td>\n",
       "      <td>07/10/2020 10:25:00 AM</td>\n",
       "      <td>30</td>\n",
       "      <td>TRAFFIC SIGNAL</td>\n",
       "      <td>FUNCTIONING PROPERLY</td>\n",
       "      <td>CLEAR</td>\n",
       "      <td>DAYLIGHT</td>\n",
       "      <td>REAR END</td>\n",
       "      <td>FOUR WAY</td>\n",
       "      <td>NaN</td>\n",
       "      <td>STRAIGHT AND LEVEL</td>\n",
       "      <td>DRY</td>\n",
       "      <td>NO DEFECTS</td>\n",
       "      <td>ON SCENE</td>\n",
       "      <td>NO INJURY / DRIVE AWAY</td>\n",
       "      <td>NaN</td>\n",
       "      <td>NaN</td>\n",
       "      <td>NaN</td>\n",
       "      <td>OVER $1,500</td>\n",
       "      <td>07/10/2020 10:25:00 AM</td>\n",
       "      <td>FAILING TO YIELD RIGHT-OF-WAY</td>\n",
       "      <td>FAILING TO YIELD RIGHT-OF-WAY</td>\n",
       "      <td>1632</td>\n",
       "      <td>E</td>\n",
       "      <td>67TH ST</td>\n",
       "      <td>331.0</td>\n",
       "      <td>NaN</td>\n",
       "      <td>NaN</td>\n",
       "      <td>NaN</td>\n",
       "      <td>NaN</td>\n",
       "      <td>NaN</td>\n",
       "      <td>NaN</td>\n",
       "      <td>3</td>\n",
       "      <td>NO INDICATION OF INJURY</td>\n",
       "      <td>0.0</td>\n",
       "      <td>0.0</td>\n",
       "      <td>0.0</td>\n",
       "      <td>0.0</td>\n",
       "      <td>0.0</td>\n",
       "      <td>3.0</td>\n",
       "      <td>0.0</td>\n",
       "      <td>10</td>\n",
       "      <td>6</td>\n",
       "      <td>7</td>\n",
       "      <td>41.773456</td>\n",
       "      <td>-87.585022</td>\n",
       "      <td>POINT (-87.585022352022 41.773455972008)</td>\n",
       "    </tr>\n",
       "    <tr>\n",
       "      <th>3</th>\n",
       "      <td>f8960f698e870ebdc60b521b2a141a5395556bc3704191...</td>\n",
       "      <td>JD293602</td>\n",
       "      <td>NaN</td>\n",
       "      <td>07/11/2020 01:00:00 AM</td>\n",
       "      <td>30</td>\n",
       "      <td>NO CONTROLS</td>\n",
       "      <td>NO CONTROLS</td>\n",
       "      <td>CLEAR</td>\n",
       "      <td>DARKNESS</td>\n",
       "      <td>PARKED MOTOR VEHICLE</td>\n",
       "      <td>DIVIDED - W/MEDIAN (NOT RAISED)</td>\n",
       "      <td>NaN</td>\n",
       "      <td>STRAIGHT AND LEVEL</td>\n",
       "      <td>DRY</td>\n",
       "      <td>NO DEFECTS</td>\n",
       "      <td>NOT ON SCENE (DESK REPORT)</td>\n",
       "      <td>NO INJURY / DRIVE AWAY</td>\n",
       "      <td>NaN</td>\n",
       "      <td>NaN</td>\n",
       "      <td>Y</td>\n",
       "      <td>$500 OR LESS</td>\n",
       "      <td>07/11/2020 08:30:00 AM</td>\n",
       "      <td>UNABLE TO DETERMINE</td>\n",
       "      <td>UNABLE TO DETERMINE</td>\n",
       "      <td>110</td>\n",
       "      <td>E</td>\n",
       "      <td>51ST ST</td>\n",
       "      <td>224.0</td>\n",
       "      <td>NaN</td>\n",
       "      <td>NaN</td>\n",
       "      <td>NaN</td>\n",
       "      <td>NaN</td>\n",
       "      <td>NaN</td>\n",
       "      <td>NaN</td>\n",
       "      <td>2</td>\n",
       "      <td>NO INDICATION OF INJURY</td>\n",
       "      <td>0.0</td>\n",
       "      <td>0.0</td>\n",
       "      <td>0.0</td>\n",
       "      <td>0.0</td>\n",
       "      <td>0.0</td>\n",
       "      <td>3.0</td>\n",
       "      <td>0.0</td>\n",
       "      <td>1</td>\n",
       "      <td>7</td>\n",
       "      <td>7</td>\n",
       "      <td>41.802119</td>\n",
       "      <td>-87.622115</td>\n",
       "      <td>POINT (-87.622114914961 41.802118543011)</td>\n",
       "    </tr>\n",
       "    <tr>\n",
       "      <th>4</th>\n",
       "      <td>8eaa2678d1a127804ee9b8c35ddf7d63d913c14eda61d6...</td>\n",
       "      <td>JD290451</td>\n",
       "      <td>NaN</td>\n",
       "      <td>07/08/2020 02:00:00 PM</td>\n",
       "      <td>20</td>\n",
       "      <td>NO CONTROLS</td>\n",
       "      <td>NO CONTROLS</td>\n",
       "      <td>CLEAR</td>\n",
       "      <td>DAYLIGHT</td>\n",
       "      <td>PARKED MOTOR VEHICLE</td>\n",
       "      <td>DRIVEWAY</td>\n",
       "      <td>NaN</td>\n",
       "      <td>STRAIGHT AND LEVEL</td>\n",
       "      <td>DRY</td>\n",
       "      <td>NO DEFECTS</td>\n",
       "      <td>ON SCENE</td>\n",
       "      <td>NO INJURY / DRIVE AWAY</td>\n",
       "      <td>NaN</td>\n",
       "      <td>NaN</td>\n",
       "      <td>NaN</td>\n",
       "      <td>OVER $1,500</td>\n",
       "      <td>07/08/2020 02:15:00 PM</td>\n",
       "      <td>UNABLE TO DETERMINE</td>\n",
       "      <td>UNABLE TO DETERMINE</td>\n",
       "      <td>412</td>\n",
       "      <td>W</td>\n",
       "      <td>OHARE ST</td>\n",
       "      <td>1654.0</td>\n",
       "      <td>NaN</td>\n",
       "      <td>NaN</td>\n",
       "      <td>NaN</td>\n",
       "      <td>NaN</td>\n",
       "      <td>NaN</td>\n",
       "      <td>NaN</td>\n",
       "      <td>2</td>\n",
       "      <td>NO INDICATION OF INJURY</td>\n",
       "      <td>0.0</td>\n",
       "      <td>0.0</td>\n",
       "      <td>0.0</td>\n",
       "      <td>0.0</td>\n",
       "      <td>0.0</td>\n",
       "      <td>1.0</td>\n",
       "      <td>0.0</td>\n",
       "      <td>14</td>\n",
       "      <td>4</td>\n",
       "      <td>7</td>\n",
       "      <td>NaN</td>\n",
       "      <td>NaN</td>\n",
       "      <td>NaN</td>\n",
       "    </tr>\n",
       "  </tbody>\n",
       "</table>\n",
       "</div>"
      ],
      "text/plain": [
       "                                     CRASH_RECORD_ID     RD_NO CRASH_DATE_EST_I              CRASH_DATE  POSTED_SPEED_LIMIT TRAFFIC_CONTROL_DEVICE      DEVICE_CONDITION WEATHER_CONDITION LIGHTING_CONDITION      FIRST_CRASH_TYPE                  TRAFFICWAY_TYPE  LANE_CNT           ALIGNMENT ROADWAY_SURFACE_COND ROAD_DEFECT                 REPORT_TYPE                        CRASH_TYPE INTERSECTION_RELATED_I NOT_RIGHT_OF_WAY_I HIT_AND_RUN_I        DAMAGE    DATE_POLICE_NOTIFIED        PRIM_CONTRIBUTORY_CAUSE         SEC_CONTRIBUTORY_CAUSE  STREET_NO STREET_DIRECTION  STREET_NAME  BEAT_OF_OCCURRENCE PHOTOS_TAKEN_I STATEMENTS_TAKEN_I DOORING_I WORK_ZONE_I WORK_ZONE_TYPE WORKERS_PRESENT_I  NUM_UNITS       MOST_SEVERE_INJURY  INJURIES_TOTAL  INJURIES_FATAL  INJURIES_INCAPACITATING  INJURIES_NON_INCAPACITATING  INJURIES_REPORTED_NOT_EVIDENT  INJURIES_NO_INDICATION  INJURIES_UNKNOWN  CRASH_HOUR  CRASH_DAY_OF_WEEK  CRASH_MONTH   LATITUDE  LONGITUDE                                  LOCATION\n",
       "0  4fd0a3e0897b3335b94cd8d5b2d2b350eb691add56c62d...  JC343143              NaN  07/10/2019 05:56:00 PM                  35            NO CONTROLS           NO CONTROLS             CLEAR           DAYLIGHT               TURNING                          ONE-WAY       NaN  STRAIGHT AND LEVEL                  DRY  NO DEFECTS                    ON SCENE            NO INJURY / DRIVE AWAY                    NaN                NaN           NaN   OVER $1,500  07/10/2019 06:16:00 PM               IMPROPER BACKING            UNABLE TO DETERMINE       2158                N  MARMORA AVE              2515.0            NaN                NaN       NaN         NaN            NaN               NaN          2  NO INDICATION OF INJURY             0.0             0.0                      0.0                          0.0                            0.0                     3.0               0.0          17                  4            7  41.919664 -87.773288  POINT (-87.773287883007 41.919663832993)\n",
       "1  009e9e67203442370272e1a13d6ee51a4155dac65e583d...  JA329216              NaN  06/30/2017 04:00:00 PM                  35      STOP SIGN/FLASHER  FUNCTIONING PROPERLY             CLEAR           DAYLIGHT               TURNING                      NOT DIVIDED       4.0  STRAIGHT AND LEVEL                  DRY  NO DEFECTS                    ON SCENE  INJURY AND / OR TOW DUE TO CRASH                      Y                NaN           NaN   OVER $1,500  06/30/2017 04:01:00 PM  FAILING TO YIELD RIGHT-OF-WAY                 NOT APPLICABLE       8301                S   CICERO AVE               834.0            NaN                NaN       NaN         NaN            NaN               NaN          2  NO INDICATION OF INJURY             0.0             0.0                      0.0                          0.0                            0.0                     3.0               0.0          16                  6            6  41.741804 -87.740954  POINT (-87.740953581987 41.741803598989)\n",
       "2  ee9283eff3a55ac50ee58f3d9528ce1d689b1c4180b4c4...  JD292400              NaN  07/10/2020 10:25:00 AM                  30         TRAFFIC SIGNAL  FUNCTIONING PROPERLY             CLEAR           DAYLIGHT              REAR END                         FOUR WAY       NaN  STRAIGHT AND LEVEL                  DRY  NO DEFECTS                    ON SCENE            NO INJURY / DRIVE AWAY                    NaN                NaN           NaN   OVER $1,500  07/10/2020 10:25:00 AM  FAILING TO YIELD RIGHT-OF-WAY  FAILING TO YIELD RIGHT-OF-WAY       1632                E      67TH ST               331.0            NaN                NaN       NaN         NaN            NaN               NaN          3  NO INDICATION OF INJURY             0.0             0.0                      0.0                          0.0                            0.0                     3.0               0.0          10                  6            7  41.773456 -87.585022  POINT (-87.585022352022 41.773455972008)\n",
       "3  f8960f698e870ebdc60b521b2a141a5395556bc3704191...  JD293602              NaN  07/11/2020 01:00:00 AM                  30            NO CONTROLS           NO CONTROLS             CLEAR           DARKNESS  PARKED MOTOR VEHICLE  DIVIDED - W/MEDIAN (NOT RAISED)       NaN  STRAIGHT AND LEVEL                  DRY  NO DEFECTS  NOT ON SCENE (DESK REPORT)            NO INJURY / DRIVE AWAY                    NaN                NaN             Y  $500 OR LESS  07/11/2020 08:30:00 AM            UNABLE TO DETERMINE            UNABLE TO DETERMINE        110                E      51ST ST               224.0            NaN                NaN       NaN         NaN            NaN               NaN          2  NO INDICATION OF INJURY             0.0             0.0                      0.0                          0.0                            0.0                     3.0               0.0           1                  7            7  41.802119 -87.622115  POINT (-87.622114914961 41.802118543011)\n",
       "4  8eaa2678d1a127804ee9b8c35ddf7d63d913c14eda61d6...  JD290451              NaN  07/08/2020 02:00:00 PM                  20            NO CONTROLS           NO CONTROLS             CLEAR           DAYLIGHT  PARKED MOTOR VEHICLE                         DRIVEWAY       NaN  STRAIGHT AND LEVEL                  DRY  NO DEFECTS                    ON SCENE            NO INJURY / DRIVE AWAY                    NaN                NaN           NaN   OVER $1,500  07/08/2020 02:15:00 PM            UNABLE TO DETERMINE            UNABLE TO DETERMINE        412                W     OHARE ST              1654.0            NaN                NaN       NaN         NaN            NaN               NaN          2  NO INDICATION OF INJURY             0.0             0.0                      0.0                          0.0                            0.0                     1.0               0.0          14                  4            7        NaN        NaN                                       NaN"
      ]
     },
     "metadata": {},
     "output_type": "display_data"
    },
    {
     "data": {
      "text/plain": [
       "(471122, 49)"
      ]
     },
     "execution_count": 55,
     "metadata": {},
     "output_type": "execute_result"
    }
   ],
   "source": [
    "display(Crashes.info())\n",
    "display(Crashes.head())\n",
    "Crashes.shape"
   ]
  },
  {
   "cell_type": "code",
   "execution_count": null,
   "id": "decimal-teens",
   "metadata": {},
   "outputs": [],
   "source": []
  },
  {
   "cell_type": "code",
   "execution_count": 56,
   "id": "surprised-creation",
   "metadata": {},
   "outputs": [
    {
     "data": {
      "application/javascript": [
       "\n",
       "        if (window._pyforest_update_imports_cell) { window._pyforest_update_imports_cell('import numpy as np\\nimport seaborn as sns\\nimport matplotlib.pyplot as plt\\nimport pandas as pd'); }\n",
       "    "
      ],
      "text/plain": [
       "<IPython.core.display.Javascript object>"
      ]
     },
     "metadata": {},
     "output_type": "display_data"
    },
    {
     "data": {
      "application/javascript": [
       "\n",
       "        if (window._pyforest_update_imports_cell) { window._pyforest_update_imports_cell('import numpy as np\\nimport seaborn as sns\\nimport matplotlib.pyplot as plt\\nimport pandas as pd'); }\n",
       "    "
      ],
      "text/plain": [
       "<IPython.core.display.Javascript object>"
      ]
     },
     "metadata": {},
     "output_type": "display_data"
    },
    {
     "data": {
      "application/javascript": [
       "\n",
       "        if (window._pyforest_update_imports_cell) { window._pyforest_update_imports_cell('import numpy as np\\nimport seaborn as sns\\nimport matplotlib.pyplot as plt\\nimport pandas as pd'); }\n",
       "    "
      ],
      "text/plain": [
       "<IPython.core.display.Javascript object>"
      ]
     },
     "metadata": {},
     "output_type": "display_data"
    },
    {
     "data": {
      "image/png": "[encoded data removed]",
      "text/plain": [
       "<Figure size 720x720 with 1 Axes>"
      ]
     },
     "metadata": {
      "needs_background": "light"
     },
     "output_type": "display_data"
    }
   ],
   "source": [
    "\n",
    "title = 'Primary reasons there was a crash'\n",
    "y1 = ''\n",
    "x1 = 'Total amount'\n",
    "Graph(Crashes,None ,'PRIM_CONTRIBUTORY_CAUSE','countplot',title,y1,x1,(10,10))\n",
    "\n"
   ]
  },
  {
   "cell_type": "code",
   "execution_count": 57,
   "id": "sitting-jimmy",
   "metadata": {},
   "outputs": [
    {
     "data": {
      "application/javascript": [
       "\n",
       "        if (window._pyforest_update_imports_cell) { window._pyforest_update_imports_cell('import numpy as np\\nimport seaborn as sns\\nimport matplotlib.pyplot as plt\\nimport pandas as pd'); }\n",
       "    "
      ],
      "text/plain": [
       "<IPython.core.display.Javascript object>"
      ]
     },
     "metadata": {},
     "output_type": "display_data"
    },
    {
     "data": {
      "application/javascript": [
       "\n",
       "        if (window._pyforest_update_imports_cell) { window._pyforest_update_imports_cell('import numpy as np\\nimport seaborn as sns\\nimport matplotlib.pyplot as plt\\nimport pandas as pd'); }\n",
       "    "
      ],
      "text/plain": [
       "<IPython.core.display.Javascript object>"
      ]
     },
     "metadata": {},
     "output_type": "display_data"
    },
    {
     "data": {
      "application/javascript": [
       "\n",
       "        if (window._pyforest_update_imports_cell) { window._pyforest_update_imports_cell('import numpy as np\\nimport seaborn as sns\\nimport matplotlib.pyplot as plt\\nimport pandas as pd'); }\n",
       "    "
      ],
      "text/plain": [
       "<IPython.core.display.Javascript object>"
      ]
     },
     "metadata": {},
     "output_type": "display_data"
    },
    {
     "data": {
      "image/png": "[encoded data removed]",
      "text/plain": [
       "<Figure size 720x720 with 1 Axes>"
      ]
     },
     "metadata": {
      "needs_background": "light"
     },
     "output_type": "display_data"
    }
   ],
   "source": [
    "title = 'Secondary reasons there was a crash'\n",
    "y1 = ''\n",
    "x1 = 'Total amount'\n",
    "Graph(Crashes,None ,'SEC_CONTRIBUTORY_CAUSE','countplot',title,y1,x1,(10,10))"
   ]
  },
  {
   "cell_type": "markdown",
   "id": "behind-turner",
   "metadata": {},
   "source": [
    "### Vehicles:\n",
    "Dataset Location: https://data.cityofchicago.org/Transportation/Traffic-Crashes-Vehicles/68nd-jvt3"
   ]
  },
  {
   "cell_type": "code",
   "execution_count": 58,
   "id": "worldwide-comfort",
   "metadata": {},
   "outputs": [
    {
     "name": "stdout",
     "output_type": "stream",
     "text": [
      "<class 'pandas.core.frame.DataFrame'>\n",
      "RangeIndex: 963888 entries, 0 to 963887\n",
      "Data columns (total 72 columns):\n",
      " #   Column                    Non-Null Count   Dtype  \n",
      "---  ------                    --------------   -----  \n",
      " 0   CRASH_UNIT_ID             963888 non-null  int64  \n",
      " 1   CRASH_RECORD_ID           963888 non-null  object \n",
      " 2   RD_NO                     957106 non-null  object \n",
      " 3   CRASH_DATE                963888 non-null  object \n",
      " 4   UNIT_NO                   963888 non-null  int64  \n",
      " 5   UNIT_TYPE                 962443 non-null  object \n",
      " 6   NUM_PASSENGERS            144790 non-null  float64\n",
      " 7   VEHICLE_ID                941455 non-null  float64\n",
      " 8   CMRC_VEH_I                17882 non-null   object \n",
      " 9   MAKE                      941450 non-null  object \n",
      " 10  MODEL                     941308 non-null  object \n",
      " 11  LIC_PLATE_STATE           862168 non-null  object \n",
      " 12  VEHICLE_YEAR              789522 non-null  float64\n",
      " 13  VEHICLE_DEFECT            941455 non-null  object \n",
      " 14  VEHICLE_TYPE              941455 non-null  object \n",
      " 15  VEHICLE_USE               941455 non-null  object \n",
      " 16  TRAVEL_DIRECTION          941455 non-null  object \n",
      " 17  MANEUVER                  941455 non-null  object \n",
      " 18  TOWED_I                   108167 non-null  object \n",
      " 19  FIRE_I                    693 non-null     object \n",
      " 20  OCCUPANT_CNT              941455 non-null  float64\n",
      " 21  EXCEED_SPEED_LIMIT_I      2387 non-null    object \n",
      " 22  TOWED_BY                  78893 non-null   object \n",
      " 23  TOWED_TO                  49533 non-null   object \n",
      " 24  AREA_00_I                 37720 non-null   object \n",
      " 25  AREA_01_I                 250024 non-null  object \n",
      " 26  AREA_02_I                 166196 non-null  object \n",
      " 27  AREA_03_I                 91584 non-null   object \n",
      " 28  AREA_04_I                 96877 non-null   object \n",
      " 29  AREA_05_I                 146820 non-null  object \n",
      " 30  AREA_06_I                 144206 non-null  object \n",
      " 31  AREA_07_I                 123318 non-null  object \n",
      " 32  AREA_08_I                 164272 non-null  object \n",
      " 33  AREA_09_I                 37724 non-null   object \n",
      " 34  AREA_10_I                 54794 non-null   object \n",
      " 35  AREA_11_I                 109412 non-null  object \n",
      " 36  AREA_12_I                 107586 non-null  object \n",
      " 37  AREA_99_I                 100629 non-null  object \n",
      " 38  FIRST_CONTACT_POINT       935467 non-null  object \n",
      " 39  CMV_ID                    10232 non-null   float64\n",
      " 40  USDOT_NO                  5977 non-null    object \n",
      " 41  CCMC_NO                   1338 non-null    object \n",
      " 42  ILCC_NO                   969 non-null     object \n",
      " 43  COMMERCIAL_SRC            7354 non-null    object \n",
      " 44  GVWR                      5949 non-null    object \n",
      " 45  CARRIER_NAME              9814 non-null    object \n",
      " 46  CARRIER_STATE             9280 non-null    object \n",
      " 47  CARRIER_CITY              9116 non-null    object \n",
      " 48  HAZMAT_PLACARDS_I         209 non-null     object \n",
      " 49  HAZMAT_NAME               39 non-null      object \n",
      " 50  UN_NO                     381 non-null     object \n",
      " 51  HAZMAT_PRESENT_I          7535 non-null    object \n",
      " 52  HAZMAT_REPORT_I           7305 non-null    object \n",
      " 53  HAZMAT_REPORT_NO          1 non-null       object \n",
      " 54  MCS_REPORT_I              7354 non-null    object \n",
      " 55  MCS_REPORT_NO             5 non-null       object \n",
      " 56  HAZMAT_VIO_CAUSE_CRASH_I  7417 non-null    object \n",
      " 57  MCS_VIO_CAUSE_CRASH_I     7295 non-null    object \n",
      " 58  IDOT_PERMIT_NO            611 non-null     object \n",
      " 59  WIDE_LOAD_I               90 non-null      object \n",
      " 60  TRAILER1_WIDTH            2124 non-null    object \n",
      " 61  TRAILER2_WIDTH            237 non-null     object \n",
      " 62  TRAILER1_LENGTH           1732 non-null    float64\n",
      " 63  TRAILER2_LENGTH           47 non-null      float64\n",
      " 64  TOTAL_VEHICLE_LENGTH      2099 non-null    float64\n",
      " 65  AXLE_CNT                  2992 non-null    float64\n",
      " 66  VEHICLE_CONFIG            8528 non-null    object \n",
      " 67  CARGO_BODY_TYPE           8160 non-null    object \n",
      " 68  LOAD_TYPE                 7816 non-null    object \n",
      " 69  HAZMAT_OUT_OF_SERVICE_I   7093 non-null    object \n",
      " 70  MCS_OUT_OF_SERVICE_I      7290 non-null    object \n",
      " 71  HAZMAT_CLASS              704 non-null     object \n",
      "dtypes: float64(9), int64(2), object(61)\n",
      "memory usage: 529.5+ MB\n"
     ]
    },
    {
     "data": {
      "text/plain": [
       "None"
      ]
     },
     "metadata": {},
     "output_type": "display_data"
    },
    {
     "data": {
      "text/html": [
       "<div>\n",
       "<style scoped>\n",
       "    .dataframe tbody tr th:only-of-type {\n",
       "        vertical-align: middle;\n",
       "    }\n",
       "\n",
       "    .dataframe tbody tr th {\n",
       "        vertical-align: top;\n",
       "    }\n",
       "\n",
       "    .dataframe thead th {\n",
       "        text-align: right;\n",
       "    }\n",
       "</style>\n",
       "<table border=\"1\" class=\"dataframe\">\n",
       "  <thead>\n",
       "    <tr style=\"text-align: right;\">\n",
       "      <th></th>\n",
       "      <th>CRASH_UNIT_ID</th>\n",
       "      <th>CRASH_RECORD_ID</th>\n",
       "      <th>RD_NO</th>\n",
       "      <th>CRASH_DATE</th>\n",
       "      <th>UNIT_NO</th>\n",
       "      <th>UNIT_TYPE</th>\n",
       "      <th>NUM_PASSENGERS</th>\n",
       "      <th>VEHICLE_ID</th>\n",
       "      <th>CMRC_VEH_I</th>\n",
       "      <th>MAKE</th>\n",
       "      <th>MODEL</th>\n",
       "      <th>LIC_PLATE_STATE</th>\n",
       "      <th>VEHICLE_YEAR</th>\n",
       "      <th>VEHICLE_DEFECT</th>\n",
       "      <th>VEHICLE_TYPE</th>\n",
       "      <th>VEHICLE_USE</th>\n",
       "      <th>TRAVEL_DIRECTION</th>\n",
       "      <th>MANEUVER</th>\n",
       "      <th>TOWED_I</th>\n",
       "      <th>FIRE_I</th>\n",
       "      <th>OCCUPANT_CNT</th>\n",
       "      <th>EXCEED_SPEED_LIMIT_I</th>\n",
       "      <th>TOWED_BY</th>\n",
       "      <th>TOWED_TO</th>\n",
       "      <th>AREA_00_I</th>\n",
       "      <th>AREA_01_I</th>\n",
       "      <th>AREA_02_I</th>\n",
       "      <th>AREA_03_I</th>\n",
       "      <th>AREA_04_I</th>\n",
       "      <th>AREA_05_I</th>\n",
       "      <th>AREA_06_I</th>\n",
       "      <th>AREA_07_I</th>\n",
       "      <th>AREA_08_I</th>\n",
       "      <th>AREA_09_I</th>\n",
       "      <th>AREA_10_I</th>\n",
       "      <th>AREA_11_I</th>\n",
       "      <th>AREA_12_I</th>\n",
       "      <th>AREA_99_I</th>\n",
       "      <th>FIRST_CONTACT_POINT</th>\n",
       "      <th>CMV_ID</th>\n",
       "      <th>USDOT_NO</th>\n",
       "      <th>CCMC_NO</th>\n",
       "      <th>ILCC_NO</th>\n",
       "      <th>COMMERCIAL_SRC</th>\n",
       "      <th>GVWR</th>\n",
       "      <th>CARRIER_NAME</th>\n",
       "      <th>CARRIER_STATE</th>\n",
       "      <th>CARRIER_CITY</th>\n",
       "      <th>HAZMAT_PLACARDS_I</th>\n",
       "      <th>HAZMAT_NAME</th>\n",
       "      <th>UN_NO</th>\n",
       "      <th>HAZMAT_PRESENT_I</th>\n",
       "      <th>HAZMAT_REPORT_I</th>\n",
       "      <th>HAZMAT_REPORT_NO</th>\n",
       "      <th>MCS_REPORT_I</th>\n",
       "      <th>MCS_REPORT_NO</th>\n",
       "      <th>HAZMAT_VIO_CAUSE_CRASH_I</th>\n",
       "      <th>MCS_VIO_CAUSE_CRASH_I</th>\n",
       "      <th>IDOT_PERMIT_NO</th>\n",
       "      <th>WIDE_LOAD_I</th>\n",
       "      <th>TRAILER1_WIDTH</th>\n",
       "      <th>TRAILER2_WIDTH</th>\n",
       "      <th>TRAILER1_LENGTH</th>\n",
       "      <th>TRAILER2_LENGTH</th>\n",
       "      <th>TOTAL_VEHICLE_LENGTH</th>\n",
       "      <th>AXLE_CNT</th>\n",
       "      <th>VEHICLE_CONFIG</th>\n",
       "      <th>CARGO_BODY_TYPE</th>\n",
       "      <th>LOAD_TYPE</th>\n",
       "      <th>HAZMAT_OUT_OF_SERVICE_I</th>\n",
       "      <th>MCS_OUT_OF_SERVICE_I</th>\n",
       "      <th>HAZMAT_CLASS</th>\n",
       "    </tr>\n",
       "  </thead>\n",
       "  <tbody>\n",
       "    <tr>\n",
       "      <th>0</th>\n",
       "      <td>829999</td>\n",
       "      <td>24ddf9fd8542199d832e1c223cc474e5601b356f1d77a6...</td>\n",
       "      <td>JD124535</td>\n",
       "      <td>01/22/2020 06:25:00 AM</td>\n",
       "      <td>1</td>\n",
       "      <td>DRIVER</td>\n",
       "      <td>NaN</td>\n",
       "      <td>796949.0</td>\n",
       "      <td>NaN</td>\n",
       "      <td>INFINITI</td>\n",
       "      <td>UNKNOWN</td>\n",
       "      <td>IL</td>\n",
       "      <td>2017.0</td>\n",
       "      <td>NONE</td>\n",
       "      <td>PASSENGER</td>\n",
       "      <td>PERSONAL</td>\n",
       "      <td>N</td>\n",
       "      <td>STRAIGHT AHEAD</td>\n",
       "      <td>NaN</td>\n",
       "      <td>NaN</td>\n",
       "      <td>1.0</td>\n",
       "      <td>NaN</td>\n",
       "      <td>NaN</td>\n",
       "      <td>NaN</td>\n",
       "      <td>NaN</td>\n",
       "      <td>Y</td>\n",
       "      <td>Y</td>\n",
       "      <td>NaN</td>\n",
       "      <td>NaN</td>\n",
       "      <td>NaN</td>\n",
       "      <td>NaN</td>\n",
       "      <td>NaN</td>\n",
       "      <td>NaN</td>\n",
       "      <td>NaN</td>\n",
       "      <td>NaN</td>\n",
       "      <td>NaN</td>\n",
       "      <td>NaN</td>\n",
       "      <td>NaN</td>\n",
       "      <td>FRONT</td>\n",
       "      <td>NaN</td>\n",
       "      <td>NaN</td>\n",
       "      <td>NaN</td>\n",
       "      <td>NaN</td>\n",
       "      <td>NaN</td>\n",
       "      <td>NaN</td>\n",
       "      <td>NaN</td>\n",
       "      <td>NaN</td>\n",
       "      <td>NaN</td>\n",
       "      <td>NaN</td>\n",
       "      <td>NaN</td>\n",
       "      <td>NaN</td>\n",
       "      <td>NaN</td>\n",
       "      <td>NaN</td>\n",
       "      <td>NaN</td>\n",
       "      <td>NaN</td>\n",
       "      <td>NaN</td>\n",
       "      <td>NaN</td>\n",
       "      <td>NaN</td>\n",
       "      <td>NaN</td>\n",
       "      <td>NaN</td>\n",
       "      <td>NaN</td>\n",
       "      <td>NaN</td>\n",
       "      <td>NaN</td>\n",
       "      <td>NaN</td>\n",
       "      <td>NaN</td>\n",
       "      <td>NaN</td>\n",
       "      <td>NaN</td>\n",
       "      <td>NaN</td>\n",
       "      <td>NaN</td>\n",
       "      <td>NaN</td>\n",
       "      <td>NaN</td>\n",
       "      <td>NaN</td>\n",
       "    </tr>\n",
       "    <tr>\n",
       "      <th>1</th>\n",
       "      <td>749947</td>\n",
       "      <td>81dc0de2ed92aa62baccab641fa377be7feb1cc47e6554...</td>\n",
       "      <td>JC451435</td>\n",
       "      <td>09/28/2019 03:30:00 AM</td>\n",
       "      <td>1</td>\n",
       "      <td>DRIVER</td>\n",
       "      <td>NaN</td>\n",
       "      <td>834816.0</td>\n",
       "      <td>NaN</td>\n",
       "      <td>HONDA</td>\n",
       "      <td>CIVIC</td>\n",
       "      <td>IL</td>\n",
       "      <td>2016.0</td>\n",
       "      <td>UNKNOWN</td>\n",
       "      <td>PASSENGER</td>\n",
       "      <td>PERSONAL</td>\n",
       "      <td>N</td>\n",
       "      <td>STRAIGHT AHEAD</td>\n",
       "      <td>NaN</td>\n",
       "      <td>NaN</td>\n",
       "      <td>1.0</td>\n",
       "      <td>NaN</td>\n",
       "      <td>NaN</td>\n",
       "      <td>NaN</td>\n",
       "      <td>NaN</td>\n",
       "      <td>Y</td>\n",
       "      <td>NaN</td>\n",
       "      <td>NaN</td>\n",
       "      <td>NaN</td>\n",
       "      <td>NaN</td>\n",
       "      <td>NaN</td>\n",
       "      <td>NaN</td>\n",
       "      <td>NaN</td>\n",
       "      <td>NaN</td>\n",
       "      <td>NaN</td>\n",
       "      <td>NaN</td>\n",
       "      <td>NaN</td>\n",
       "      <td>NaN</td>\n",
       "      <td>FRONT</td>\n",
       "      <td>NaN</td>\n",
       "      <td>NaN</td>\n",
       "      <td>NaN</td>\n",
       "      <td>NaN</td>\n",
       "      <td>NaN</td>\n",
       "      <td>NaN</td>\n",
       "      <td>NaN</td>\n",
       "      <td>NaN</td>\n",
       "      <td>NaN</td>\n",
       "      <td>NaN</td>\n",
       "      <td>NaN</td>\n",
       "      <td>NaN</td>\n",
       "      <td>NaN</td>\n",
       "      <td>NaN</td>\n",
       "      <td>NaN</td>\n",
       "      <td>NaN</td>\n",
       "      <td>NaN</td>\n",
       "      <td>NaN</td>\n",
       "      <td>NaN</td>\n",
       "      <td>NaN</td>\n",
       "      <td>NaN</td>\n",
       "      <td>NaN</td>\n",
       "      <td>NaN</td>\n",
       "      <td>NaN</td>\n",
       "      <td>NaN</td>\n",
       "      <td>NaN</td>\n",
       "      <td>NaN</td>\n",
       "      <td>NaN</td>\n",
       "      <td>NaN</td>\n",
       "      <td>NaN</td>\n",
       "      <td>NaN</td>\n",
       "      <td>NaN</td>\n",
       "      <td>NaN</td>\n",
       "    </tr>\n",
       "    <tr>\n",
       "      <th>2</th>\n",
       "      <td>749949</td>\n",
       "      <td>81dc0de2ed92aa62baccab641fa377be7feb1cc47e6554...</td>\n",
       "      <td>JC451435</td>\n",
       "      <td>09/28/2019 03:30:00 AM</td>\n",
       "      <td>2</td>\n",
       "      <td>PARKED</td>\n",
       "      <td>NaN</td>\n",
       "      <td>834819.0</td>\n",
       "      <td>NaN</td>\n",
       "      <td>TOYOTA</td>\n",
       "      <td>YARIS</td>\n",
       "      <td>IL</td>\n",
       "      <td>2010.0</td>\n",
       "      <td>NONE</td>\n",
       "      <td>UNKNOWN/NA</td>\n",
       "      <td>PERSONAL</td>\n",
       "      <td>N</td>\n",
       "      <td>PARKED</td>\n",
       "      <td>NaN</td>\n",
       "      <td>NaN</td>\n",
       "      <td>0.0</td>\n",
       "      <td>NaN</td>\n",
       "      <td>NaN</td>\n",
       "      <td>NaN</td>\n",
       "      <td>NaN</td>\n",
       "      <td>NaN</td>\n",
       "      <td>NaN</td>\n",
       "      <td>NaN</td>\n",
       "      <td>NaN</td>\n",
       "      <td>NaN</td>\n",
       "      <td>NaN</td>\n",
       "      <td>NaN</td>\n",
       "      <td>NaN</td>\n",
       "      <td>Y</td>\n",
       "      <td>NaN</td>\n",
       "      <td>NaN</td>\n",
       "      <td>NaN</td>\n",
       "      <td>NaN</td>\n",
       "      <td>ROOF</td>\n",
       "      <td>NaN</td>\n",
       "      <td>NaN</td>\n",
       "      <td>NaN</td>\n",
       "      <td>NaN</td>\n",
       "      <td>NaN</td>\n",
       "      <td>NaN</td>\n",
       "      <td>NaN</td>\n",
       "      <td>NaN</td>\n",
       "      <td>NaN</td>\n",
       "      <td>NaN</td>\n",
       "      <td>NaN</td>\n",
       "      <td>NaN</td>\n",
       "      <td>NaN</td>\n",
       "      <td>NaN</td>\n",
       "      <td>NaN</td>\n",
       "      <td>NaN</td>\n",
       "      <td>NaN</td>\n",
       "      <td>NaN</td>\n",
       "      <td>NaN</td>\n",
       "      <td>NaN</td>\n",
       "      <td>NaN</td>\n",
       "      <td>NaN</td>\n",
       "      <td>NaN</td>\n",
       "      <td>NaN</td>\n",
       "      <td>NaN</td>\n",
       "      <td>NaN</td>\n",
       "      <td>NaN</td>\n",
       "      <td>NaN</td>\n",
       "      <td>NaN</td>\n",
       "      <td>NaN</td>\n",
       "      <td>NaN</td>\n",
       "      <td>NaN</td>\n",
       "      <td>NaN</td>\n",
       "    </tr>\n",
       "    <tr>\n",
       "      <th>3</th>\n",
       "      <td>749950</td>\n",
       "      <td>81dc0de2ed92aa62baccab641fa377be7feb1cc47e6554...</td>\n",
       "      <td>JC451435</td>\n",
       "      <td>09/28/2019 03:30:00 AM</td>\n",
       "      <td>3</td>\n",
       "      <td>PARKED</td>\n",
       "      <td>NaN</td>\n",
       "      <td>834817.0</td>\n",
       "      <td>NaN</td>\n",
       "      <td>GENERAL MOTORS CORPORATION (GMC)</td>\n",
       "      <td>SIERRA</td>\n",
       "      <td>IL</td>\n",
       "      <td>2008.0</td>\n",
       "      <td>UNKNOWN</td>\n",
       "      <td>UNKNOWN/NA</td>\n",
       "      <td>UNKNOWN/NA</td>\n",
       "      <td>N</td>\n",
       "      <td>PARKED</td>\n",
       "      <td>NaN</td>\n",
       "      <td>NaN</td>\n",
       "      <td>0.0</td>\n",
       "      <td>NaN</td>\n",
       "      <td>NaN</td>\n",
       "      <td>NaN</td>\n",
       "      <td>NaN</td>\n",
       "      <td>NaN</td>\n",
       "      <td>NaN</td>\n",
       "      <td>NaN</td>\n",
       "      <td>NaN</td>\n",
       "      <td>NaN</td>\n",
       "      <td>NaN</td>\n",
       "      <td>NaN</td>\n",
       "      <td>NaN</td>\n",
       "      <td>Y</td>\n",
       "      <td>NaN</td>\n",
       "      <td>NaN</td>\n",
       "      <td>NaN</td>\n",
       "      <td>NaN</td>\n",
       "      <td>ROOF</td>\n",
       "      <td>NaN</td>\n",
       "      <td>NaN</td>\n",
       "      <td>NaN</td>\n",
       "      <td>NaN</td>\n",
       "      <td>NaN</td>\n",
       "      <td>NaN</td>\n",
       "      <td>NaN</td>\n",
       "      <td>NaN</td>\n",
       "      <td>NaN</td>\n",
       "      <td>NaN</td>\n",
       "      <td>NaN</td>\n",
       "      <td>NaN</td>\n",
       "      <td>NaN</td>\n",
       "      <td>NaN</td>\n",
       "      <td>NaN</td>\n",
       "      <td>NaN</td>\n",
       "      <td>NaN</td>\n",
       "      <td>NaN</td>\n",
       "      <td>NaN</td>\n",
       "      <td>NaN</td>\n",
       "      <td>NaN</td>\n",
       "      <td>NaN</td>\n",
       "      <td>NaN</td>\n",
       "      <td>NaN</td>\n",
       "      <td>NaN</td>\n",
       "      <td>NaN</td>\n",
       "      <td>NaN</td>\n",
       "      <td>NaN</td>\n",
       "      <td>NaN</td>\n",
       "      <td>NaN</td>\n",
       "      <td>NaN</td>\n",
       "      <td>NaN</td>\n",
       "      <td>NaN</td>\n",
       "    </tr>\n",
       "    <tr>\n",
       "      <th>4</th>\n",
       "      <td>871921</td>\n",
       "      <td>af84fb5c8d996fcd3aefd36593c3a02e6e7509eeb27568...</td>\n",
       "      <td>JD208731</td>\n",
       "      <td>04/13/2020 10:50:00 PM</td>\n",
       "      <td>2</td>\n",
       "      <td>DRIVER</td>\n",
       "      <td>NaN</td>\n",
       "      <td>827212.0</td>\n",
       "      <td>NaN</td>\n",
       "      <td>BUICK</td>\n",
       "      <td>ENCORE</td>\n",
       "      <td>IL</td>\n",
       "      <td>NaN</td>\n",
       "      <td>NONE</td>\n",
       "      <td>PASSENGER</td>\n",
       "      <td>PERSONAL</td>\n",
       "      <td>W</td>\n",
       "      <td>STRAIGHT AHEAD</td>\n",
       "      <td>NaN</td>\n",
       "      <td>NaN</td>\n",
       "      <td>1.0</td>\n",
       "      <td>NaN</td>\n",
       "      <td>NaN</td>\n",
       "      <td>NaN</td>\n",
       "      <td>NaN</td>\n",
       "      <td>NaN</td>\n",
       "      <td>NaN</td>\n",
       "      <td>Y</td>\n",
       "      <td>NaN</td>\n",
       "      <td>NaN</td>\n",
       "      <td>NaN</td>\n",
       "      <td>NaN</td>\n",
       "      <td>NaN</td>\n",
       "      <td>NaN</td>\n",
       "      <td>NaN</td>\n",
       "      <td>NaN</td>\n",
       "      <td>NaN</td>\n",
       "      <td>NaN</td>\n",
       "      <td>FRONT-RIGHT</td>\n",
       "      <td>NaN</td>\n",
       "      <td>NaN</td>\n",
       "      <td>NaN</td>\n",
       "      <td>NaN</td>\n",
       "      <td>NaN</td>\n",
       "      <td>NaN</td>\n",
       "      <td>NaN</td>\n",
       "      <td>NaN</td>\n",
       "      <td>NaN</td>\n",
       "      <td>NaN</td>\n",
       "      <td>NaN</td>\n",
       "      <td>NaN</td>\n",
       "      <td>NaN</td>\n",
       "      <td>NaN</td>\n",
       "      <td>NaN</td>\n",
       "      <td>NaN</td>\n",
       "      <td>NaN</td>\n",
       "      <td>NaN</td>\n",
       "      <td>NaN</td>\n",
       "      <td>NaN</td>\n",
       "      <td>NaN</td>\n",
       "      <td>NaN</td>\n",
       "      <td>NaN</td>\n",
       "      <td>NaN</td>\n",
       "      <td>NaN</td>\n",
       "      <td>NaN</td>\n",
       "      <td>NaN</td>\n",
       "      <td>NaN</td>\n",
       "      <td>NaN</td>\n",
       "      <td>NaN</td>\n",
       "      <td>NaN</td>\n",
       "      <td>NaN</td>\n",
       "      <td>NaN</td>\n",
       "    </tr>\n",
       "  </tbody>\n",
       "</table>\n",
       "</div>"
      ],
      "text/plain": [
       "   CRASH_UNIT_ID                                    CRASH_RECORD_ID     RD_NO              CRASH_DATE  UNIT_NO UNIT_TYPE  NUM_PASSENGERS  VEHICLE_ID CMRC_VEH_I                              MAKE    MODEL LIC_PLATE_STATE  VEHICLE_YEAR VEHICLE_DEFECT VEHICLE_TYPE VEHICLE_USE TRAVEL_DIRECTION        MANEUVER TOWED_I FIRE_I  OCCUPANT_CNT EXCEED_SPEED_LIMIT_I TOWED_BY TOWED_TO AREA_00_I AREA_01_I AREA_02_I AREA_03_I AREA_04_I AREA_05_I AREA_06_I AREA_07_I AREA_08_I AREA_09_I AREA_10_I AREA_11_I AREA_12_I AREA_99_I FIRST_CONTACT_POINT  CMV_ID USDOT_NO CCMC_NO ILCC_NO COMMERCIAL_SRC GVWR CARRIER_NAME CARRIER_STATE CARRIER_CITY HAZMAT_PLACARDS_I HAZMAT_NAME UN_NO HAZMAT_PRESENT_I HAZMAT_REPORT_I HAZMAT_REPORT_NO MCS_REPORT_I MCS_REPORT_NO HAZMAT_VIO_CAUSE_CRASH_I MCS_VIO_CAUSE_CRASH_I IDOT_PERMIT_NO WIDE_LOAD_I TRAILER1_WIDTH TRAILER2_WIDTH  TRAILER1_LENGTH  TRAILER2_LENGTH  TOTAL_VEHICLE_LENGTH  AXLE_CNT VEHICLE_CONFIG CARGO_BODY_TYPE LOAD_TYPE HAZMAT_OUT_OF_SERVICE_I MCS_OUT_OF_SERVICE_I  \\\n",
       "0         829999  24ddf9fd8542199d832e1c223cc474e5601b356f1d77a6...  JD124535  01/22/2020 06:25:00 AM        1    DRIVER             NaN    796949.0        NaN                          INFINITI  UNKNOWN              IL        2017.0           NONE    PASSENGER    PERSONAL                N  STRAIGHT AHEAD     NaN    NaN           1.0                  NaN      NaN      NaN       NaN         Y         Y       NaN       NaN       NaN       NaN       NaN       NaN       NaN       NaN       NaN       NaN       NaN               FRONT     NaN      NaN     NaN     NaN            NaN  NaN          NaN           NaN          NaN               NaN         NaN   NaN              NaN             NaN              NaN          NaN           NaN                      NaN                   NaN            NaN         NaN            NaN            NaN              NaN              NaN                   NaN       NaN            NaN             NaN       NaN                     NaN                  NaN   \n",
       "1         749947  81dc0de2ed92aa62baccab641fa377be7feb1cc47e6554...  JC451435  09/28/2019 03:30:00 AM        1    DRIVER             NaN    834816.0        NaN                             HONDA    CIVIC              IL        2016.0        UNKNOWN    PASSENGER    PERSONAL                N  STRAIGHT AHEAD     NaN    NaN           1.0                  NaN      NaN      NaN       NaN         Y       NaN       NaN       NaN       NaN       NaN       NaN       NaN       NaN       NaN       NaN       NaN       NaN               FRONT     NaN      NaN     NaN     NaN            NaN  NaN          NaN           NaN          NaN               NaN         NaN   NaN              NaN             NaN              NaN          NaN           NaN                      NaN                   NaN            NaN         NaN            NaN            NaN              NaN              NaN                   NaN       NaN            NaN             NaN       NaN                     NaN                  NaN   \n",
       "2         749949  81dc0de2ed92aa62baccab641fa377be7feb1cc47e6554...  JC451435  09/28/2019 03:30:00 AM        2    PARKED             NaN    834819.0        NaN                            TOYOTA    YARIS              IL        2010.0           NONE   UNKNOWN/NA    PERSONAL                N          PARKED     NaN    NaN           0.0                  NaN      NaN      NaN       NaN       NaN       NaN       NaN       NaN       NaN       NaN       NaN       NaN         Y       NaN       NaN       NaN       NaN                ROOF     NaN      NaN     NaN     NaN            NaN  NaN          NaN           NaN          NaN               NaN         NaN   NaN              NaN             NaN              NaN          NaN           NaN                      NaN                   NaN            NaN         NaN            NaN            NaN              NaN              NaN                   NaN       NaN            NaN             NaN       NaN                     NaN                  NaN   \n",
       "3         749950  81dc0de2ed92aa62baccab641fa377be7feb1cc47e6554...  JC451435  09/28/2019 03:30:00 AM        3    PARKED             NaN    834817.0        NaN  GENERAL MOTORS CORPORATION (GMC)   SIERRA              IL        2008.0        UNKNOWN   UNKNOWN/NA  UNKNOWN/NA                N          PARKED     NaN    NaN           0.0                  NaN      NaN      NaN       NaN       NaN       NaN       NaN       NaN       NaN       NaN       NaN       NaN         Y       NaN       NaN       NaN       NaN                ROOF     NaN      NaN     NaN     NaN            NaN  NaN          NaN           NaN          NaN               NaN         NaN   NaN              NaN             NaN              NaN          NaN           NaN                      NaN                   NaN            NaN         NaN            NaN            NaN              NaN              NaN                   NaN       NaN            NaN             NaN       NaN                     NaN                  NaN   \n",
       "4         871921  af84fb5c8d996fcd3aefd36593c3a02e6e7509eeb27568...  JD208731  04/13/2020 10:50:00 PM        2    DRIVER             NaN    827212.0        NaN                             BUICK   ENCORE              IL           NaN           NONE    PASSENGER    PERSONAL                W  STRAIGHT AHEAD     NaN    NaN           1.0                  NaN      NaN      NaN       NaN       NaN       NaN         Y       NaN       NaN       NaN       NaN       NaN       NaN       NaN       NaN       NaN       NaN         FRONT-RIGHT     NaN      NaN     NaN     NaN            NaN  NaN          NaN           NaN          NaN               NaN         NaN   NaN              NaN             NaN              NaN          NaN           NaN                      NaN                   NaN            NaN         NaN            NaN            NaN              NaN              NaN                   NaN       NaN            NaN             NaN       NaN                     NaN                  NaN   \n",
       "\n",
       "  HAZMAT_CLASS  \n",
       "0          NaN  \n",
       "1          NaN  \n",
       "2          NaN  \n",
       "3          NaN  \n",
       "4          NaN  "
      ]
     },
     "execution_count": 58,
     "metadata": {},
     "output_type": "execute_result"
    }
   ],
   "source": [
    "display(Vehicles.info())\n",
    "Vehicles.head()\n"
   ]
  },
  {
   "cell_type": "code",
   "execution_count": 59,
   "id": "offensive-invention",
   "metadata": {},
   "outputs": [
    {
     "data": {
      "application/javascript": [
       "\n",
       "        if (window._pyforest_update_imports_cell) { window._pyforest_update_imports_cell('import numpy as np\\nimport seaborn as sns\\nimport matplotlib.pyplot as plt\\nimport pandas as pd'); }\n",
       "    "
      ],
      "text/plain": [
       "<IPython.core.display.Javascript object>"
      ]
     },
     "metadata": {},
     "output_type": "display_data"
    },
    {
     "data": {
      "application/javascript": [
       "\n",
       "        if (window._pyforest_update_imports_cell) { window._pyforest_update_imports_cell('import numpy as np\\nimport seaborn as sns\\nimport matplotlib.pyplot as plt\\nimport pandas as pd'); }\n",
       "    "
      ],
      "text/plain": [
       "<IPython.core.display.Javascript object>"
      ]
     },
     "metadata": {},
     "output_type": "display_data"
    },
    {
     "data": {
      "application/javascript": [
       "\n",
       "        if (window._pyforest_update_imports_cell) { window._pyforest_update_imports_cell('import numpy as np\\nimport seaborn as sns\\nimport matplotlib.pyplot as plt\\nimport pandas as pd'); }\n",
       "    "
      ],
      "text/plain": [
       "<IPython.core.display.Javascript object>"
      ]
     },
     "metadata": {},
     "output_type": "display_data"
    },
    {
     "data": {
      "image/png": "[encoded data removed]",
      "text/plain": [
       "<Figure size 720x720 with 1 Axes>"
      ]
     },
     "metadata": {
      "needs_background": "light"
     },
     "output_type": "display_data"
    }
   ],
   "source": [
    "title = 'Crashes by Make of Vehicle'\n",
    "y1 = \"\"\n",
    "x1 = \"\"\n",
    "Graph(Vehicles[:500],None,'MAKE','countplot',title,y1,x1,size =(10,10))"
   ]
  },
  {
   "cell_type": "markdown",
   "id": "present-python",
   "metadata": {},
   "source": [
    "### Persons:\n",
    "Dataset location: https://data.cityofchicago.org/Transportation/Traffic-Crashes-People/u6pd-qa9d"
   ]
  },
  {
   "cell_type": "code",
   "execution_count": 60,
   "id": "occasional-plain",
   "metadata": {},
   "outputs": [
    {
     "data": {
      "text/html": [
       "<div>\n",
       "<style scoped>\n",
       "    .dataframe tbody tr th:only-of-type {\n",
       "        vertical-align: middle;\n",
       "    }\n",
       "\n",
       "    .dataframe tbody tr th {\n",
       "        vertical-align: top;\n",
       "    }\n",
       "\n",
       "    .dataframe thead th {\n",
       "        text-align: right;\n",
       "    }\n",
       "</style>\n",
       "<table border=\"1\" class=\"dataframe\">\n",
       "  <thead>\n",
       "    <tr style=\"text-align: right;\">\n",
       "      <th></th>\n",
       "      <th>PERSON_ID</th>\n",
       "      <th>PERSON_TYPE</th>\n",
       "      <th>CRASH_RECORD_ID</th>\n",
       "      <th>RD_NO</th>\n",
       "      <th>VEHICLE_ID</th>\n",
       "      <th>CRASH_DATE</th>\n",
       "      <th>SEAT_NO</th>\n",
       "      <th>CITY</th>\n",
       "      <th>STATE</th>\n",
       "      <th>ZIPCODE</th>\n",
       "      <th>SEX</th>\n",
       "      <th>AGE</th>\n",
       "      <th>DRIVERS_LICENSE_STATE</th>\n",
       "      <th>DRIVERS_LICENSE_CLASS</th>\n",
       "      <th>SAFETY_EQUIPMENT</th>\n",
       "      <th>AIRBAG_DEPLOYED</th>\n",
       "      <th>EJECTION</th>\n",
       "      <th>INJURY_CLASSIFICATION</th>\n",
       "      <th>HOSPITAL</th>\n",
       "      <th>EMS_AGENCY</th>\n",
       "      <th>EMS_RUN_NO</th>\n",
       "      <th>DRIVER_ACTION</th>\n",
       "      <th>DRIVER_VISION</th>\n",
       "      <th>PHYSICAL_CONDITION</th>\n",
       "      <th>PEDPEDAL_ACTION</th>\n",
       "      <th>PEDPEDAL_VISIBILITY</th>\n",
       "      <th>PEDPEDAL_LOCATION</th>\n",
       "      <th>BAC_RESULT</th>\n",
       "      <th>BAC_RESULT VALUE</th>\n",
       "      <th>CELL_PHONE_USE</th>\n",
       "    </tr>\n",
       "  </thead>\n",
       "  <tbody>\n",
       "    <tr>\n",
       "      <th>0</th>\n",
       "      <td>O749947</td>\n",
       "      <td>DRIVER</td>\n",
       "      <td>81dc0de2ed92aa62baccab641fa377be7feb1cc47e6554...</td>\n",
       "      <td>JC451435</td>\n",
       "      <td>834816.0</td>\n",
       "      <td>09/28/2019 03:30:00 AM</td>\n",
       "      <td>NaN</td>\n",
       "      <td>CHICAGO</td>\n",
       "      <td>IL</td>\n",
       "      <td>60651</td>\n",
       "      <td>M</td>\n",
       "      <td>25.0</td>\n",
       "      <td>IL</td>\n",
       "      <td>D</td>\n",
       "      <td>NONE PRESENT</td>\n",
       "      <td>DEPLOYMENT UNKNOWN</td>\n",
       "      <td>NONE</td>\n",
       "      <td>NO INDICATION OF INJURY</td>\n",
       "      <td>NaN</td>\n",
       "      <td>NaN</td>\n",
       "      <td>NaN</td>\n",
       "      <td>UNKNOWN</td>\n",
       "      <td>UNKNOWN</td>\n",
       "      <td>UNKNOWN</td>\n",
       "      <td>NaN</td>\n",
       "      <td>NaN</td>\n",
       "      <td>NaN</td>\n",
       "      <td>TEST NOT OFFERED</td>\n",
       "      <td>NaN</td>\n",
       "      <td>NaN</td>\n",
       "    </tr>\n",
       "    <tr>\n",
       "      <th>1</th>\n",
       "      <td>O871921</td>\n",
       "      <td>DRIVER</td>\n",
       "      <td>af84fb5c8d996fcd3aefd36593c3a02e6e7509eeb27568...</td>\n",
       "      <td>JD208731</td>\n",
       "      <td>827212.0</td>\n",
       "      <td>04/13/2020 10:50:00 PM</td>\n",
       "      <td>NaN</td>\n",
       "      <td>CHICAGO</td>\n",
       "      <td>IL</td>\n",
       "      <td>60620</td>\n",
       "      <td>M</td>\n",
       "      <td>37.0</td>\n",
       "      <td>IL</td>\n",
       "      <td>NaN</td>\n",
       "      <td>SAFETY BELT USED</td>\n",
       "      <td>DID NOT DEPLOY</td>\n",
       "      <td>NONE</td>\n",
       "      <td>NO INDICATION OF INJURY</td>\n",
       "      <td>NaN</td>\n",
       "      <td>NaN</td>\n",
       "      <td>NaN</td>\n",
       "      <td>NONE</td>\n",
       "      <td>NOT OBSCURED</td>\n",
       "      <td>NORMAL</td>\n",
       "      <td>NaN</td>\n",
       "      <td>NaN</td>\n",
       "      <td>NaN</td>\n",
       "      <td>TEST NOT OFFERED</td>\n",
       "      <td>NaN</td>\n",
       "      <td>NaN</td>\n",
       "    </tr>\n",
       "    <tr>\n",
       "      <th>2</th>\n",
       "      <td>O10018</td>\n",
       "      <td>DRIVER</td>\n",
       "      <td>71162af7bf22799b776547132ebf134b5b438dcf3dac6b...</td>\n",
       "      <td>HY484534</td>\n",
       "      <td>9579.0</td>\n",
       "      <td>11/01/2015 05:00:00 AM</td>\n",
       "      <td>NaN</td>\n",
       "      <td>NaN</td>\n",
       "      <td>NaN</td>\n",
       "      <td>NaN</td>\n",
       "      <td>X</td>\n",
       "      <td>NaN</td>\n",
       "      <td>NaN</td>\n",
       "      <td>NaN</td>\n",
       "      <td>USAGE UNKNOWN</td>\n",
       "      <td>DEPLOYMENT UNKNOWN</td>\n",
       "      <td>NONE</td>\n",
       "      <td>NO INDICATION OF INJURY</td>\n",
       "      <td>NaN</td>\n",
       "      <td>NaN</td>\n",
       "      <td>NaN</td>\n",
       "      <td>IMPROPER BACKING</td>\n",
       "      <td>UNKNOWN</td>\n",
       "      <td>UNKNOWN</td>\n",
       "      <td>NaN</td>\n",
       "      <td>NaN</td>\n",
       "      <td>NaN</td>\n",
       "      <td>TEST NOT OFFERED</td>\n",
       "      <td>NaN</td>\n",
       "      <td>NaN</td>\n",
       "    </tr>\n",
       "    <tr>\n",
       "      <th>3</th>\n",
       "      <td>O10038</td>\n",
       "      <td>DRIVER</td>\n",
       "      <td>c21c476e2ccc41af550b5d858d22aaac4ffc88745a1700...</td>\n",
       "      <td>HY484750</td>\n",
       "      <td>9598.0</td>\n",
       "      <td>11/01/2015 08:00:00 AM</td>\n",
       "      <td>NaN</td>\n",
       "      <td>NaN</td>\n",
       "      <td>NaN</td>\n",
       "      <td>NaN</td>\n",
       "      <td>X</td>\n",
       "      <td>NaN</td>\n",
       "      <td>NaN</td>\n",
       "      <td>NaN</td>\n",
       "      <td>USAGE UNKNOWN</td>\n",
       "      <td>DEPLOYMENT UNKNOWN</td>\n",
       "      <td>UNKNOWN</td>\n",
       "      <td>NO INDICATION OF INJURY</td>\n",
       "      <td>NaN</td>\n",
       "      <td>NaN</td>\n",
       "      <td>NaN</td>\n",
       "      <td>UNKNOWN</td>\n",
       "      <td>UNKNOWN</td>\n",
       "      <td>UNKNOWN</td>\n",
       "      <td>NaN</td>\n",
       "      <td>NaN</td>\n",
       "      <td>NaN</td>\n",
       "      <td>TEST NOT OFFERED</td>\n",
       "      <td>NaN</td>\n",
       "      <td>NaN</td>\n",
       "    </tr>\n",
       "    <tr>\n",
       "      <th>4</th>\n",
       "      <td>O10039</td>\n",
       "      <td>DRIVER</td>\n",
       "      <td>eb390a4c8e114c69488f5fb8a097fe629f5a92fd528cf4...</td>\n",
       "      <td>HY484778</td>\n",
       "      <td>9600.0</td>\n",
       "      <td>11/01/2015 10:15:00 AM</td>\n",
       "      <td>NaN</td>\n",
       "      <td>NaN</td>\n",
       "      <td>NaN</td>\n",
       "      <td>NaN</td>\n",
       "      <td>X</td>\n",
       "      <td>NaN</td>\n",
       "      <td>NaN</td>\n",
       "      <td>NaN</td>\n",
       "      <td>USAGE UNKNOWN</td>\n",
       "      <td>DEPLOYMENT UNKNOWN</td>\n",
       "      <td>UNKNOWN</td>\n",
       "      <td>NO INDICATION OF INJURY</td>\n",
       "      <td>NaN</td>\n",
       "      <td>NaN</td>\n",
       "      <td>NaN</td>\n",
       "      <td>UNKNOWN</td>\n",
       "      <td>UNKNOWN</td>\n",
       "      <td>UNKNOWN</td>\n",
       "      <td>NaN</td>\n",
       "      <td>NaN</td>\n",
       "      <td>NaN</td>\n",
       "      <td>TEST NOT OFFERED</td>\n",
       "      <td>NaN</td>\n",
       "      <td>NaN</td>\n",
       "    </tr>\n",
       "  </tbody>\n",
       "</table>\n",
       "</div>"
      ],
      "text/plain": [
       "  PERSON_ID PERSON_TYPE                                    CRASH_RECORD_ID     RD_NO  VEHICLE_ID              CRASH_DATE  SEAT_NO     CITY STATE ZIPCODE SEX   AGE DRIVERS_LICENSE_STATE DRIVERS_LICENSE_CLASS  SAFETY_EQUIPMENT     AIRBAG_DEPLOYED EJECTION    INJURY_CLASSIFICATION HOSPITAL EMS_AGENCY EMS_RUN_NO     DRIVER_ACTION DRIVER_VISION PHYSICAL_CONDITION PEDPEDAL_ACTION PEDPEDAL_VISIBILITY PEDPEDAL_LOCATION        BAC_RESULT  BAC_RESULT VALUE CELL_PHONE_USE\n",
       "0   O749947      DRIVER  81dc0de2ed92aa62baccab641fa377be7feb1cc47e6554...  JC451435    834816.0  09/28/2019 03:30:00 AM      NaN  CHICAGO    IL   60651   M  25.0                    IL                     D      NONE PRESENT  DEPLOYMENT UNKNOWN     NONE  NO INDICATION OF INJURY      NaN        NaN        NaN           UNKNOWN       UNKNOWN            UNKNOWN             NaN                 NaN               NaN  TEST NOT OFFERED               NaN            NaN\n",
       "1   O871921      DRIVER  af84fb5c8d996fcd3aefd36593c3a02e6e7509eeb27568...  JD208731    827212.0  04/13/2020 10:50:00 PM      NaN  CHICAGO    IL   60620   M  37.0                    IL                   NaN  SAFETY BELT USED      DID NOT DEPLOY     NONE  NO INDICATION OF INJURY      NaN        NaN        NaN              NONE  NOT OBSCURED             NORMAL             NaN                 NaN               NaN  TEST NOT OFFERED               NaN            NaN\n",
       "2    O10018      DRIVER  71162af7bf22799b776547132ebf134b5b438dcf3dac6b...  HY484534      9579.0  11/01/2015 05:00:00 AM      NaN      NaN   NaN     NaN   X   NaN                   NaN                   NaN     USAGE UNKNOWN  DEPLOYMENT UNKNOWN     NONE  NO INDICATION OF INJURY      NaN        NaN        NaN  IMPROPER BACKING       UNKNOWN            UNKNOWN             NaN                 NaN               NaN  TEST NOT OFFERED               NaN            NaN\n",
       "3    O10038      DRIVER  c21c476e2ccc41af550b5d858d22aaac4ffc88745a1700...  HY484750      9598.0  11/01/2015 08:00:00 AM      NaN      NaN   NaN     NaN   X   NaN                   NaN                   NaN     USAGE UNKNOWN  DEPLOYMENT UNKNOWN  UNKNOWN  NO INDICATION OF INJURY      NaN        NaN        NaN           UNKNOWN       UNKNOWN            UNKNOWN             NaN                 NaN               NaN  TEST NOT OFFERED               NaN            NaN\n",
       "4    O10039      DRIVER  eb390a4c8e114c69488f5fb8a097fe629f5a92fd528cf4...  HY484778      9600.0  11/01/2015 10:15:00 AM      NaN      NaN   NaN     NaN   X   NaN                   NaN                   NaN     USAGE UNKNOWN  DEPLOYMENT UNKNOWN  UNKNOWN  NO INDICATION OF INJURY      NaN        NaN        NaN           UNKNOWN       UNKNOWN            UNKNOWN             NaN                 NaN               NaN  TEST NOT OFFERED               NaN            NaN"
      ]
     },
     "metadata": {},
     "output_type": "display_data"
    },
    {
     "name": "stdout",
     "output_type": "stream",
     "text": [
      "<class 'pandas.core.frame.DataFrame'>\n",
      "RangeIndex: 1045663 entries, 0 to 1045662\n",
      "Data columns (total 30 columns):\n",
      " #   Column                 Non-Null Count    Dtype  \n",
      "---  ------                 --------------    -----  \n",
      " 0   PERSON_ID              1045663 non-null  object \n",
      " 1   PERSON_TYPE            1045663 non-null  object \n",
      " 2   CRASH_RECORD_ID        1045663 non-null  object \n",
      " 3   RD_NO                  1038665 non-null  object \n",
      " 4   VEHICLE_ID             1024792 non-null  float64\n",
      " 5   CRASH_DATE             1045663 non-null  object \n",
      " 6   SEAT_NO                214325 non-null   float64\n",
      " 7   CITY                   774040 non-null   object \n",
      " 8   STATE                  782684 non-null   object \n",
      " 9   ZIPCODE                707029 non-null   object \n",
      " 10  SEX                    1030159 non-null  object \n",
      " 11  AGE                    748528 non-null   float64\n",
      " 12  DRIVERS_LICENSE_STATE  620287 non-null   object \n",
      " 13  DRIVERS_LICENSE_CLASS  539291 non-null   object \n",
      " 14  SAFETY_EQUIPMENT       1042550 non-null  object \n",
      " 15  AIRBAG_DEPLOYED        1025685 non-null  object \n",
      " 16  EJECTION               1032699 non-null  object \n",
      " 17  INJURY_CLASSIFICATION  1045107 non-null  object \n",
      " 18  HOSPITAL               191130 non-null   object \n",
      " 19  EMS_AGENCY             121639 non-null   object \n",
      " 20  EMS_RUN_NO             19813 non-null    object \n",
      " 21  DRIVER_ACTION          829320 non-null   object \n",
      " 22  DRIVER_VISION          829041 non-null   object \n",
      " 23  PHYSICAL_CONDITION     829917 non-null   object \n",
      " 24  PEDPEDAL_ACTION        19625 non-null    object \n",
      " 25  PEDPEDAL_VISIBILITY    19581 non-null    object \n",
      " 26  PEDPEDAL_LOCATION      19626 non-null    object \n",
      " 27  BAC_RESULT             830422 non-null   object \n",
      " 28  BAC_RESULT VALUE       1357 non-null     float64\n",
      " 29  CELL_PHONE_USE         1156 non-null     object \n",
      "dtypes: float64(4), object(26)\n",
      "memory usage: 239.3+ MB\n"
     ]
    }
   ],
   "source": [
    "display(Persons.head())\n",
    "Persons.info()"
   ]
  },
  {
   "cell_type": "code",
   "execution_count": 61,
   "id": "central-husband",
   "metadata": {},
   "outputs": [
    {
     "data": {
      "application/javascript": [
       "\n",
       "        if (window._pyforest_update_imports_cell) { window._pyforest_update_imports_cell('import numpy as np\\nimport seaborn as sns\\nimport matplotlib.pyplot as plt\\nimport pandas as pd'); }\n",
       "    "
      ],
      "text/plain": [
       "<IPython.core.display.Javascript object>"
      ]
     },
     "metadata": {},
     "output_type": "display_data"
    },
    {
     "data": {
      "application/javascript": [
       "\n",
       "        if (window._pyforest_update_imports_cell) { window._pyforest_update_imports_cell('import numpy as np\\nimport seaborn as sns\\nimport matplotlib.pyplot as plt\\nimport pandas as pd'); }\n",
       "    "
      ],
      "text/plain": [
       "<IPython.core.display.Javascript object>"
      ]
     },
     "metadata": {},
     "output_type": "display_data"
    },
    {
     "data": {
      "application/javascript": [
       "\n",
       "        if (window._pyforest_update_imports_cell) { window._pyforest_update_imports_cell('import numpy as np\\nimport seaborn as sns\\nimport matplotlib.pyplot as plt\\nimport pandas as pd'); }\n",
       "    "
      ],
      "text/plain": [
       "<IPython.core.display.Javascript object>"
      ]
     },
     "metadata": {},
     "output_type": "display_data"
    },
    {
     "data": {
      "image/png": "[encoded data removed]",
      "text/plain": [
       "<Figure size 1800x1800 with 1 Axes>"
      ]
     },
     "metadata": {
      "needs_background": "light"
     },
     "output_type": "display_data"
    }
   ],
   "source": [
    "\n",
    "title = 'Crashes by Age'\n",
    "y1 = 'Age'\n",
    "x1 = ''\n",
    "Graph(Persons,\"AGE\",None,'countplot',title,y1,x1,size =(25,25))"
   ]
  },
  {
   "cell_type": "markdown",
   "id": "cooked-assist",
   "metadata": {},
   "source": [
    "### Initial Observations:\n",
    "At first glance there is some interesting information that we could possibly use for later. Took a look at some of it but  the data looks pretty broken and missing a lot of data, so let's get to it and clean her up! "
   ]
  },
  {
   "cell_type": "code",
   "execution_count": null,
   "id": "eleven-distributor",
   "metadata": {},
   "outputs": [],
   "source": []
  },
  {
   "cell_type": "markdown",
   "id": "separate-apparatus",
   "metadata": {},
   "source": [
    "# Scrub\n",
    "Cleaning the data, getting rid of NaN values, setting them to zeros or UNKNOWN and condensing the dataset down to a more 'managable' level. Started by putting all the cleaning in this section but found it easier to read by putting everything into a function. See Functions section at the top for all cleaning done."
   ]
  },
  {
   "cell_type": "code",
   "execution_count": 62,
   "id": "wooden-substance",
   "metadata": {
    "scrolled": false
   },
   "outputs": [
    {
     "data": {
      "application/javascript": [
       "\n",
       "        if (window._pyforest_update_imports_cell) { window._pyforest_update_imports_cell('import numpy as np\\nimport seaborn as sns\\nimport matplotlib.pyplot as plt\\nimport pandas as pd'); }\n",
       "    "
      ],
      "text/plain": [
       "<IPython.core.display.Javascript object>"
      ]
     },
     "metadata": {},
     "output_type": "display_data"
    },
    {
     "data": {
      "application/javascript": [
       "\n",
       "        if (window._pyforest_update_imports_cell) { window._pyforest_update_imports_cell('import numpy as np\\nimport seaborn as sns\\nimport matplotlib.pyplot as plt\\nimport pandas as pd'); }\n",
       "    "
      ],
      "text/plain": [
       "<IPython.core.display.Javascript object>"
      ]
     },
     "metadata": {},
     "output_type": "display_data"
    },
    {
     "data": {
      "application/javascript": [
       "\n",
       "        if (window._pyforest_update_imports_cell) { window._pyforest_update_imports_cell('import numpy as np\\nimport seaborn as sns\\nimport matplotlib.pyplot as plt\\nimport pandas as pd'); }\n",
       "    "
      ],
      "text/plain": [
       "<IPython.core.display.Javascript object>"
      ]
     },
     "metadata": {},
     "output_type": "display_data"
    },
    {
     "name": "stderr",
     "output_type": "stream",
     "text": [
      "C:\\Users\\Thomas\\anaconda3\\lib\\site-packages\\ipykernel_launcher.py:32: SettingWithCopyWarning: \n",
      "A value is trying to be set on a copy of a slice from a DataFrame.\n",
      "Try using .loc[row_indexer,col_indexer] = value instead\n",
      "\n",
      "See the caveats in the documentation: https://pandas.pydata.org/pandas-docs/stable/user_guide/indexing.html#returning-a-view-versus-a-copy\n",
      "C:\\Users\\Thomas\\anaconda3\\lib\\site-packages\\ipykernel_launcher.py:33: SettingWithCopyWarning: \n",
      "A value is trying to be set on a copy of a slice from a DataFrame.\n",
      "Try using .loc[row_indexer,col_indexer] = value instead\n",
      "\n",
      "See the caveats in the documentation: https://pandas.pydata.org/pandas-docs/stable/user_guide/indexing.html#returning-a-view-versus-a-copy\n",
      "C:\\Users\\Thomas\\anaconda3\\lib\\site-packages\\ipykernel_launcher.py:36: SettingWithCopyWarning: \n",
      "A value is trying to be set on a copy of a slice from a DataFrame.\n",
      "Try using .loc[row_indexer,col_indexer] = value instead\n",
      "\n",
      "See the caveats in the documentation: https://pandas.pydata.org/pandas-docs/stable/user_guide/indexing.html#returning-a-view-versus-a-copy\n",
      "C:\\Users\\Thomas\\anaconda3\\lib\\site-packages\\ipykernel_launcher.py:37: SettingWithCopyWarning: \n",
      "A value is trying to be set on a copy of a slice from a DataFrame.\n",
      "Try using .loc[row_indexer,col_indexer] = value instead\n",
      "\n",
      "See the caveats in the documentation: https://pandas.pydata.org/pandas-docs/stable/user_guide/indexing.html#returning-a-view-versus-a-copy\n",
      "C:\\Users\\Thomas\\anaconda3\\lib\\site-packages\\ipykernel_launcher.py:38: SettingWithCopyWarning: \n",
      "A value is trying to be set on a copy of a slice from a DataFrame.\n",
      "Try using .loc[row_indexer,col_indexer] = value instead\n",
      "\n",
      "See the caveats in the documentation: https://pandas.pydata.org/pandas-docs/stable/user_guide/indexing.html#returning-a-view-versus-a-copy\n",
      "C:\\Users\\Thomas\\anaconda3\\lib\\site-packages\\ipykernel_launcher.py:39: SettingWithCopyWarning: \n",
      "A value is trying to be set on a copy of a slice from a DataFrame.\n",
      "Try using .loc[row_indexer,col_indexer] = value instead\n",
      "\n",
      "See the caveats in the documentation: https://pandas.pydata.org/pandas-docs/stable/user_guide/indexing.html#returning-a-view-versus-a-copy\n",
      "C:\\Users\\Thomas\\anaconda3\\lib\\site-packages\\ipykernel_launcher.py:41: SettingWithCopyWarning: \n",
      "A value is trying to be set on a copy of a slice from a DataFrame.\n",
      "Try using .loc[row_indexer,col_indexer] = value instead\n",
      "\n",
      "See the caveats in the documentation: https://pandas.pydata.org/pandas-docs/stable/user_guide/indexing.html#returning-a-view-versus-a-copy\n",
      "C:\\Users\\Thomas\\anaconda3\\lib\\site-packages\\ipykernel_launcher.py:42: SettingWithCopyWarning: \n",
      "A value is trying to be set on a copy of a slice from a DataFrame.\n",
      "Try using .loc[row_indexer,col_indexer] = value instead\n",
      "\n",
      "See the caveats in the documentation: https://pandas.pydata.org/pandas-docs/stable/user_guide/indexing.html#returning-a-view-versus-a-copy\n",
      "C:\\Users\\Thomas\\anaconda3\\lib\\site-packages\\pandas\\core\\series.py:4485: SettingWithCopyWarning: \n",
      "A value is trying to be set on a copy of a slice from a DataFrame\n",
      "\n",
      "See the caveats in the documentation: https://pandas.pydata.org/pandas-docs/stable/user_guide/indexing.html#returning-a-view-versus-a-copy\n",
      "  method=method,\n"
     ]
    },
    {
     "data": {
      "application/javascript": [
       "\n",
       "        if (window._pyforest_update_imports_cell) { window._pyforest_update_imports_cell('import numpy as np\\nimport seaborn as sns\\nimport matplotlib.pyplot as plt\\nimport pandas as pd'); }\n",
       "    "
      ],
      "text/plain": [
       "<IPython.core.display.Javascript object>"
      ]
     },
     "metadata": {},
     "output_type": "display_data"
    },
    {
     "name": "stderr",
     "output_type": "stream",
     "text": [
      "C:\\Users\\Thomas\\anaconda3\\lib\\site-packages\\ipykernel_launcher.py:44: SettingWithCopyWarning: \n",
      "A value is trying to be set on a copy of a slice from a DataFrame.\n",
      "Try using .loc[row_indexer,col_indexer] = value instead\n",
      "\n",
      "See the caveats in the documentation: https://pandas.pydata.org/pandas-docs/stable/user_guide/indexing.html#returning-a-view-versus-a-copy\n",
      "C:\\Users\\Thomas\\anaconda3\\lib\\site-packages\\pandas\\core\\frame.py:4312: SettingWithCopyWarning: \n",
      "A value is trying to be set on a copy of a slice from a DataFrame\n",
      "\n",
      "See the caveats in the documentation: https://pandas.pydata.org/pandas-docs/stable/user_guide/indexing.html#returning-a-view-versus-a-copy\n",
      "  errors=errors,\n",
      "C:\\Users\\Thomas\\anaconda3\\lib\\site-packages\\pandas\\core\\series.py:4439: SettingWithCopyWarning: \n",
      "A value is trying to be set on a copy of a slice from a DataFrame\n",
      "\n",
      "See the caveats in the documentation: https://pandas.pydata.org/pandas-docs/stable/user_guide/indexing.html#returning-a-view-versus-a-copy\n",
      "  downcast=downcast,\n",
      "C:\\Users\\Thomas\\anaconda3\\lib\\site-packages\\ipykernel_launcher.py:47: SettingWithCopyWarning: \n",
      "A value is trying to be set on a copy of a slice from a DataFrame.\n",
      "Try using .loc[row_indexer,col_indexer] = value instead\n",
      "\n",
      "See the caveats in the documentation: https://pandas.pydata.org/pandas-docs/stable/user_guide/indexing.html#returning-a-view-versus-a-copy\n",
      "C:\\Users\\Thomas\\anaconda3\\lib\\site-packages\\ipykernel_launcher.py:48: SettingWithCopyWarning: \n",
      "A value is trying to be set on a copy of a slice from a DataFrame.\n",
      "Try using .loc[row_indexer,col_indexer] = value instead\n",
      "\n",
      "See the caveats in the documentation: https://pandas.pydata.org/pandas-docs/stable/user_guide/indexing.html#returning-a-view-versus-a-copy\n"
     ]
    },
    {
     "data": {
      "application/javascript": [
       "\n",
       "        if (window._pyforest_update_imports_cell) { window._pyforest_update_imports_cell('import numpy as np\\nimport seaborn as sns\\nimport matplotlib.pyplot as plt\\nimport pandas as pd'); }\n",
       "    "
      ],
      "text/plain": [
       "<IPython.core.display.Javascript object>"
      ]
     },
     "metadata": {},
     "output_type": "display_data"
    },
    {
     "name": "stderr",
     "output_type": "stream",
     "text": [
      "C:\\Users\\Thomas\\anaconda3\\lib\\site-packages\\ipykernel_launcher.py:13: SettingWithCopyWarning: \n",
      "A value is trying to be set on a copy of a slice from a DataFrame.\n",
      "Try using .loc[row_indexer,col_indexer] = value instead\n",
      "\n",
      "See the caveats in the documentation: https://pandas.pydata.org/pandas-docs/stable/user_guide/indexing.html#returning-a-view-versus-a-copy\n",
      "  del sys.path[0]\n",
      "C:\\Users\\Thomas\\anaconda3\\lib\\site-packages\\ipykernel_launcher.py:19: SettingWithCopyWarning: \n",
      "A value is trying to be set on a copy of a slice from a DataFrame.\n",
      "Try using .loc[row_indexer,col_indexer] = value instead\n",
      "\n",
      "See the caveats in the documentation: https://pandas.pydata.org/pandas-docs/stable/user_guide/indexing.html#returning-a-view-versus-a-copy\n"
     ]
    }
   ],
   "source": [
    "#Pulling out the original information just in case we need it later.\n",
    "clean = Cleaning(Persons,Vehicles,Crashes)\n"
   ]
  },
  {
   "cell_type": "code",
   "execution_count": 63,
   "id": "developed-coral",
   "metadata": {},
   "outputs": [
    {
     "data": {
      "text/html": [
       "<div>\n",
       "<style scoped>\n",
       "    .dataframe tbody tr th:only-of-type {\n",
       "        vertical-align: middle;\n",
       "    }\n",
       "\n",
       "    .dataframe tbody tr th {\n",
       "        vertical-align: top;\n",
       "    }\n",
       "\n",
       "    .dataframe thead th {\n",
       "        text-align: right;\n",
       "    }\n",
       "</style>\n",
       "<table border=\"1\" class=\"dataframe\">\n",
       "  <thead>\n",
       "    <tr style=\"text-align: right;\">\n",
       "      <th></th>\n",
       "      <th>Posted_Speed_Limit</th>\n",
       "      <th>Traffic_Control_Device</th>\n",
       "      <th>Device_Condition</th>\n",
       "      <th>First_Crash_Type</th>\n",
       "      <th>Trafficway_Type</th>\n",
       "      <th>Alignment</th>\n",
       "      <th>Report_Type</th>\n",
       "      <th>Crash_Type</th>\n",
       "      <th>Damage</th>\n",
       "      <th>Date_Police_Notified</th>\n",
       "      <th>Prim_Contributory_Cause</th>\n",
       "      <th>Sec_Contributory_Cause</th>\n",
       "      <th>Num_Units</th>\n",
       "      <th>Most_Severe_Injury</th>\n",
       "      <th>Crash_Hour</th>\n",
       "      <th>Crash_Day_Of_Week</th>\n",
       "      <th>Crash_Month</th>\n",
       "      <th>Latitude</th>\n",
       "      <th>Longitude</th>\n",
       "      <th>Unit_Type</th>\n",
       "      <th>Num_Passengers</th>\n",
       "      <th>Make</th>\n",
       "      <th>Model</th>\n",
       "      <th>Vehicle_Year</th>\n",
       "      <th>Vehicle_Type</th>\n",
       "      <th>Exceed_Speed_Limit_I</th>\n",
       "      <th>Crash_Date</th>\n",
       "      <th>City</th>\n",
       "      <th>State</th>\n",
       "      <th>Zipcode</th>\n",
       "      <th>Sex</th>\n",
       "      <th>Age</th>\n",
       "      <th>Safety_Equipment</th>\n",
       "      <th>Airbag_Deployed</th>\n",
       "      <th>Ejection</th>\n",
       "      <th>Injury_Classification</th>\n",
       "      <th>Driver_Action</th>\n",
       "      <th>Driver_Vision</th>\n",
       "      <th>Physical_Condition</th>\n",
       "      <th>Bac_Result</th>\n",
       "      <th>Bac_Result Value</th>\n",
       "      <th>Cell_Phone_Use</th>\n",
       "      <th>Day_Of_Week</th>\n",
       "      <th>Address</th>\n",
       "      <th>Driving_Condition</th>\n",
       "      <th>Drivers_License</th>\n",
       "    </tr>\n",
       "  </thead>\n",
       "  <tbody>\n",
       "    <tr>\n",
       "      <th>0</th>\n",
       "      <td>35</td>\n",
       "      <td>NO CONTROLS</td>\n",
       "      <td>NO CONTROLS</td>\n",
       "      <td>TURNING</td>\n",
       "      <td>ONE-WAY</td>\n",
       "      <td>STRAIGHT AND LEVEL</td>\n",
       "      <td>ON SCENE</td>\n",
       "      <td>NO INJURY / DRIVE AWAY</td>\n",
       "      <td>OVER $1,500</td>\n",
       "      <td>07/10/2019 06:16:00 PM</td>\n",
       "      <td>improper backing</td>\n",
       "      <td>unable to determine</td>\n",
       "      <td>2</td>\n",
       "      <td>NO INDICATION OF INJURY</td>\n",
       "      <td>17</td>\n",
       "      <td>Thursday</td>\n",
       "      <td>7</td>\n",
       "      <td>41.919664</td>\n",
       "      <td>-87.773288</td>\n",
       "      <td>DRIVER</td>\n",
       "      <td>0</td>\n",
       "      <td>GEO</td>\n",
       "      <td>UNKNOWN</td>\n",
       "      <td>1995</td>\n",
       "      <td>PASSENGER</td>\n",
       "      <td>UNKNOWN</td>\n",
       "      <td>2019-07-10 17:56:00</td>\n",
       "      <td>CHICAGO</td>\n",
       "      <td>IL</td>\n",
       "      <td>60639</td>\n",
       "      <td>M</td>\n",
       "      <td>31</td>\n",
       "      <td>USAGE UNKNOWN</td>\n",
       "      <td>NOT APPLICABLE</td>\n",
       "      <td>NONE</td>\n",
       "      <td>NO INDICATION OF INJURY</td>\n",
       "      <td>IMPROPER BACKING</td>\n",
       "      <td>UNKNOWN</td>\n",
       "      <td>NORMAL</td>\n",
       "      <td>TEST NOT OFFERED</td>\n",
       "      <td>0.0</td>\n",
       "      <td>UNKNOWN</td>\n",
       "      <td>4</td>\n",
       "      <td>2158 N MARMORA AVE</td>\n",
       "      <td>Perfect</td>\n",
       "      <td>Out of State</td>\n",
       "    </tr>\n",
       "    <tr>\n",
       "      <th>6</th>\n",
       "      <td>35</td>\n",
       "      <td>STOP SIGN/FLASHER</td>\n",
       "      <td>FUNCTIONING PROPERLY</td>\n",
       "      <td>TURNING</td>\n",
       "      <td>NOT DIVIDED</td>\n",
       "      <td>STRAIGHT AND LEVEL</td>\n",
       "      <td>ON SCENE</td>\n",
       "      <td>INJURY AND / OR TOW DUE TO CRASH</td>\n",
       "      <td>OVER $1,500</td>\n",
       "      <td>06/30/2017 04:01:00 PM</td>\n",
       "      <td>failing to yield right-of-way</td>\n",
       "      <td>not applicable</td>\n",
       "      <td>2</td>\n",
       "      <td>NO INDICATION OF INJURY</td>\n",
       "      <td>16</td>\n",
       "      <td>Saturday</td>\n",
       "      <td>6</td>\n",
       "      <td>41.741804</td>\n",
       "      <td>-87.740954</td>\n",
       "      <td>DRIVER</td>\n",
       "      <td>0</td>\n",
       "      <td>NISSAN</td>\n",
       "      <td>UNKNOWN</td>\n",
       "      <td>2011</td>\n",
       "      <td>SPORT UTILITY VEHICLE (SUV)</td>\n",
       "      <td>UNKNOWN</td>\n",
       "      <td>2017-06-30 16:00:00</td>\n",
       "      <td>CHICAGO</td>\n",
       "      <td>IL</td>\n",
       "      <td>UNKNOWN</td>\n",
       "      <td>F</td>\n",
       "      <td>20</td>\n",
       "      <td>USAGE UNKNOWN</td>\n",
       "      <td>DEPLOYMENT UNKNOWN</td>\n",
       "      <td>NONE</td>\n",
       "      <td>NO INDICATION OF INJURY</td>\n",
       "      <td>FAILED TO YIELD</td>\n",
       "      <td>UNKNOWN</td>\n",
       "      <td>UNKNOWN</td>\n",
       "      <td>TEST NOT OFFERED</td>\n",
       "      <td>0.0</td>\n",
       "      <td>UNKNOWN</td>\n",
       "      <td>6</td>\n",
       "      <td>8301 S CICERO AVE</td>\n",
       "      <td>Perfect</td>\n",
       "      <td>Out of State</td>\n",
       "    </tr>\n",
       "    <tr>\n",
       "      <th>12</th>\n",
       "      <td>30</td>\n",
       "      <td>TRAFFIC SIGNAL</td>\n",
       "      <td>FUNCTIONING PROPERLY</td>\n",
       "      <td>REAR END</td>\n",
       "      <td>FOUR WAY</td>\n",
       "      <td>STRAIGHT AND LEVEL</td>\n",
       "      <td>ON SCENE</td>\n",
       "      <td>NO INJURY / DRIVE AWAY</td>\n",
       "      <td>OVER $1,500</td>\n",
       "      <td>07/10/2020 10:25:00 AM</td>\n",
       "      <td>failing to yield right-of-way</td>\n",
       "      <td>failing to yield right-of-way</td>\n",
       "      <td>3</td>\n",
       "      <td>NO INDICATION OF INJURY</td>\n",
       "      <td>10</td>\n",
       "      <td>Saturday</td>\n",
       "      <td>7</td>\n",
       "      <td>41.773456</td>\n",
       "      <td>-87.585022</td>\n",
       "      <td>DRIVER</td>\n",
       "      <td>0</td>\n",
       "      <td>TOYOTA</td>\n",
       "      <td>CAMRY</td>\n",
       "      <td>2012</td>\n",
       "      <td>PASSENGER</td>\n",
       "      <td>UNKNOWN</td>\n",
       "      <td>2020-07-10 10:25:00</td>\n",
       "      <td>CHICAGO</td>\n",
       "      <td>IL</td>\n",
       "      <td>60617</td>\n",
       "      <td>M</td>\n",
       "      <td>50</td>\n",
       "      <td>USAGE UNKNOWN</td>\n",
       "      <td>NOT APPLICABLE</td>\n",
       "      <td>NONE</td>\n",
       "      <td>NO INDICATION OF INJURY</td>\n",
       "      <td>FAILED TO YIELD</td>\n",
       "      <td>UNKNOWN</td>\n",
       "      <td>NORMAL</td>\n",
       "      <td>TEST NOT OFFERED</td>\n",
       "      <td>0.0</td>\n",
       "      <td>UNKNOWN</td>\n",
       "      <td>6</td>\n",
       "      <td>1632 E 67TH ST</td>\n",
       "      <td>Perfect</td>\n",
       "      <td>Out of State</td>\n",
       "    </tr>\n",
       "    <tr>\n",
       "      <th>21</th>\n",
       "      <td>30</td>\n",
       "      <td>NO CONTROLS</td>\n",
       "      <td>NO CONTROLS</td>\n",
       "      <td>PARKED MOTOR VEHICLE</td>\n",
       "      <td>DIVIDED - W/MEDIAN (NOT RAISED)</td>\n",
       "      <td>STRAIGHT AND LEVEL</td>\n",
       "      <td>NOT ON SCENE (DESK REPORT)</td>\n",
       "      <td>NO INJURY / DRIVE AWAY</td>\n",
       "      <td>$500 OR LESS</td>\n",
       "      <td>07/11/2020 08:30:00 AM</td>\n",
       "      <td>unable to determine</td>\n",
       "      <td>unable to determine</td>\n",
       "      <td>2</td>\n",
       "      <td>NO INDICATION OF INJURY</td>\n",
       "      <td>1</td>\n",
       "      <td>Sunday</td>\n",
       "      <td>7</td>\n",
       "      <td>41.802119</td>\n",
       "      <td>-87.622115</td>\n",
       "      <td>DRIVER</td>\n",
       "      <td>0</td>\n",
       "      <td>TOYOTA</td>\n",
       "      <td>CAMRY</td>\n",
       "      <td>2015</td>\n",
       "      <td>PASSENGER</td>\n",
       "      <td>UNKNOWN</td>\n",
       "      <td>2020-07-11 01:00:00</td>\n",
       "      <td>UNKNOWN</td>\n",
       "      <td>UNKNOWN</td>\n",
       "      <td>UNKNOWN</td>\n",
       "      <td>F</td>\n",
       "      <td>0</td>\n",
       "      <td>USAGE UNKNOWN</td>\n",
       "      <td>DEPLOYMENT UNKNOWN</td>\n",
       "      <td>NONE</td>\n",
       "      <td>NO INDICATION OF INJURY</td>\n",
       "      <td>UNKNOWN</td>\n",
       "      <td>UNKNOWN</td>\n",
       "      <td>UNKNOWN</td>\n",
       "      <td>TEST NOT OFFERED</td>\n",
       "      <td>0.0</td>\n",
       "      <td>UNKNOWN</td>\n",
       "      <td>7</td>\n",
       "      <td>110 E 51ST ST</td>\n",
       "      <td>Hazardous</td>\n",
       "      <td>Out of State</td>\n",
       "    </tr>\n",
       "    <tr>\n",
       "      <th>27</th>\n",
       "      <td>20</td>\n",
       "      <td>NO CONTROLS</td>\n",
       "      <td>NO CONTROLS</td>\n",
       "      <td>PARKED MOTOR VEHICLE</td>\n",
       "      <td>DRIVEWAY</td>\n",
       "      <td>STRAIGHT AND LEVEL</td>\n",
       "      <td>ON SCENE</td>\n",
       "      <td>NO INJURY / DRIVE AWAY</td>\n",
       "      <td>OVER $1,500</td>\n",
       "      <td>07/08/2020 02:15:00 PM</td>\n",
       "      <td>unable to determine</td>\n",
       "      <td>unable to determine</td>\n",
       "      <td>2</td>\n",
       "      <td>NO INDICATION OF INJURY</td>\n",
       "      <td>14</td>\n",
       "      <td>Thursday</td>\n",
       "      <td>7</td>\n",
       "      <td>0.000000</td>\n",
       "      <td>0.000000</td>\n",
       "      <td>DRIVER</td>\n",
       "      <td>0</td>\n",
       "      <td>THOMAS BUILT BUS COMPANY</td>\n",
       "      <td>THOMAS BUILT BUS CO.</td>\n",
       "      <td>2017</td>\n",
       "      <td>BUS OVER 15 PASS.</td>\n",
       "      <td>UNKNOWN</td>\n",
       "      <td>2020-07-08 14:00:00</td>\n",
       "      <td>NEOGA</td>\n",
       "      <td>IL</td>\n",
       "      <td>62447</td>\n",
       "      <td>M</td>\n",
       "      <td>63</td>\n",
       "      <td>SAFETY BELT USED</td>\n",
       "      <td>DID NOT DEPLOY</td>\n",
       "      <td>NONE</td>\n",
       "      <td>NO INDICATION OF INJURY</td>\n",
       "      <td>IMPROPER BACKING</td>\n",
       "      <td>NOT OBSCURED</td>\n",
       "      <td>NORMAL</td>\n",
       "      <td>TEST NOT OFFERED</td>\n",
       "      <td>0.0</td>\n",
       "      <td>UNKNOWN</td>\n",
       "      <td>4</td>\n",
       "      <td>412 W OHARE ST</td>\n",
       "      <td>Perfect</td>\n",
       "      <td>Out of State</td>\n",
       "    </tr>\n",
       "  </tbody>\n",
       "</table>\n",
       "</div>"
      ],
      "text/plain": [
       "    Posted_Speed_Limit Traffic_Control_Device      Device_Condition      First_Crash_Type                  Trafficway_Type           Alignment                 Report_Type                        Crash_Type        Damage    Date_Police_Notified        Prim_Contributory_Cause         Sec_Contributory_Cause  Num_Units       Most_Severe_Injury  Crash_Hour Crash_Day_Of_Week  Crash_Month   Latitude  Longitude Unit_Type  Num_Passengers                      Make                 Model  Vehicle_Year                 Vehicle_Type Exceed_Speed_Limit_I          Crash_Date     City    State  Zipcode Sex  Age  Safety_Equipment     Airbag_Deployed Ejection    Injury_Classification     Driver_Action Driver_Vision Physical_Condition        Bac_Result  Bac_Result Value Cell_Phone_Use  Day_Of_Week             Address Driving_Condition Drivers_License\n",
       "0                   35            NO CONTROLS           NO CONTROLS               TURNING                          ONE-WAY  STRAIGHT AND LEVEL                    ON SCENE            NO INJURY / DRIVE AWAY   OVER $1,500  07/10/2019 06:16:00 PM               improper backing            unable to determine          2  NO INDICATION OF INJURY          17          Thursday            7  41.919664 -87.773288    DRIVER               0                       GEO               UNKNOWN          1995                    PASSENGER              UNKNOWN 2019-07-10 17:56:00  CHICAGO       IL    60639   M   31     USAGE UNKNOWN      NOT APPLICABLE     NONE  NO INDICATION OF INJURY  IMPROPER BACKING       UNKNOWN             NORMAL  TEST NOT OFFERED               0.0        UNKNOWN            4  2158 N MARMORA AVE           Perfect    Out of State\n",
       "6                   35      STOP SIGN/FLASHER  FUNCTIONING PROPERLY               TURNING                      NOT DIVIDED  STRAIGHT AND LEVEL                    ON SCENE  INJURY AND / OR TOW DUE TO CRASH   OVER $1,500  06/30/2017 04:01:00 PM  failing to yield right-of-way                 not applicable          2  NO INDICATION OF INJURY          16          Saturday            6  41.741804 -87.740954    DRIVER               0                    NISSAN               UNKNOWN          2011  SPORT UTILITY VEHICLE (SUV)              UNKNOWN 2017-06-30 16:00:00  CHICAGO       IL  UNKNOWN   F   20     USAGE UNKNOWN  DEPLOYMENT UNKNOWN     NONE  NO INDICATION OF INJURY   FAILED TO YIELD       UNKNOWN            UNKNOWN  TEST NOT OFFERED               0.0        UNKNOWN            6   8301 S CICERO AVE           Perfect    Out of State\n",
       "12                  30         TRAFFIC SIGNAL  FUNCTIONING PROPERLY              REAR END                         FOUR WAY  STRAIGHT AND LEVEL                    ON SCENE            NO INJURY / DRIVE AWAY   OVER $1,500  07/10/2020 10:25:00 AM  failing to yield right-of-way  failing to yield right-of-way          3  NO INDICATION OF INJURY          10          Saturday            7  41.773456 -87.585022    DRIVER               0                    TOYOTA                 CAMRY          2012                    PASSENGER              UNKNOWN 2020-07-10 10:25:00  CHICAGO       IL    60617   M   50     USAGE UNKNOWN      NOT APPLICABLE     NONE  NO INDICATION OF INJURY   FAILED TO YIELD       UNKNOWN             NORMAL  TEST NOT OFFERED               0.0        UNKNOWN            6      1632 E 67TH ST           Perfect    Out of State\n",
       "21                  30            NO CONTROLS           NO CONTROLS  PARKED MOTOR VEHICLE  DIVIDED - W/MEDIAN (NOT RAISED)  STRAIGHT AND LEVEL  NOT ON SCENE (DESK REPORT)            NO INJURY / DRIVE AWAY  $500 OR LESS  07/11/2020 08:30:00 AM            unable to determine            unable to determine          2  NO INDICATION OF INJURY           1            Sunday            7  41.802119 -87.622115    DRIVER               0                    TOYOTA                 CAMRY          2015                    PASSENGER              UNKNOWN 2020-07-11 01:00:00  UNKNOWN  UNKNOWN  UNKNOWN   F    0     USAGE UNKNOWN  DEPLOYMENT UNKNOWN     NONE  NO INDICATION OF INJURY           UNKNOWN       UNKNOWN            UNKNOWN  TEST NOT OFFERED               0.0        UNKNOWN            7       110 E 51ST ST         Hazardous    Out of State\n",
       "27                  20            NO CONTROLS           NO CONTROLS  PARKED MOTOR VEHICLE                         DRIVEWAY  STRAIGHT AND LEVEL                    ON SCENE            NO INJURY / DRIVE AWAY   OVER $1,500  07/08/2020 02:15:00 PM            unable to determine            unable to determine          2  NO INDICATION OF INJURY          14          Thursday            7   0.000000   0.000000    DRIVER               0  THOMAS BUILT BUS COMPANY  THOMAS BUILT BUS CO.          2017            BUS OVER 15 PASS.              UNKNOWN 2020-07-08 14:00:00    NEOGA       IL    62447   M   63  SAFETY BELT USED      DID NOT DEPLOY     NONE  NO INDICATION OF INJURY  IMPROPER BACKING  NOT OBSCURED             NORMAL  TEST NOT OFFERED               0.0        UNKNOWN            4      412 W OHARE ST           Perfect    Out of State"
      ]
     },
     "metadata": {},
     "output_type": "display_data"
    },
    {
     "name": "stdout",
     "output_type": "stream",
     "text": [
      "<class 'pandas.core.frame.DataFrame'>\n",
      "Int64Index: 470172 entries, 0 to 2196030\n",
      "Data columns (total 46 columns):\n",
      " #   Column                   Non-Null Count   Dtype         \n",
      "---  ------                   --------------   -----         \n",
      " 0   Posted_Speed_Limit       470172 non-null  int64         \n",
      " 1   Traffic_Control_Device   470172 non-null  object        \n",
      " 2   Device_Condition         470172 non-null  object        \n",
      " 3   First_Crash_Type         470172 non-null  object        \n",
      " 4   Trafficway_Type          470172 non-null  object        \n",
      " 5   Alignment                470172 non-null  object        \n",
      " 6   Report_Type              470172 non-null  object        \n",
      " 7   Crash_Type               470172 non-null  object        \n",
      " 8   Damage                   470172 non-null  object        \n",
      " 9   Date_Police_Notified     470172 non-null  object        \n",
      " 10  Prim_Contributory_Cause  470172 non-null  object        \n",
      " 11  Sec_Contributory_Cause   470172 non-null  object        \n",
      " 12  Num_Units                470172 non-null  int64         \n",
      " 13  Most_Severe_Injury       470172 non-null  object        \n",
      " 14  Crash_Hour               470172 non-null  int64         \n",
      " 15  Crash_Day_Of_Week        470172 non-null  object        \n",
      " 16  Crash_Month              470172 non-null  int64         \n",
      " 17  Latitude                 470172 non-null  float64       \n",
      " 18  Longitude                470172 non-null  float64       \n",
      " 19  Unit_Type                470172 non-null  object        \n",
      " 20  Num_Passengers           470172 non-null  int32         \n",
      " 21  Make                     470172 non-null  object        \n",
      " 22  Model                    470172 non-null  object        \n",
      " 23  Vehicle_Year             470172 non-null  int32         \n",
      " 24  Vehicle_Type             470172 non-null  object        \n",
      " 25  Exceed_Speed_Limit_I     470172 non-null  object        \n",
      " 26  Crash_Date               470172 non-null  datetime64[ns]\n",
      " 27  City                     470172 non-null  object        \n",
      " 28  State                    470172 non-null  object        \n",
      " 29  Zipcode                  470172 non-null  object        \n",
      " 30  Sex                      470172 non-null  object        \n",
      " 31  Age                      470172 non-null  int32         \n",
      " 32  Safety_Equipment         470172 non-null  object        \n",
      " 33  Airbag_Deployed          470172 non-null  object        \n",
      " 34  Ejection                 470172 non-null  object        \n",
      " 35  Injury_Classification    470172 non-null  object        \n",
      " 36  Driver_Action            470172 non-null  object        \n",
      " 37  Driver_Vision            470172 non-null  object        \n",
      " 38  Physical_Condition       470172 non-null  object        \n",
      " 39  Bac_Result               470172 non-null  object        \n",
      " 40  Bac_Result Value         470172 non-null  float64       \n",
      " 41  Cell_Phone_Use           470172 non-null  object        \n",
      " 42  Day_Of_Week              470172 non-null  int64         \n",
      " 43  Address                  470172 non-null  object        \n",
      " 44  Driving_Condition        470172 non-null  object        \n",
      " 45  Drivers_License          470172 non-null  object        \n",
      "dtypes: datetime64[ns](1), float64(3), int32(3), int64(5), object(34)\n",
      "memory usage: 163.2+ MB\n"
     ]
    },
    {
     "data": {
      "text/plain": [
       "None"
      ]
     },
     "metadata": {},
     "output_type": "display_data"
    }
   ],
   "source": [
    "display(clean.head())\n",
    "display(clean.info())\n",
    "# clean['Zipcode']\n",
    "# clean['Zipcode'] = clean['Zipcode'].replace({'UNKNOWN': '0','J2X5L8':'0','UNK':'0','6 041':'0'})\n",
    "# clean['Zipcode'].str[:5].astype(int).astype(int)"
   ]
  },
  {
   "cell_type": "code",
   "execution_count": 64,
   "id": "collected-charger",
   "metadata": {},
   "outputs": [],
   "source": [
    "clean['Prim_Contributory_Cause'] = clean.apply(lambda data: featConditioning(data), axis=1)\n"
   ]
  },
  {
   "cell_type": "code",
   "execution_count": 65,
   "id": "lovely-universal",
   "metadata": {},
   "outputs": [],
   "source": [
    "test = clean[(clean.Prim_Contributory_Cause == 'Negligent') | (clean.Prim_Contributory_Cause == 'Non-negligent')]"
   ]
  },
  {
   "cell_type": "code",
   "execution_count": 66,
   "id": "executive-pocket",
   "metadata": {},
   "outputs": [
    {
     "data": {
      "text/html": [
       "<div>\n",
       "<style scoped>\n",
       "    .dataframe tbody tr th:only-of-type {\n",
       "        vertical-align: middle;\n",
       "    }\n",
       "\n",
       "    .dataframe tbody tr th {\n",
       "        vertical-align: top;\n",
       "    }\n",
       "\n",
       "    .dataframe thead th {\n",
       "        text-align: right;\n",
       "    }\n",
       "</style>\n",
       "<table border=\"1\" class=\"dataframe\">\n",
       "  <thead>\n",
       "    <tr style=\"text-align: right;\">\n",
       "      <th></th>\n",
       "      <th>Posted_Speed_Limit</th>\n",
       "      <th>Traffic_Control_Device</th>\n",
       "      <th>Device_Condition</th>\n",
       "      <th>First_Crash_Type</th>\n",
       "      <th>Trafficway_Type</th>\n",
       "      <th>Alignment</th>\n",
       "      <th>Report_Type</th>\n",
       "      <th>Crash_Type</th>\n",
       "      <th>Damage</th>\n",
       "      <th>Date_Police_Notified</th>\n",
       "      <th>Prim_Contributory_Cause</th>\n",
       "      <th>Sec_Contributory_Cause</th>\n",
       "      <th>Num_Units</th>\n",
       "      <th>Most_Severe_Injury</th>\n",
       "      <th>Crash_Hour</th>\n",
       "      <th>Crash_Day_Of_Week</th>\n",
       "      <th>Crash_Month</th>\n",
       "      <th>Latitude</th>\n",
       "      <th>Longitude</th>\n",
       "      <th>Unit_Type</th>\n",
       "      <th>Num_Passengers</th>\n",
       "      <th>Make</th>\n",
       "      <th>Model</th>\n",
       "      <th>Vehicle_Year</th>\n",
       "      <th>Vehicle_Type</th>\n",
       "      <th>Exceed_Speed_Limit_I</th>\n",
       "      <th>Crash_Date</th>\n",
       "      <th>City</th>\n",
       "      <th>State</th>\n",
       "      <th>Zipcode</th>\n",
       "      <th>Sex</th>\n",
       "      <th>Age</th>\n",
       "      <th>Safety_Equipment</th>\n",
       "      <th>Airbag_Deployed</th>\n",
       "      <th>Ejection</th>\n",
       "      <th>Injury_Classification</th>\n",
       "      <th>Driver_Action</th>\n",
       "      <th>Driver_Vision</th>\n",
       "      <th>Physical_Condition</th>\n",
       "      <th>Bac_Result</th>\n",
       "      <th>Bac_Result Value</th>\n",
       "      <th>Cell_Phone_Use</th>\n",
       "      <th>Day_Of_Week</th>\n",
       "      <th>Address</th>\n",
       "      <th>Driving_Condition</th>\n",
       "      <th>Drivers_License</th>\n",
       "    </tr>\n",
       "  </thead>\n",
       "  <tbody>\n",
       "    <tr>\n",
       "      <th>0</th>\n",
       "      <td>35</td>\n",
       "      <td>NO CONTROLS</td>\n",
       "      <td>NO CONTROLS</td>\n",
       "      <td>TURNING</td>\n",
       "      <td>ONE-WAY</td>\n",
       "      <td>STRAIGHT AND LEVEL</td>\n",
       "      <td>ON SCENE</td>\n",
       "      <td>NO INJURY / DRIVE AWAY</td>\n",
       "      <td>OVER $1,500</td>\n",
       "      <td>07/10/2019 06:16:00 PM</td>\n",
       "      <td>None</td>\n",
       "      <td>unable to determine</td>\n",
       "      <td>2</td>\n",
       "      <td>NO INDICATION OF INJURY</td>\n",
       "      <td>17</td>\n",
       "      <td>Thursday</td>\n",
       "      <td>7</td>\n",
       "      <td>41.919664</td>\n",
       "      <td>-87.773288</td>\n",
       "      <td>DRIVER</td>\n",
       "      <td>0</td>\n",
       "      <td>GEO</td>\n",
       "      <td>UNKNOWN</td>\n",
       "      <td>1995</td>\n",
       "      <td>PASSENGER</td>\n",
       "      <td>UNKNOWN</td>\n",
       "      <td>2019-07-10 17:56:00</td>\n",
       "      <td>CHICAGO</td>\n",
       "      <td>IL</td>\n",
       "      <td>60639</td>\n",
       "      <td>M</td>\n",
       "      <td>31</td>\n",
       "      <td>USAGE UNKNOWN</td>\n",
       "      <td>NOT APPLICABLE</td>\n",
       "      <td>NONE</td>\n",
       "      <td>NO INDICATION OF INJURY</td>\n",
       "      <td>IMPROPER BACKING</td>\n",
       "      <td>UNKNOWN</td>\n",
       "      <td>NORMAL</td>\n",
       "      <td>TEST NOT OFFERED</td>\n",
       "      <td>0.0</td>\n",
       "      <td>UNKNOWN</td>\n",
       "      <td>4</td>\n",
       "      <td>2158 N MARMORA AVE</td>\n",
       "      <td>Perfect</td>\n",
       "      <td>Out of State</td>\n",
       "    </tr>\n",
       "    <tr>\n",
       "      <th>6</th>\n",
       "      <td>35</td>\n",
       "      <td>STOP SIGN/FLASHER</td>\n",
       "      <td>FUNCTIONING PROPERLY</td>\n",
       "      <td>TURNING</td>\n",
       "      <td>NOT DIVIDED</td>\n",
       "      <td>STRAIGHT AND LEVEL</td>\n",
       "      <td>ON SCENE</td>\n",
       "      <td>INJURY AND / OR TOW DUE TO CRASH</td>\n",
       "      <td>OVER $1,500</td>\n",
       "      <td>06/30/2017 04:01:00 PM</td>\n",
       "      <td>Non-negligent</td>\n",
       "      <td>not applicable</td>\n",
       "      <td>2</td>\n",
       "      <td>NO INDICATION OF INJURY</td>\n",
       "      <td>16</td>\n",
       "      <td>Saturday</td>\n",
       "      <td>6</td>\n",
       "      <td>41.741804</td>\n",
       "      <td>-87.740954</td>\n",
       "      <td>DRIVER</td>\n",
       "      <td>0</td>\n",
       "      <td>NISSAN</td>\n",
       "      <td>UNKNOWN</td>\n",
       "      <td>2011</td>\n",
       "      <td>SPORT UTILITY VEHICLE (SUV)</td>\n",
       "      <td>UNKNOWN</td>\n",
       "      <td>2017-06-30 16:00:00</td>\n",
       "      <td>CHICAGO</td>\n",
       "      <td>IL</td>\n",
       "      <td>UNKNOWN</td>\n",
       "      <td>F</td>\n",
       "      <td>20</td>\n",
       "      <td>USAGE UNKNOWN</td>\n",
       "      <td>DEPLOYMENT UNKNOWN</td>\n",
       "      <td>NONE</td>\n",
       "      <td>NO INDICATION OF INJURY</td>\n",
       "      <td>FAILED TO YIELD</td>\n",
       "      <td>UNKNOWN</td>\n",
       "      <td>UNKNOWN</td>\n",
       "      <td>TEST NOT OFFERED</td>\n",
       "      <td>0.0</td>\n",
       "      <td>UNKNOWN</td>\n",
       "      <td>6</td>\n",
       "      <td>8301 S CICERO AVE</td>\n",
       "      <td>Perfect</td>\n",
       "      <td>Out of State</td>\n",
       "    </tr>\n",
       "    <tr>\n",
       "      <th>12</th>\n",
       "      <td>30</td>\n",
       "      <td>TRAFFIC SIGNAL</td>\n",
       "      <td>FUNCTIONING PROPERLY</td>\n",
       "      <td>REAR END</td>\n",
       "      <td>FOUR WAY</td>\n",
       "      <td>STRAIGHT AND LEVEL</td>\n",
       "      <td>ON SCENE</td>\n",
       "      <td>NO INJURY / DRIVE AWAY</td>\n",
       "      <td>OVER $1,500</td>\n",
       "      <td>07/10/2020 10:25:00 AM</td>\n",
       "      <td>Non-negligent</td>\n",
       "      <td>failing to yield right-of-way</td>\n",
       "      <td>3</td>\n",
       "      <td>NO INDICATION OF INJURY</td>\n",
       "      <td>10</td>\n",
       "      <td>Saturday</td>\n",
       "      <td>7</td>\n",
       "      <td>41.773456</td>\n",
       "      <td>-87.585022</td>\n",
       "      <td>DRIVER</td>\n",
       "      <td>0</td>\n",
       "      <td>TOYOTA</td>\n",
       "      <td>CAMRY</td>\n",
       "      <td>2012</td>\n",
       "      <td>PASSENGER</td>\n",
       "      <td>UNKNOWN</td>\n",
       "      <td>2020-07-10 10:25:00</td>\n",
       "      <td>CHICAGO</td>\n",
       "      <td>IL</td>\n",
       "      <td>60617</td>\n",
       "      <td>M</td>\n",
       "      <td>50</td>\n",
       "      <td>USAGE UNKNOWN</td>\n",
       "      <td>NOT APPLICABLE</td>\n",
       "      <td>NONE</td>\n",
       "      <td>NO INDICATION OF INJURY</td>\n",
       "      <td>FAILED TO YIELD</td>\n",
       "      <td>UNKNOWN</td>\n",
       "      <td>NORMAL</td>\n",
       "      <td>TEST NOT OFFERED</td>\n",
       "      <td>0.0</td>\n",
       "      <td>UNKNOWN</td>\n",
       "      <td>6</td>\n",
       "      <td>1632 E 67TH ST</td>\n",
       "      <td>Perfect</td>\n",
       "      <td>Out of State</td>\n",
       "    </tr>\n",
       "    <tr>\n",
       "      <th>21</th>\n",
       "      <td>30</td>\n",
       "      <td>NO CONTROLS</td>\n",
       "      <td>NO CONTROLS</td>\n",
       "      <td>PARKED MOTOR VEHICLE</td>\n",
       "      <td>DIVIDED - W/MEDIAN (NOT RAISED)</td>\n",
       "      <td>STRAIGHT AND LEVEL</td>\n",
       "      <td>NOT ON SCENE (DESK REPORT)</td>\n",
       "      <td>NO INJURY / DRIVE AWAY</td>\n",
       "      <td>$500 OR LESS</td>\n",
       "      <td>07/11/2020 08:30:00 AM</td>\n",
       "      <td>undetermined</td>\n",
       "      <td>unable to determine</td>\n",
       "      <td>2</td>\n",
       "      <td>NO INDICATION OF INJURY</td>\n",
       "      <td>1</td>\n",
       "      <td>Sunday</td>\n",
       "      <td>7</td>\n",
       "      <td>41.802119</td>\n",
       "      <td>-87.622115</td>\n",
       "      <td>DRIVER</td>\n",
       "      <td>0</td>\n",
       "      <td>TOYOTA</td>\n",
       "      <td>CAMRY</td>\n",
       "      <td>2015</td>\n",
       "      <td>PASSENGER</td>\n",
       "      <td>UNKNOWN</td>\n",
       "      <td>2020-07-11 01:00:00</td>\n",
       "      <td>UNKNOWN</td>\n",
       "      <td>UNKNOWN</td>\n",
       "      <td>UNKNOWN</td>\n",
       "      <td>F</td>\n",
       "      <td>0</td>\n",
       "      <td>USAGE UNKNOWN</td>\n",
       "      <td>DEPLOYMENT UNKNOWN</td>\n",
       "      <td>NONE</td>\n",
       "      <td>NO INDICATION OF INJURY</td>\n",
       "      <td>UNKNOWN</td>\n",
       "      <td>UNKNOWN</td>\n",
       "      <td>UNKNOWN</td>\n",
       "      <td>TEST NOT OFFERED</td>\n",
       "      <td>0.0</td>\n",
       "      <td>UNKNOWN</td>\n",
       "      <td>7</td>\n",
       "      <td>110 E 51ST ST</td>\n",
       "      <td>Hazardous</td>\n",
       "      <td>Out of State</td>\n",
       "    </tr>\n",
       "    <tr>\n",
       "      <th>27</th>\n",
       "      <td>20</td>\n",
       "      <td>NO CONTROLS</td>\n",
       "      <td>NO CONTROLS</td>\n",
       "      <td>PARKED MOTOR VEHICLE</td>\n",
       "      <td>DRIVEWAY</td>\n",
       "      <td>STRAIGHT AND LEVEL</td>\n",
       "      <td>ON SCENE</td>\n",
       "      <td>NO INJURY / DRIVE AWAY</td>\n",
       "      <td>OVER $1,500</td>\n",
       "      <td>07/08/2020 02:15:00 PM</td>\n",
       "      <td>undetermined</td>\n",
       "      <td>unable to determine</td>\n",
       "      <td>2</td>\n",
       "      <td>NO INDICATION OF INJURY</td>\n",
       "      <td>14</td>\n",
       "      <td>Thursday</td>\n",
       "      <td>7</td>\n",
       "      <td>0.000000</td>\n",
       "      <td>0.000000</td>\n",
       "      <td>DRIVER</td>\n",
       "      <td>0</td>\n",
       "      <td>THOMAS BUILT BUS COMPANY</td>\n",
       "      <td>THOMAS BUILT BUS CO.</td>\n",
       "      <td>2017</td>\n",
       "      <td>BUS OVER 15 PASS.</td>\n",
       "      <td>UNKNOWN</td>\n",
       "      <td>2020-07-08 14:00:00</td>\n",
       "      <td>NEOGA</td>\n",
       "      <td>IL</td>\n",
       "      <td>62447</td>\n",
       "      <td>M</td>\n",
       "      <td>63</td>\n",
       "      <td>SAFETY BELT USED</td>\n",
       "      <td>DID NOT DEPLOY</td>\n",
       "      <td>NONE</td>\n",
       "      <td>NO INDICATION OF INJURY</td>\n",
       "      <td>IMPROPER BACKING</td>\n",
       "      <td>NOT OBSCURED</td>\n",
       "      <td>NORMAL</td>\n",
       "      <td>TEST NOT OFFERED</td>\n",
       "      <td>0.0</td>\n",
       "      <td>UNKNOWN</td>\n",
       "      <td>4</td>\n",
       "      <td>412 W OHARE ST</td>\n",
       "      <td>Perfect</td>\n",
       "      <td>Out of State</td>\n",
       "    </tr>\n",
       "  </tbody>\n",
       "</table>\n",
       "</div>"
      ],
      "text/plain": [
       "    Posted_Speed_Limit Traffic_Control_Device      Device_Condition      First_Crash_Type                  Trafficway_Type           Alignment                 Report_Type                        Crash_Type        Damage    Date_Police_Notified Prim_Contributory_Cause         Sec_Contributory_Cause  Num_Units       Most_Severe_Injury  Crash_Hour Crash_Day_Of_Week  Crash_Month   Latitude  Longitude Unit_Type  Num_Passengers                      Make                 Model  Vehicle_Year                 Vehicle_Type Exceed_Speed_Limit_I          Crash_Date     City    State  Zipcode Sex  Age  Safety_Equipment     Airbag_Deployed Ejection    Injury_Classification     Driver_Action Driver_Vision Physical_Condition        Bac_Result  Bac_Result Value Cell_Phone_Use  Day_Of_Week             Address Driving_Condition Drivers_License\n",
       "0                   35            NO CONTROLS           NO CONTROLS               TURNING                          ONE-WAY  STRAIGHT AND LEVEL                    ON SCENE            NO INJURY / DRIVE AWAY   OVER $1,500  07/10/2019 06:16:00 PM                    None            unable to determine          2  NO INDICATION OF INJURY          17          Thursday            7  41.919664 -87.773288    DRIVER               0                       GEO               UNKNOWN          1995                    PASSENGER              UNKNOWN 2019-07-10 17:56:00  CHICAGO       IL    60639   M   31     USAGE UNKNOWN      NOT APPLICABLE     NONE  NO INDICATION OF INJURY  IMPROPER BACKING       UNKNOWN             NORMAL  TEST NOT OFFERED               0.0        UNKNOWN            4  2158 N MARMORA AVE           Perfect    Out of State\n",
       "6                   35      STOP SIGN/FLASHER  FUNCTIONING PROPERLY               TURNING                      NOT DIVIDED  STRAIGHT AND LEVEL                    ON SCENE  INJURY AND / OR TOW DUE TO CRASH   OVER $1,500  06/30/2017 04:01:00 PM           Non-negligent                 not applicable          2  NO INDICATION OF INJURY          16          Saturday            6  41.741804 -87.740954    DRIVER               0                    NISSAN               UNKNOWN          2011  SPORT UTILITY VEHICLE (SUV)              UNKNOWN 2017-06-30 16:00:00  CHICAGO       IL  UNKNOWN   F   20     USAGE UNKNOWN  DEPLOYMENT UNKNOWN     NONE  NO INDICATION OF INJURY   FAILED TO YIELD       UNKNOWN            UNKNOWN  TEST NOT OFFERED               0.0        UNKNOWN            6   8301 S CICERO AVE           Perfect    Out of State\n",
       "12                  30         TRAFFIC SIGNAL  FUNCTIONING PROPERLY              REAR END                         FOUR WAY  STRAIGHT AND LEVEL                    ON SCENE            NO INJURY / DRIVE AWAY   OVER $1,500  07/10/2020 10:25:00 AM           Non-negligent  failing to yield right-of-way          3  NO INDICATION OF INJURY          10          Saturday            7  41.773456 -87.585022    DRIVER               0                    TOYOTA                 CAMRY          2012                    PASSENGER              UNKNOWN 2020-07-10 10:25:00  CHICAGO       IL    60617   M   50     USAGE UNKNOWN      NOT APPLICABLE     NONE  NO INDICATION OF INJURY   FAILED TO YIELD       UNKNOWN             NORMAL  TEST NOT OFFERED               0.0        UNKNOWN            6      1632 E 67TH ST           Perfect    Out of State\n",
       "21                  30            NO CONTROLS           NO CONTROLS  PARKED MOTOR VEHICLE  DIVIDED - W/MEDIAN (NOT RAISED)  STRAIGHT AND LEVEL  NOT ON SCENE (DESK REPORT)            NO INJURY / DRIVE AWAY  $500 OR LESS  07/11/2020 08:30:00 AM            undetermined            unable to determine          2  NO INDICATION OF INJURY           1            Sunday            7  41.802119 -87.622115    DRIVER               0                    TOYOTA                 CAMRY          2015                    PASSENGER              UNKNOWN 2020-07-11 01:00:00  UNKNOWN  UNKNOWN  UNKNOWN   F    0     USAGE UNKNOWN  DEPLOYMENT UNKNOWN     NONE  NO INDICATION OF INJURY           UNKNOWN       UNKNOWN            UNKNOWN  TEST NOT OFFERED               0.0        UNKNOWN            7       110 E 51ST ST         Hazardous    Out of State\n",
       "27                  20            NO CONTROLS           NO CONTROLS  PARKED MOTOR VEHICLE                         DRIVEWAY  STRAIGHT AND LEVEL                    ON SCENE            NO INJURY / DRIVE AWAY   OVER $1,500  07/08/2020 02:15:00 PM            undetermined            unable to determine          2  NO INDICATION OF INJURY          14          Thursday            7   0.000000   0.000000    DRIVER               0  THOMAS BUILT BUS COMPANY  THOMAS BUILT BUS CO.          2017            BUS OVER 15 PASS.              UNKNOWN 2020-07-08 14:00:00    NEOGA       IL    62447   M   63  SAFETY BELT USED      DID NOT DEPLOY     NONE  NO INDICATION OF INJURY  IMPROPER BACKING  NOT OBSCURED             NORMAL  TEST NOT OFFERED               0.0        UNKNOWN            4      412 W OHARE ST           Perfect    Out of State"
      ]
     },
     "metadata": {},
     "output_type": "display_data"
    },
    {
     "data": {
      "text/html": [
       "<div>\n",
       "<style scoped>\n",
       "    .dataframe tbody tr th:only-of-type {\n",
       "        vertical-align: middle;\n",
       "    }\n",
       "\n",
       "    .dataframe tbody tr th {\n",
       "        vertical-align: top;\n",
       "    }\n",
       "\n",
       "    .dataframe thead th {\n",
       "        text-align: right;\n",
       "    }\n",
       "</style>\n",
       "<table border=\"1\" class=\"dataframe\">\n",
       "  <thead>\n",
       "    <tr style=\"text-align: right;\">\n",
       "      <th></th>\n",
       "      <th>Posted_Speed_Limit</th>\n",
       "      <th>Traffic_Control_Device</th>\n",
       "      <th>Device_Condition</th>\n",
       "      <th>First_Crash_Type</th>\n",
       "      <th>Trafficway_Type</th>\n",
       "      <th>Alignment</th>\n",
       "      <th>Report_Type</th>\n",
       "      <th>Crash_Type</th>\n",
       "      <th>Damage</th>\n",
       "      <th>Date_Police_Notified</th>\n",
       "      <th>Prim_Contributory_Cause</th>\n",
       "      <th>Sec_Contributory_Cause</th>\n",
       "      <th>Num_Units</th>\n",
       "      <th>Most_Severe_Injury</th>\n",
       "      <th>Crash_Hour</th>\n",
       "      <th>Crash_Day_Of_Week</th>\n",
       "      <th>Crash_Month</th>\n",
       "      <th>Latitude</th>\n",
       "      <th>Longitude</th>\n",
       "      <th>Unit_Type</th>\n",
       "      <th>Num_Passengers</th>\n",
       "      <th>Make</th>\n",
       "      <th>Model</th>\n",
       "      <th>Vehicle_Year</th>\n",
       "      <th>Vehicle_Type</th>\n",
       "      <th>Exceed_Speed_Limit_I</th>\n",
       "      <th>Crash_Date</th>\n",
       "      <th>City</th>\n",
       "      <th>State</th>\n",
       "      <th>Zipcode</th>\n",
       "      <th>Sex</th>\n",
       "      <th>Age</th>\n",
       "      <th>Safety_Equipment</th>\n",
       "      <th>Airbag_Deployed</th>\n",
       "      <th>Ejection</th>\n",
       "      <th>Injury_Classification</th>\n",
       "      <th>Driver_Action</th>\n",
       "      <th>Driver_Vision</th>\n",
       "      <th>Physical_Condition</th>\n",
       "      <th>Bac_Result</th>\n",
       "      <th>Bac_Result Value</th>\n",
       "      <th>Cell_Phone_Use</th>\n",
       "      <th>Day_Of_Week</th>\n",
       "      <th>Address</th>\n",
       "      <th>Driving_Condition</th>\n",
       "      <th>Drivers_License</th>\n",
       "    </tr>\n",
       "  </thead>\n",
       "  <tbody>\n",
       "    <tr>\n",
       "      <th>6</th>\n",
       "      <td>35</td>\n",
       "      <td>STOP SIGN/FLASHER</td>\n",
       "      <td>FUNCTIONING PROPERLY</td>\n",
       "      <td>TURNING</td>\n",
       "      <td>NOT DIVIDED</td>\n",
       "      <td>STRAIGHT AND LEVEL</td>\n",
       "      <td>ON SCENE</td>\n",
       "      <td>INJURY AND / OR TOW DUE TO CRASH</td>\n",
       "      <td>OVER $1,500</td>\n",
       "      <td>06/30/2017 04:01:00 PM</td>\n",
       "      <td>Non-negligent</td>\n",
       "      <td>not applicable</td>\n",
       "      <td>2</td>\n",
       "      <td>NO INDICATION OF INJURY</td>\n",
       "      <td>16</td>\n",
       "      <td>Saturday</td>\n",
       "      <td>6</td>\n",
       "      <td>41.741804</td>\n",
       "      <td>-87.740954</td>\n",
       "      <td>DRIVER</td>\n",
       "      <td>0</td>\n",
       "      <td>NISSAN</td>\n",
       "      <td>UNKNOWN</td>\n",
       "      <td>2011</td>\n",
       "      <td>SPORT UTILITY VEHICLE (SUV)</td>\n",
       "      <td>UNKNOWN</td>\n",
       "      <td>2017-06-30 16:00:00</td>\n",
       "      <td>CHICAGO</td>\n",
       "      <td>IL</td>\n",
       "      <td>UNKNOWN</td>\n",
       "      <td>F</td>\n",
       "      <td>20</td>\n",
       "      <td>USAGE UNKNOWN</td>\n",
       "      <td>DEPLOYMENT UNKNOWN</td>\n",
       "      <td>NONE</td>\n",
       "      <td>NO INDICATION OF INJURY</td>\n",
       "      <td>FAILED TO YIELD</td>\n",
       "      <td>UNKNOWN</td>\n",
       "      <td>UNKNOWN</td>\n",
       "      <td>TEST NOT OFFERED</td>\n",
       "      <td>0.0</td>\n",
       "      <td>UNKNOWN</td>\n",
       "      <td>6</td>\n",
       "      <td>8301 S CICERO AVE</td>\n",
       "      <td>Perfect</td>\n",
       "      <td>Out of State</td>\n",
       "    </tr>\n",
       "    <tr>\n",
       "      <th>12</th>\n",
       "      <td>30</td>\n",
       "      <td>TRAFFIC SIGNAL</td>\n",
       "      <td>FUNCTIONING PROPERLY</td>\n",
       "      <td>REAR END</td>\n",
       "      <td>FOUR WAY</td>\n",
       "      <td>STRAIGHT AND LEVEL</td>\n",
       "      <td>ON SCENE</td>\n",
       "      <td>NO INJURY / DRIVE AWAY</td>\n",
       "      <td>OVER $1,500</td>\n",
       "      <td>07/10/2020 10:25:00 AM</td>\n",
       "      <td>Non-negligent</td>\n",
       "      <td>failing to yield right-of-way</td>\n",
       "      <td>3</td>\n",
       "      <td>NO INDICATION OF INJURY</td>\n",
       "      <td>10</td>\n",
       "      <td>Saturday</td>\n",
       "      <td>7</td>\n",
       "      <td>41.773456</td>\n",
       "      <td>-87.585022</td>\n",
       "      <td>DRIVER</td>\n",
       "      <td>0</td>\n",
       "      <td>TOYOTA</td>\n",
       "      <td>CAMRY</td>\n",
       "      <td>2012</td>\n",
       "      <td>PASSENGER</td>\n",
       "      <td>UNKNOWN</td>\n",
       "      <td>2020-07-10 10:25:00</td>\n",
       "      <td>CHICAGO</td>\n",
       "      <td>IL</td>\n",
       "      <td>60617</td>\n",
       "      <td>M</td>\n",
       "      <td>50</td>\n",
       "      <td>USAGE UNKNOWN</td>\n",
       "      <td>NOT APPLICABLE</td>\n",
       "      <td>NONE</td>\n",
       "      <td>NO INDICATION OF INJURY</td>\n",
       "      <td>FAILED TO YIELD</td>\n",
       "      <td>UNKNOWN</td>\n",
       "      <td>NORMAL</td>\n",
       "      <td>TEST NOT OFFERED</td>\n",
       "      <td>0.0</td>\n",
       "      <td>UNKNOWN</td>\n",
       "      <td>6</td>\n",
       "      <td>1632 E 67TH ST</td>\n",
       "      <td>Perfect</td>\n",
       "      <td>Out of State</td>\n",
       "    </tr>\n",
       "    <tr>\n",
       "      <th>37</th>\n",
       "      <td>30</td>\n",
       "      <td>NO CONTROLS</td>\n",
       "      <td>NO CONTROLS</td>\n",
       "      <td>SIDESWIPE OPPOSITE DIRECTION</td>\n",
       "      <td>NOT DIVIDED</td>\n",
       "      <td>STRAIGHT AND LEVEL</td>\n",
       "      <td>ON SCENE</td>\n",
       "      <td>INJURY AND / OR TOW DUE TO CRASH</td>\n",
       "      <td>$500 OR LESS</td>\n",
       "      <td>07/10/2020 10:20:00 PM</td>\n",
       "      <td>Negligent</td>\n",
       "      <td>not applicable</td>\n",
       "      <td>2</td>\n",
       "      <td>NONINCAPACITATING INJURY</td>\n",
       "      <td>22</td>\n",
       "      <td>Saturday</td>\n",
       "      <td>7</td>\n",
       "      <td>41.880386</td>\n",
       "      <td>-87.725807</td>\n",
       "      <td>DRIVER</td>\n",
       "      <td>0</td>\n",
       "      <td>YAMAHA</td>\n",
       "      <td>YAMAHA</td>\n",
       "      <td>2018</td>\n",
       "      <td>MOTORCYCLE (OVER 150CC)</td>\n",
       "      <td>UNKNOWN</td>\n",
       "      <td>2020-07-10 22:20:00</td>\n",
       "      <td>ST. CHARLES</td>\n",
       "      <td>IL</td>\n",
       "      <td>60175</td>\n",
       "      <td>M</td>\n",
       "      <td>26</td>\n",
       "      <td>DOT COMPLIANT MOTORCYCLE HELMET</td>\n",
       "      <td>NOT APPLICABLE</td>\n",
       "      <td>NONE</td>\n",
       "      <td>NONINCAPACITATING INJURY</td>\n",
       "      <td>EVADING POLICE VEHICLE</td>\n",
       "      <td>NOT OBSCURED</td>\n",
       "      <td>NORMAL</td>\n",
       "      <td>TEST NOT OFFERED</td>\n",
       "      <td>0.0</td>\n",
       "      <td>UNKNOWN</td>\n",
       "      <td>6</td>\n",
       "      <td>10 S PULASKI RD</td>\n",
       "      <td>Hazardous</td>\n",
       "      <td>Out of State</td>\n",
       "    </tr>\n",
       "    <tr>\n",
       "      <th>45</th>\n",
       "      <td>30</td>\n",
       "      <td>TRAFFIC SIGNAL</td>\n",
       "      <td>FUNCTIONING PROPERLY</td>\n",
       "      <td>TURNING</td>\n",
       "      <td>NOT DIVIDED</td>\n",
       "      <td>STRAIGHT AND LEVEL</td>\n",
       "      <td>NOT ON SCENE (DESK REPORT)</td>\n",
       "      <td>NO INJURY / DRIVE AWAY</td>\n",
       "      <td>OVER $1,500</td>\n",
       "      <td>08/30/2018 05:58:00 PM</td>\n",
       "      <td>Negligent</td>\n",
       "      <td>improper lane usage</td>\n",
       "      <td>2</td>\n",
       "      <td>NO INDICATION OF INJURY</td>\n",
       "      <td>17</td>\n",
       "      <td>Friday</td>\n",
       "      <td>8</td>\n",
       "      <td>41.903825</td>\n",
       "      <td>-87.643286</td>\n",
       "      <td>DRIVER</td>\n",
       "      <td>0</td>\n",
       "      <td>FORD</td>\n",
       "      <td>FLEX</td>\n",
       "      <td>2017</td>\n",
       "      <td>PASSENGER</td>\n",
       "      <td>UNKNOWN</td>\n",
       "      <td>2018-08-30 17:45:00</td>\n",
       "      <td>EVANSTON</td>\n",
       "      <td>IL</td>\n",
       "      <td>60201</td>\n",
       "      <td>M</td>\n",
       "      <td>44</td>\n",
       "      <td>USAGE UNKNOWN</td>\n",
       "      <td>DID NOT DEPLOY</td>\n",
       "      <td>NONE</td>\n",
       "      <td>NO INDICATION OF INJURY</td>\n",
       "      <td>NONE</td>\n",
       "      <td>UNKNOWN</td>\n",
       "      <td>UNKNOWN</td>\n",
       "      <td>TEST NOT OFFERED</td>\n",
       "      <td>0.0</td>\n",
       "      <td>UNKNOWN</td>\n",
       "      <td>5</td>\n",
       "      <td>600 W DIVISION ST</td>\n",
       "      <td>Hazardous</td>\n",
       "      <td>Out of State</td>\n",
       "    </tr>\n",
       "    <tr>\n",
       "      <th>59</th>\n",
       "      <td>30</td>\n",
       "      <td>UNKNOWN</td>\n",
       "      <td>UNKNOWN</td>\n",
       "      <td>SIDESWIPE SAME DIRECTION</td>\n",
       "      <td>DIVIDED - W/MEDIAN (NOT RAISED)</td>\n",
       "      <td>STRAIGHT AND LEVEL</td>\n",
       "      <td>ON SCENE</td>\n",
       "      <td>NO INJURY / DRIVE AWAY</td>\n",
       "      <td>$500 OR LESS</td>\n",
       "      <td>07/10/2020 05:06:00 AM</td>\n",
       "      <td>Negligent</td>\n",
       "      <td>not applicable</td>\n",
       "      <td>2</td>\n",
       "      <td>NO INDICATION OF INJURY</td>\n",
       "      <td>4</td>\n",
       "      <td>Saturday</td>\n",
       "      <td>7</td>\n",
       "      <td>41.886769</td>\n",
       "      <td>-87.745356</td>\n",
       "      <td>DRIVER</td>\n",
       "      <td>0</td>\n",
       "      <td>MAZDA</td>\n",
       "      <td>OTHER (EXPLAIN IN NARRATIVE)</td>\n",
       "      <td>0</td>\n",
       "      <td>PASSENGER</td>\n",
       "      <td>UNKNOWN</td>\n",
       "      <td>2020-07-10 04:50:00</td>\n",
       "      <td>UNKNOWN</td>\n",
       "      <td>UNKNOWN</td>\n",
       "      <td>UNKNOWN</td>\n",
       "      <td>X</td>\n",
       "      <td>0</td>\n",
       "      <td>USAGE UNKNOWN</td>\n",
       "      <td>DEPLOYMENT UNKNOWN</td>\n",
       "      <td>UNKNOWN</td>\n",
       "      <td>NO INDICATION OF INJURY</td>\n",
       "      <td>IMPROPER PASSING</td>\n",
       "      <td>UNKNOWN</td>\n",
       "      <td>UNKNOWN</td>\n",
       "      <td>TEST NOT OFFERED</td>\n",
       "      <td>0.0</td>\n",
       "      <td>UNKNOWN</td>\n",
       "      <td>6</td>\n",
       "      <td>351 N CICERO AVE</td>\n",
       "      <td>Hazardous</td>\n",
       "      <td>Out of State</td>\n",
       "    </tr>\n",
       "  </tbody>\n",
       "</table>\n",
       "</div>"
      ],
      "text/plain": [
       "    Posted_Speed_Limit Traffic_Control_Device      Device_Condition              First_Crash_Type                  Trafficway_Type           Alignment                 Report_Type                        Crash_Type        Damage    Date_Police_Notified Prim_Contributory_Cause         Sec_Contributory_Cause  Num_Units        Most_Severe_Injury  Crash_Hour Crash_Day_Of_Week  Crash_Month   Latitude  Longitude Unit_Type  Num_Passengers    Make                         Model  Vehicle_Year                 Vehicle_Type Exceed_Speed_Limit_I          Crash_Date         City    State  Zipcode Sex  Age                 Safety_Equipment     Airbag_Deployed Ejection     Injury_Classification           Driver_Action Driver_Vision Physical_Condition        Bac_Result  Bac_Result Value Cell_Phone_Use  Day_Of_Week            Address Driving_Condition Drivers_License\n",
       "6                   35      STOP SIGN/FLASHER  FUNCTIONING PROPERLY                       TURNING                      NOT DIVIDED  STRAIGHT AND LEVEL                    ON SCENE  INJURY AND / OR TOW DUE TO CRASH   OVER $1,500  06/30/2017 04:01:00 PM           Non-negligent                 not applicable          2   NO INDICATION OF INJURY          16          Saturday            6  41.741804 -87.740954    DRIVER               0  NISSAN                       UNKNOWN          2011  SPORT UTILITY VEHICLE (SUV)              UNKNOWN 2017-06-30 16:00:00      CHICAGO       IL  UNKNOWN   F   20                    USAGE UNKNOWN  DEPLOYMENT UNKNOWN     NONE   NO INDICATION OF INJURY         FAILED TO YIELD       UNKNOWN            UNKNOWN  TEST NOT OFFERED               0.0        UNKNOWN            6  8301 S CICERO AVE           Perfect    Out of State\n",
       "12                  30         TRAFFIC SIGNAL  FUNCTIONING PROPERLY                      REAR END                         FOUR WAY  STRAIGHT AND LEVEL                    ON SCENE            NO INJURY / DRIVE AWAY   OVER $1,500  07/10/2020 10:25:00 AM           Non-negligent  failing to yield right-of-way          3   NO INDICATION OF INJURY          10          Saturday            7  41.773456 -87.585022    DRIVER               0  TOYOTA                         CAMRY          2012                    PASSENGER              UNKNOWN 2020-07-10 10:25:00      CHICAGO       IL    60617   M   50                    USAGE UNKNOWN      NOT APPLICABLE     NONE   NO INDICATION OF INJURY         FAILED TO YIELD       UNKNOWN             NORMAL  TEST NOT OFFERED               0.0        UNKNOWN            6     1632 E 67TH ST           Perfect    Out of State\n",
       "37                  30            NO CONTROLS           NO CONTROLS  SIDESWIPE OPPOSITE DIRECTION                      NOT DIVIDED  STRAIGHT AND LEVEL                    ON SCENE  INJURY AND / OR TOW DUE TO CRASH  $500 OR LESS  07/10/2020 10:20:00 PM               Negligent                 not applicable          2  NONINCAPACITATING INJURY          22          Saturday            7  41.880386 -87.725807    DRIVER               0  YAMAHA                        YAMAHA          2018      MOTORCYCLE (OVER 150CC)              UNKNOWN 2020-07-10 22:20:00  ST. CHARLES       IL    60175   M   26  DOT COMPLIANT MOTORCYCLE HELMET      NOT APPLICABLE     NONE  NONINCAPACITATING INJURY  EVADING POLICE VEHICLE  NOT OBSCURED             NORMAL  TEST NOT OFFERED               0.0        UNKNOWN            6    10 S PULASKI RD         Hazardous    Out of State\n",
       "45                  30         TRAFFIC SIGNAL  FUNCTIONING PROPERLY                       TURNING                      NOT DIVIDED  STRAIGHT AND LEVEL  NOT ON SCENE (DESK REPORT)            NO INJURY / DRIVE AWAY   OVER $1,500  08/30/2018 05:58:00 PM               Negligent            improper lane usage          2   NO INDICATION OF INJURY          17            Friday            8  41.903825 -87.643286    DRIVER               0    FORD                          FLEX          2017                    PASSENGER              UNKNOWN 2018-08-30 17:45:00     EVANSTON       IL    60201   M   44                    USAGE UNKNOWN      DID NOT DEPLOY     NONE   NO INDICATION OF INJURY                    NONE       UNKNOWN            UNKNOWN  TEST NOT OFFERED               0.0        UNKNOWN            5  600 W DIVISION ST         Hazardous    Out of State\n",
       "59                  30                UNKNOWN               UNKNOWN      SIDESWIPE SAME DIRECTION  DIVIDED - W/MEDIAN (NOT RAISED)  STRAIGHT AND LEVEL                    ON SCENE            NO INJURY / DRIVE AWAY  $500 OR LESS  07/10/2020 05:06:00 AM               Negligent                 not applicable          2   NO INDICATION OF INJURY           4          Saturday            7  41.886769 -87.745356    DRIVER               0   MAZDA  OTHER (EXPLAIN IN NARRATIVE)             0                    PASSENGER              UNKNOWN 2020-07-10 04:50:00      UNKNOWN  UNKNOWN  UNKNOWN   X    0                    USAGE UNKNOWN  DEPLOYMENT UNKNOWN  UNKNOWN   NO INDICATION OF INJURY        IMPROPER PASSING       UNKNOWN            UNKNOWN  TEST NOT OFFERED               0.0        UNKNOWN            6   351 N CICERO AVE         Hazardous    Out of State"
      ]
     },
     "execution_count": 66,
     "metadata": {},
     "output_type": "execute_result"
    }
   ],
   "source": [
    "display(clean.head())\n",
    "test.head()"
   ]
  },
  {
   "cell_type": "markdown",
   "id": "pediatric-fairy",
   "metadata": {},
   "source": [
    "#### Add later on\n",
    "lets change some of the features down when it comes to weather condition, lighting and roadway surface, road defects. will condense it down to Perfect ideal, ideal,not ideal but doable,unsavory and terrible. takes out 4 or so categoricals and condenses it to one and represents it better, change lic_plate_state to instate and out of state. can drop vehicle use, et to drop from 70 rows to less \n",
    "\n",
    " \n"
   ]
  },
  {
   "cell_type": "code",
   "execution_count": 67,
   "id": "crazy-cycling",
   "metadata": {},
   "outputs": [],
   "source": [
    "clean.to_csv('E:\\Schoolwork\\Flat Iron\\Classwork\\Module 3\\Project\\Phase-3-project\\Data\\Cleaned_Data.csv')\n",
    "test.to_csv('E:\\Schoolwork\\Flat Iron\\Classwork\\Module 3\\Project\\Phase-3-project\\Data\\Testing_Data.csv')"
   ]
  },
  {
   "cell_type": "markdown",
   "id": "serious-tucson",
   "metadata": {},
   "source": [
    "# Explore\n",
    "Now that everything is prepped and edited it is time to get nitty gritty with the data and take a look at whats under the hood!"
   ]
  },
  {
   "cell_type": "code",
   "execution_count": null,
   "id": "framed-murray",
   "metadata": {},
   "outputs": [],
   "source": [
    "# going to first take a look at the Pandas profiling report to see what the data looks like\n",
    "# pp.ProfileReport(clean)"
   ]
  },
  {
   "cell_type": "markdown",
   "id": "eight-virgin",
   "metadata": {},
   "source": [
    "### Pulling the testing data after the cleaning"
   ]
  },
  {
   "cell_type": "code",
   "execution_count": 68,
   "id": "unknown-horror",
   "metadata": {},
   "outputs": [
    {
     "data": {
      "application/javascript": [
       "\n",
       "        if (window._pyforest_update_imports_cell) { window._pyforest_update_imports_cell('import numpy as np\\nimport seaborn as sns\\nimport matplotlib.pyplot as plt\\nimport pandas as pd'); }\n",
       "    "
      ],
      "text/plain": [
       "<IPython.core.display.Javascript object>"
      ]
     },
     "metadata": {},
     "output_type": "display_data"
    }
   ],
   "source": [
    "test_data = pd.read_csv('Data/Testing_Data.csv')"
   ]
  },
  {
   "cell_type": "code",
   "execution_count": 69,
   "id": "civilian-buffalo",
   "metadata": {},
   "outputs": [
    {
     "data": {
      "text/html": [
       "<div>\n",
       "<style scoped>\n",
       "    .dataframe tbody tr th:only-of-type {\n",
       "        vertical-align: middle;\n",
       "    }\n",
       "\n",
       "    .dataframe tbody tr th {\n",
       "        vertical-align: top;\n",
       "    }\n",
       "\n",
       "    .dataframe thead th {\n",
       "        text-align: right;\n",
       "    }\n",
       "</style>\n",
       "<table border=\"1\" class=\"dataframe\">\n",
       "  <thead>\n",
       "    <tr style=\"text-align: right;\">\n",
       "      <th></th>\n",
       "      <th>Unnamed: 0</th>\n",
       "      <th>Posted_Speed_Limit</th>\n",
       "      <th>Traffic_Control_Device</th>\n",
       "      <th>Device_Condition</th>\n",
       "      <th>First_Crash_Type</th>\n",
       "      <th>Trafficway_Type</th>\n",
       "      <th>Alignment</th>\n",
       "      <th>Report_Type</th>\n",
       "      <th>Crash_Type</th>\n",
       "      <th>Damage</th>\n",
       "      <th>Date_Police_Notified</th>\n",
       "      <th>Prim_Contributory_Cause</th>\n",
       "      <th>Sec_Contributory_Cause</th>\n",
       "      <th>Num_Units</th>\n",
       "      <th>Most_Severe_Injury</th>\n",
       "      <th>Crash_Hour</th>\n",
       "      <th>Crash_Day_Of_Week</th>\n",
       "      <th>Crash_Month</th>\n",
       "      <th>Latitude</th>\n",
       "      <th>Longitude</th>\n",
       "      <th>Unit_Type</th>\n",
       "      <th>Num_Passengers</th>\n",
       "      <th>Make</th>\n",
       "      <th>Model</th>\n",
       "      <th>Vehicle_Year</th>\n",
       "      <th>Vehicle_Type</th>\n",
       "      <th>Exceed_Speed_Limit_I</th>\n",
       "      <th>Crash_Date</th>\n",
       "      <th>City</th>\n",
       "      <th>State</th>\n",
       "      <th>Zipcode</th>\n",
       "      <th>Sex</th>\n",
       "      <th>Age</th>\n",
       "      <th>Safety_Equipment</th>\n",
       "      <th>Airbag_Deployed</th>\n",
       "      <th>Ejection</th>\n",
       "      <th>Injury_Classification</th>\n",
       "      <th>Driver_Action</th>\n",
       "      <th>Driver_Vision</th>\n",
       "      <th>Physical_Condition</th>\n",
       "      <th>Bac_Result</th>\n",
       "      <th>Bac_Result Value</th>\n",
       "      <th>Cell_Phone_Use</th>\n",
       "      <th>Day_Of_Week</th>\n",
       "      <th>Address</th>\n",
       "      <th>Driving_Condition</th>\n",
       "      <th>Drivers_License</th>\n",
       "    </tr>\n",
       "  </thead>\n",
       "  <tbody>\n",
       "    <tr>\n",
       "      <th>0</th>\n",
       "      <td>6</td>\n",
       "      <td>35</td>\n",
       "      <td>STOP SIGN/FLASHER</td>\n",
       "      <td>FUNCTIONING PROPERLY</td>\n",
       "      <td>TURNING</td>\n",
       "      <td>NOT DIVIDED</td>\n",
       "      <td>STRAIGHT AND LEVEL</td>\n",
       "      <td>ON SCENE</td>\n",
       "      <td>INJURY AND / OR TOW DUE TO CRASH</td>\n",
       "      <td>OVER $1,500</td>\n",
       "      <td>06/30/2017 04:01:00 PM</td>\n",
       "      <td>Non-negligent</td>\n",
       "      <td>not applicable</td>\n",
       "      <td>2</td>\n",
       "      <td>NO INDICATION OF INJURY</td>\n",
       "      <td>16</td>\n",
       "      <td>Saturday</td>\n",
       "      <td>6</td>\n",
       "      <td>41.741804</td>\n",
       "      <td>-87.740954</td>\n",
       "      <td>DRIVER</td>\n",
       "      <td>0</td>\n",
       "      <td>NISSAN</td>\n",
       "      <td>UNKNOWN</td>\n",
       "      <td>2011</td>\n",
       "      <td>SPORT UTILITY VEHICLE (SUV)</td>\n",
       "      <td>UNKNOWN</td>\n",
       "      <td>2017-06-30 16:00:00</td>\n",
       "      <td>CHICAGO</td>\n",
       "      <td>IL</td>\n",
       "      <td>UNKNOWN</td>\n",
       "      <td>F</td>\n",
       "      <td>20</td>\n",
       "      <td>USAGE UNKNOWN</td>\n",
       "      <td>DEPLOYMENT UNKNOWN</td>\n",
       "      <td>NONE</td>\n",
       "      <td>NO INDICATION OF INJURY</td>\n",
       "      <td>FAILED TO YIELD</td>\n",
       "      <td>UNKNOWN</td>\n",
       "      <td>UNKNOWN</td>\n",
       "      <td>TEST NOT OFFERED</td>\n",
       "      <td>0.0</td>\n",
       "      <td>UNKNOWN</td>\n",
       "      <td>6</td>\n",
       "      <td>8301 S CICERO AVE</td>\n",
       "      <td>Perfect</td>\n",
       "      <td>Out of State</td>\n",
       "    </tr>\n",
       "    <tr>\n",
       "      <th>1</th>\n",
       "      <td>12</td>\n",
       "      <td>30</td>\n",
       "      <td>TRAFFIC SIGNAL</td>\n",
       "      <td>FUNCTIONING PROPERLY</td>\n",
       "      <td>REAR END</td>\n",
       "      <td>FOUR WAY</td>\n",
       "      <td>STRAIGHT AND LEVEL</td>\n",
       "      <td>ON SCENE</td>\n",
       "      <td>NO INJURY / DRIVE AWAY</td>\n",
       "      <td>OVER $1,500</td>\n",
       "      <td>07/10/2020 10:25:00 AM</td>\n",
       "      <td>Non-negligent</td>\n",
       "      <td>failing to yield right-of-way</td>\n",
       "      <td>3</td>\n",
       "      <td>NO INDICATION OF INJURY</td>\n",
       "      <td>10</td>\n",
       "      <td>Saturday</td>\n",
       "      <td>7</td>\n",
       "      <td>41.773456</td>\n",
       "      <td>-87.585022</td>\n",
       "      <td>DRIVER</td>\n",
       "      <td>0</td>\n",
       "      <td>TOYOTA</td>\n",
       "      <td>CAMRY</td>\n",
       "      <td>2012</td>\n",
       "      <td>PASSENGER</td>\n",
       "      <td>UNKNOWN</td>\n",
       "      <td>2020-07-10 10:25:00</td>\n",
       "      <td>CHICAGO</td>\n",
       "      <td>IL</td>\n",
       "      <td>60617</td>\n",
       "      <td>M</td>\n",
       "      <td>50</td>\n",
       "      <td>USAGE UNKNOWN</td>\n",
       "      <td>NOT APPLICABLE</td>\n",
       "      <td>NONE</td>\n",
       "      <td>NO INDICATION OF INJURY</td>\n",
       "      <td>FAILED TO YIELD</td>\n",
       "      <td>UNKNOWN</td>\n",
       "      <td>NORMAL</td>\n",
       "      <td>TEST NOT OFFERED</td>\n",
       "      <td>0.0</td>\n",
       "      <td>UNKNOWN</td>\n",
       "      <td>6</td>\n",
       "      <td>1632 E 67TH ST</td>\n",
       "      <td>Perfect</td>\n",
       "      <td>Out of State</td>\n",
       "    </tr>\n",
       "    <tr>\n",
       "      <th>2</th>\n",
       "      <td>37</td>\n",
       "      <td>30</td>\n",
       "      <td>NO CONTROLS</td>\n",
       "      <td>NO CONTROLS</td>\n",
       "      <td>SIDESWIPE OPPOSITE DIRECTION</td>\n",
       "      <td>NOT DIVIDED</td>\n",
       "      <td>STRAIGHT AND LEVEL</td>\n",
       "      <td>ON SCENE</td>\n",
       "      <td>INJURY AND / OR TOW DUE TO CRASH</td>\n",
       "      <td>$500 OR LESS</td>\n",
       "      <td>07/10/2020 10:20:00 PM</td>\n",
       "      <td>Negligent</td>\n",
       "      <td>not applicable</td>\n",
       "      <td>2</td>\n",
       "      <td>NONINCAPACITATING INJURY</td>\n",
       "      <td>22</td>\n",
       "      <td>Saturday</td>\n",
       "      <td>7</td>\n",
       "      <td>41.880386</td>\n",
       "      <td>-87.725807</td>\n",
       "      <td>DRIVER</td>\n",
       "      <td>0</td>\n",
       "      <td>YAMAHA</td>\n",
       "      <td>YAMAHA</td>\n",
       "      <td>2018</td>\n",
       "      <td>MOTORCYCLE (OVER 150CC)</td>\n",
       "      <td>UNKNOWN</td>\n",
       "      <td>2020-07-10 22:20:00</td>\n",
       "      <td>ST. CHARLES</td>\n",
       "      <td>IL</td>\n",
       "      <td>60175</td>\n",
       "      <td>M</td>\n",
       "      <td>26</td>\n",
       "      <td>DOT COMPLIANT MOTORCYCLE HELMET</td>\n",
       "      <td>NOT APPLICABLE</td>\n",
       "      <td>NONE</td>\n",
       "      <td>NONINCAPACITATING INJURY</td>\n",
       "      <td>EVADING POLICE VEHICLE</td>\n",
       "      <td>NOT OBSCURED</td>\n",
       "      <td>NORMAL</td>\n",
       "      <td>TEST NOT OFFERED</td>\n",
       "      <td>0.0</td>\n",
       "      <td>UNKNOWN</td>\n",
       "      <td>6</td>\n",
       "      <td>10 S PULASKI RD</td>\n",
       "      <td>Hazardous</td>\n",
       "      <td>Out of State</td>\n",
       "    </tr>\n",
       "    <tr>\n",
       "      <th>3</th>\n",
       "      <td>45</td>\n",
       "      <td>30</td>\n",
       "      <td>TRAFFIC SIGNAL</td>\n",
       "      <td>FUNCTIONING PROPERLY</td>\n",
       "      <td>TURNING</td>\n",
       "      <td>NOT DIVIDED</td>\n",
       "      <td>STRAIGHT AND LEVEL</td>\n",
       "      <td>NOT ON SCENE (DESK REPORT)</td>\n",
       "      <td>NO INJURY / DRIVE AWAY</td>\n",
       "      <td>OVER $1,500</td>\n",
       "      <td>08/30/2018 05:58:00 PM</td>\n",
       "      <td>Negligent</td>\n",
       "      <td>improper lane usage</td>\n",
       "      <td>2</td>\n",
       "      <td>NO INDICATION OF INJURY</td>\n",
       "      <td>17</td>\n",
       "      <td>Friday</td>\n",
       "      <td>8</td>\n",
       "      <td>41.903825</td>\n",
       "      <td>-87.643286</td>\n",
       "      <td>DRIVER</td>\n",
       "      <td>0</td>\n",
       "      <td>FORD</td>\n",
       "      <td>FLEX</td>\n",
       "      <td>2017</td>\n",
       "      <td>PASSENGER</td>\n",
       "      <td>UNKNOWN</td>\n",
       "      <td>2018-08-30 17:45:00</td>\n",
       "      <td>EVANSTON</td>\n",
       "      <td>IL</td>\n",
       "      <td>60201</td>\n",
       "      <td>M</td>\n",
       "      <td>44</td>\n",
       "      <td>USAGE UNKNOWN</td>\n",
       "      <td>DID NOT DEPLOY</td>\n",
       "      <td>NONE</td>\n",
       "      <td>NO INDICATION OF INJURY</td>\n",
       "      <td>NONE</td>\n",
       "      <td>UNKNOWN</td>\n",
       "      <td>UNKNOWN</td>\n",
       "      <td>TEST NOT OFFERED</td>\n",
       "      <td>0.0</td>\n",
       "      <td>UNKNOWN</td>\n",
       "      <td>5</td>\n",
       "      <td>600 W DIVISION ST</td>\n",
       "      <td>Hazardous</td>\n",
       "      <td>Out of State</td>\n",
       "    </tr>\n",
       "    <tr>\n",
       "      <th>4</th>\n",
       "      <td>59</td>\n",
       "      <td>30</td>\n",
       "      <td>UNKNOWN</td>\n",
       "      <td>UNKNOWN</td>\n",
       "      <td>SIDESWIPE SAME DIRECTION</td>\n",
       "      <td>DIVIDED - W/MEDIAN (NOT RAISED)</td>\n",
       "      <td>STRAIGHT AND LEVEL</td>\n",
       "      <td>ON SCENE</td>\n",
       "      <td>NO INJURY / DRIVE AWAY</td>\n",
       "      <td>$500 OR LESS</td>\n",
       "      <td>07/10/2020 05:06:00 AM</td>\n",
       "      <td>Negligent</td>\n",
       "      <td>not applicable</td>\n",
       "      <td>2</td>\n",
       "      <td>NO INDICATION OF INJURY</td>\n",
       "      <td>4</td>\n",
       "      <td>Saturday</td>\n",
       "      <td>7</td>\n",
       "      <td>41.886769</td>\n",
       "      <td>-87.745356</td>\n",
       "      <td>DRIVER</td>\n",
       "      <td>0</td>\n",
       "      <td>MAZDA</td>\n",
       "      <td>OTHER (EXPLAIN IN NARRATIVE)</td>\n",
       "      <td>0</td>\n",
       "      <td>PASSENGER</td>\n",
       "      <td>UNKNOWN</td>\n",
       "      <td>2020-07-10 04:50:00</td>\n",
       "      <td>UNKNOWN</td>\n",
       "      <td>UNKNOWN</td>\n",
       "      <td>UNKNOWN</td>\n",
       "      <td>X</td>\n",
       "      <td>0</td>\n",
       "      <td>USAGE UNKNOWN</td>\n",
       "      <td>DEPLOYMENT UNKNOWN</td>\n",
       "      <td>UNKNOWN</td>\n",
       "      <td>NO INDICATION OF INJURY</td>\n",
       "      <td>IMPROPER PASSING</td>\n",
       "      <td>UNKNOWN</td>\n",
       "      <td>UNKNOWN</td>\n",
       "      <td>TEST NOT OFFERED</td>\n",
       "      <td>0.0</td>\n",
       "      <td>UNKNOWN</td>\n",
       "      <td>6</td>\n",
       "      <td>351 N CICERO AVE</td>\n",
       "      <td>Hazardous</td>\n",
       "      <td>Out of State</td>\n",
       "    </tr>\n",
       "  </tbody>\n",
       "</table>\n",
       "</div>"
      ],
      "text/plain": [
       "   Unnamed: 0  Posted_Speed_Limit Traffic_Control_Device      Device_Condition              First_Crash_Type                  Trafficway_Type           Alignment                 Report_Type                        Crash_Type        Damage    Date_Police_Notified Prim_Contributory_Cause         Sec_Contributory_Cause  Num_Units        Most_Severe_Injury  Crash_Hour Crash_Day_Of_Week  Crash_Month   Latitude  Longitude Unit_Type  Num_Passengers    Make                         Model  Vehicle_Year                 Vehicle_Type Exceed_Speed_Limit_I           Crash_Date         City    State  Zipcode Sex  Age                 Safety_Equipment     Airbag_Deployed Ejection     Injury_Classification           Driver_Action Driver_Vision Physical_Condition        Bac_Result  Bac_Result Value Cell_Phone_Use  Day_Of_Week            Address Driving_Condition Drivers_License\n",
       "0           6                  35      STOP SIGN/FLASHER  FUNCTIONING PROPERLY                       TURNING                      NOT DIVIDED  STRAIGHT AND LEVEL                    ON SCENE  INJURY AND / OR TOW DUE TO CRASH   OVER $1,500  06/30/2017 04:01:00 PM           Non-negligent                 not applicable          2   NO INDICATION OF INJURY          16          Saturday            6  41.741804 -87.740954    DRIVER               0  NISSAN                       UNKNOWN          2011  SPORT UTILITY VEHICLE (SUV)              UNKNOWN  2017-06-30 16:00:00      CHICAGO       IL  UNKNOWN   F   20                    USAGE UNKNOWN  DEPLOYMENT UNKNOWN     NONE   NO INDICATION OF INJURY         FAILED TO YIELD       UNKNOWN            UNKNOWN  TEST NOT OFFERED               0.0        UNKNOWN            6  8301 S CICERO AVE           Perfect    Out of State\n",
       "1          12                  30         TRAFFIC SIGNAL  FUNCTIONING PROPERLY                      REAR END                         FOUR WAY  STRAIGHT AND LEVEL                    ON SCENE            NO INJURY / DRIVE AWAY   OVER $1,500  07/10/2020 10:25:00 AM           Non-negligent  failing to yield right-of-way          3   NO INDICATION OF INJURY          10          Saturday            7  41.773456 -87.585022    DRIVER               0  TOYOTA                         CAMRY          2012                    PASSENGER              UNKNOWN  2020-07-10 10:25:00      CHICAGO       IL    60617   M   50                    USAGE UNKNOWN      NOT APPLICABLE     NONE   NO INDICATION OF INJURY         FAILED TO YIELD       UNKNOWN             NORMAL  TEST NOT OFFERED               0.0        UNKNOWN            6     1632 E 67TH ST           Perfect    Out of State\n",
       "2          37                  30            NO CONTROLS           NO CONTROLS  SIDESWIPE OPPOSITE DIRECTION                      NOT DIVIDED  STRAIGHT AND LEVEL                    ON SCENE  INJURY AND / OR TOW DUE TO CRASH  $500 OR LESS  07/10/2020 10:20:00 PM               Negligent                 not applicable          2  NONINCAPACITATING INJURY          22          Saturday            7  41.880386 -87.725807    DRIVER               0  YAMAHA                        YAMAHA          2018      MOTORCYCLE (OVER 150CC)              UNKNOWN  2020-07-10 22:20:00  ST. CHARLES       IL    60175   M   26  DOT COMPLIANT MOTORCYCLE HELMET      NOT APPLICABLE     NONE  NONINCAPACITATING INJURY  EVADING POLICE VEHICLE  NOT OBSCURED             NORMAL  TEST NOT OFFERED               0.0        UNKNOWN            6    10 S PULASKI RD         Hazardous    Out of State\n",
       "3          45                  30         TRAFFIC SIGNAL  FUNCTIONING PROPERLY                       TURNING                      NOT DIVIDED  STRAIGHT AND LEVEL  NOT ON SCENE (DESK REPORT)            NO INJURY / DRIVE AWAY   OVER $1,500  08/30/2018 05:58:00 PM               Negligent            improper lane usage          2   NO INDICATION OF INJURY          17            Friday            8  41.903825 -87.643286    DRIVER               0    FORD                          FLEX          2017                    PASSENGER              UNKNOWN  2018-08-30 17:45:00     EVANSTON       IL    60201   M   44                    USAGE UNKNOWN      DID NOT DEPLOY     NONE   NO INDICATION OF INJURY                    NONE       UNKNOWN            UNKNOWN  TEST NOT OFFERED               0.0        UNKNOWN            5  600 W DIVISION ST         Hazardous    Out of State\n",
       "4          59                  30                UNKNOWN               UNKNOWN      SIDESWIPE SAME DIRECTION  DIVIDED - W/MEDIAN (NOT RAISED)  STRAIGHT AND LEVEL                    ON SCENE            NO INJURY / DRIVE AWAY  $500 OR LESS  07/10/2020 05:06:00 AM               Negligent                 not applicable          2   NO INDICATION OF INJURY           4          Saturday            7  41.886769 -87.745356    DRIVER               0   MAZDA  OTHER (EXPLAIN IN NARRATIVE)             0                    PASSENGER              UNKNOWN  2020-07-10 04:50:00      UNKNOWN  UNKNOWN  UNKNOWN   X    0                    USAGE UNKNOWN  DEPLOYMENT UNKNOWN  UNKNOWN   NO INDICATION OF INJURY        IMPROPER PASSING       UNKNOWN            UNKNOWN  TEST NOT OFFERED               0.0        UNKNOWN            6   351 N CICERO AVE         Hazardous    Out of State"
      ]
     },
     "execution_count": 69,
     "metadata": {},
     "output_type": "execute_result"
    }
   ],
   "source": [
    "test_data.head()"
   ]
  },
  {
   "cell_type": "code",
   "execution_count": null,
   "id": "proprietary-slovakia",
   "metadata": {},
   "outputs": [],
   "source": []
  },
  {
   "cell_type": "code",
   "execution_count": 70,
   "id": "august-midnight",
   "metadata": {},
   "outputs": [
    {
     "name": "stdout",
     "output_type": "stream",
     "text": [
      "<class 'pandas.core.frame.DataFrame'>\n",
      "Int64Index: 470172 entries, 0 to 2196030\n",
      "Data columns (total 46 columns):\n",
      " #   Column                   Non-Null Count   Dtype         \n",
      "---  ------                   --------------   -----         \n",
      " 0   Posted_Speed_Limit       470172 non-null  int64         \n",
      " 1   Traffic_Control_Device   470172 non-null  object        \n",
      " 2   Device_Condition         470172 non-null  object        \n",
      " 3   First_Crash_Type         470172 non-null  object        \n",
      " 4   Trafficway_Type          470172 non-null  object        \n",
      " 5   Alignment                470172 non-null  object        \n",
      " 6   Report_Type              470172 non-null  object        \n",
      " 7   Crash_Type               470172 non-null  object        \n",
      " 8   Damage                   470172 non-null  object        \n",
      " 9   Date_Police_Notified     470172 non-null  object        \n",
      " 10  Prim_Contributory_Cause  449485 non-null  object        \n",
      " 11  Sec_Contributory_Cause   470172 non-null  object        \n",
      " 12  Num_Units                470172 non-null  int64         \n",
      " 13  Most_Severe_Injury       470172 non-null  object        \n",
      " 14  Crash_Hour               470172 non-null  int64         \n",
      " 15  Crash_Day_Of_Week        470172 non-null  object        \n",
      " 16  Crash_Month              470172 non-null  int64         \n",
      " 17  Latitude                 470172 non-null  float64       \n",
      " 18  Longitude                470172 non-null  float64       \n",
      " 19  Unit_Type                470172 non-null  object        \n",
      " 20  Num_Passengers           470172 non-null  int32         \n",
      " 21  Make                     470172 non-null  object        \n",
      " 22  Model                    470172 non-null  object        \n",
      " 23  Vehicle_Year             470172 non-null  int32         \n",
      " 24  Vehicle_Type             470172 non-null  object        \n",
      " 25  Exceed_Speed_Limit_I     470172 non-null  object        \n",
      " 26  Crash_Date               470172 non-null  datetime64[ns]\n",
      " 27  City                     470172 non-null  object        \n",
      " 28  State                    470172 non-null  object        \n",
      " 29  Zipcode                  470172 non-null  object        \n",
      " 30  Sex                      470172 non-null  object        \n",
      " 31  Age                      470172 non-null  int32         \n",
      " 32  Safety_Equipment         470172 non-null  object        \n",
      " 33  Airbag_Deployed          470172 non-null  object        \n",
      " 34  Ejection                 470172 non-null  object        \n",
      " 35  Injury_Classification    470172 non-null  object        \n",
      " 36  Driver_Action            470172 non-null  object        \n",
      " 37  Driver_Vision            470172 non-null  object        \n",
      " 38  Physical_Condition       470172 non-null  object        \n",
      " 39  Bac_Result               470172 non-null  object        \n",
      " 40  Bac_Result Value         470172 non-null  float64       \n",
      " 41  Cell_Phone_Use           470172 non-null  object        \n",
      " 42  Day_Of_Week              470172 non-null  int64         \n",
      " 43  Address                  470172 non-null  object        \n",
      " 44  Driving_Condition        470172 non-null  object        \n",
      " 45  Drivers_License          470172 non-null  object        \n",
      "dtypes: datetime64[ns](1), float64(3), int32(3), int64(5), object(34)\n",
      "memory usage: 163.2+ MB\n"
     ]
    }
   ],
   "source": [
    "clean.info()\n"
   ]
  },
  {
   "cell_type": "code",
   "execution_count": 71,
   "id": "endangered-indie",
   "metadata": {},
   "outputs": [
    {
     "data": {
      "text/html": [
       "<div>\n",
       "<style scoped>\n",
       "    .dataframe tbody tr th:only-of-type {\n",
       "        vertical-align: middle;\n",
       "    }\n",
       "\n",
       "    .dataframe tbody tr th {\n",
       "        vertical-align: top;\n",
       "    }\n",
       "\n",
       "    .dataframe thead th {\n",
       "        text-align: right;\n",
       "    }\n",
       "</style>\n",
       "<table border=\"1\" class=\"dataframe\">\n",
       "  <thead>\n",
       "    <tr style=\"text-align: right;\">\n",
       "      <th></th>\n",
       "      <th>Unnamed: 0</th>\n",
       "      <th>Posted_Speed_Limit</th>\n",
       "      <th>Traffic_Control_Device</th>\n",
       "      <th>Device_Condition</th>\n",
       "      <th>First_Crash_Type</th>\n",
       "      <th>Trafficway_Type</th>\n",
       "      <th>Alignment</th>\n",
       "      <th>Report_Type</th>\n",
       "      <th>Crash_Type</th>\n",
       "      <th>Damage</th>\n",
       "      <th>Date_Police_Notified</th>\n",
       "      <th>Prim_Contributory_Cause</th>\n",
       "      <th>Sec_Contributory_Cause</th>\n",
       "      <th>Num_Units</th>\n",
       "      <th>Most_Severe_Injury</th>\n",
       "      <th>Crash_Hour</th>\n",
       "      <th>Crash_Day_Of_Week</th>\n",
       "      <th>Crash_Month</th>\n",
       "      <th>Latitude</th>\n",
       "      <th>Longitude</th>\n",
       "      <th>Unit_Type</th>\n",
       "      <th>Num_Passengers</th>\n",
       "      <th>Make</th>\n",
       "      <th>Model</th>\n",
       "      <th>Vehicle_Year</th>\n",
       "      <th>Vehicle_Type</th>\n",
       "      <th>Exceed_Speed_Limit_I</th>\n",
       "      <th>Crash_Date</th>\n",
       "      <th>City</th>\n",
       "      <th>State</th>\n",
       "      <th>Zipcode</th>\n",
       "      <th>Sex</th>\n",
       "      <th>Age</th>\n",
       "      <th>Safety_Equipment</th>\n",
       "      <th>Airbag_Deployed</th>\n",
       "      <th>Ejection</th>\n",
       "      <th>Injury_Classification</th>\n",
       "      <th>Driver_Action</th>\n",
       "      <th>Driver_Vision</th>\n",
       "      <th>Physical_Condition</th>\n",
       "      <th>Bac_Result</th>\n",
       "      <th>Bac_Result Value</th>\n",
       "      <th>Cell_Phone_Use</th>\n",
       "      <th>Day_Of_Week</th>\n",
       "      <th>Address</th>\n",
       "      <th>Driving_Condition</th>\n",
       "      <th>Drivers_License</th>\n",
       "    </tr>\n",
       "  </thead>\n",
       "  <tbody>\n",
       "    <tr>\n",
       "      <th>0</th>\n",
       "      <td>6</td>\n",
       "      <td>35</td>\n",
       "      <td>STOP SIGN/FLASHER</td>\n",
       "      <td>FUNCTIONING PROPERLY</td>\n",
       "      <td>TURNING</td>\n",
       "      <td>NOT DIVIDED</td>\n",
       "      <td>STRAIGHT AND LEVEL</td>\n",
       "      <td>ON SCENE</td>\n",
       "      <td>INJURY AND / OR TOW DUE TO CRASH</td>\n",
       "      <td>OVER $1,500</td>\n",
       "      <td>06/30/2017 04:01:00 PM</td>\n",
       "      <td>Non-negligent</td>\n",
       "      <td>not applicable</td>\n",
       "      <td>2</td>\n",
       "      <td>NO INDICATION OF INJURY</td>\n",
       "      <td>16</td>\n",
       "      <td>Saturday</td>\n",
       "      <td>6</td>\n",
       "      <td>41.741804</td>\n",
       "      <td>-87.740954</td>\n",
       "      <td>DRIVER</td>\n",
       "      <td>0</td>\n",
       "      <td>NISSAN</td>\n",
       "      <td>UNKNOWN</td>\n",
       "      <td>2011</td>\n",
       "      <td>SPORT UTILITY VEHICLE (SUV)</td>\n",
       "      <td>UNKNOWN</td>\n",
       "      <td>2017-06-30 16:00:00</td>\n",
       "      <td>CHICAGO</td>\n",
       "      <td>IL</td>\n",
       "      <td>UNKNOWN</td>\n",
       "      <td>F</td>\n",
       "      <td>20</td>\n",
       "      <td>USAGE UNKNOWN</td>\n",
       "      <td>DEPLOYMENT UNKNOWN</td>\n",
       "      <td>NONE</td>\n",
       "      <td>NO INDICATION OF INJURY</td>\n",
       "      <td>FAILED TO YIELD</td>\n",
       "      <td>UNKNOWN</td>\n",
       "      <td>UNKNOWN</td>\n",
       "      <td>TEST NOT OFFERED</td>\n",
       "      <td>0.0</td>\n",
       "      <td>UNKNOWN</td>\n",
       "      <td>6</td>\n",
       "      <td>8301 S CICERO AVE</td>\n",
       "      <td>Perfect</td>\n",
       "      <td>Out of State</td>\n",
       "    </tr>\n",
       "    <tr>\n",
       "      <th>1</th>\n",
       "      <td>12</td>\n",
       "      <td>30</td>\n",
       "      <td>TRAFFIC SIGNAL</td>\n",
       "      <td>FUNCTIONING PROPERLY</td>\n",
       "      <td>REAR END</td>\n",
       "      <td>FOUR WAY</td>\n",
       "      <td>STRAIGHT AND LEVEL</td>\n",
       "      <td>ON SCENE</td>\n",
       "      <td>NO INJURY / DRIVE AWAY</td>\n",
       "      <td>OVER $1,500</td>\n",
       "      <td>07/10/2020 10:25:00 AM</td>\n",
       "      <td>Non-negligent</td>\n",
       "      <td>failing to yield right-of-way</td>\n",
       "      <td>3</td>\n",
       "      <td>NO INDICATION OF INJURY</td>\n",
       "      <td>10</td>\n",
       "      <td>Saturday</td>\n",
       "      <td>7</td>\n",
       "      <td>41.773456</td>\n",
       "      <td>-87.585022</td>\n",
       "      <td>DRIVER</td>\n",
       "      <td>0</td>\n",
       "      <td>TOYOTA</td>\n",
       "      <td>CAMRY</td>\n",
       "      <td>2012</td>\n",
       "      <td>PASSENGER</td>\n",
       "      <td>UNKNOWN</td>\n",
       "      <td>2020-07-10 10:25:00</td>\n",
       "      <td>CHICAGO</td>\n",
       "      <td>IL</td>\n",
       "      <td>60617</td>\n",
       "      <td>M</td>\n",
       "      <td>50</td>\n",
       "      <td>USAGE UNKNOWN</td>\n",
       "      <td>NOT APPLICABLE</td>\n",
       "      <td>NONE</td>\n",
       "      <td>NO INDICATION OF INJURY</td>\n",
       "      <td>FAILED TO YIELD</td>\n",
       "      <td>UNKNOWN</td>\n",
       "      <td>NORMAL</td>\n",
       "      <td>TEST NOT OFFERED</td>\n",
       "      <td>0.0</td>\n",
       "      <td>UNKNOWN</td>\n",
       "      <td>6</td>\n",
       "      <td>1632 E 67TH ST</td>\n",
       "      <td>Perfect</td>\n",
       "      <td>Out of State</td>\n",
       "    </tr>\n",
       "    <tr>\n",
       "      <th>2</th>\n",
       "      <td>37</td>\n",
       "      <td>30</td>\n",
       "      <td>NO CONTROLS</td>\n",
       "      <td>NO CONTROLS</td>\n",
       "      <td>SIDESWIPE OPPOSITE DIRECTION</td>\n",
       "      <td>NOT DIVIDED</td>\n",
       "      <td>STRAIGHT AND LEVEL</td>\n",
       "      <td>ON SCENE</td>\n",
       "      <td>INJURY AND / OR TOW DUE TO CRASH</td>\n",
       "      <td>$500 OR LESS</td>\n",
       "      <td>07/10/2020 10:20:00 PM</td>\n",
       "      <td>Negligent</td>\n",
       "      <td>not applicable</td>\n",
       "      <td>2</td>\n",
       "      <td>NONINCAPACITATING INJURY</td>\n",
       "      <td>22</td>\n",
       "      <td>Saturday</td>\n",
       "      <td>7</td>\n",
       "      <td>41.880386</td>\n",
       "      <td>-87.725807</td>\n",
       "      <td>DRIVER</td>\n",
       "      <td>0</td>\n",
       "      <td>YAMAHA</td>\n",
       "      <td>YAMAHA</td>\n",
       "      <td>2018</td>\n",
       "      <td>MOTORCYCLE (OVER 150CC)</td>\n",
       "      <td>UNKNOWN</td>\n",
       "      <td>2020-07-10 22:20:00</td>\n",
       "      <td>ST. CHARLES</td>\n",
       "      <td>IL</td>\n",
       "      <td>60175</td>\n",
       "      <td>M</td>\n",
       "      <td>26</td>\n",
       "      <td>DOT COMPLIANT MOTORCYCLE HELMET</td>\n",
       "      <td>NOT APPLICABLE</td>\n",
       "      <td>NONE</td>\n",
       "      <td>NONINCAPACITATING INJURY</td>\n",
       "      <td>EVADING POLICE VEHICLE</td>\n",
       "      <td>NOT OBSCURED</td>\n",
       "      <td>NORMAL</td>\n",
       "      <td>TEST NOT OFFERED</td>\n",
       "      <td>0.0</td>\n",
       "      <td>UNKNOWN</td>\n",
       "      <td>6</td>\n",
       "      <td>10 S PULASKI RD</td>\n",
       "      <td>Hazardous</td>\n",
       "      <td>Out of State</td>\n",
       "    </tr>\n",
       "    <tr>\n",
       "      <th>3</th>\n",
       "      <td>45</td>\n",
       "      <td>30</td>\n",
       "      <td>TRAFFIC SIGNAL</td>\n",
       "      <td>FUNCTIONING PROPERLY</td>\n",
       "      <td>TURNING</td>\n",
       "      <td>NOT DIVIDED</td>\n",
       "      <td>STRAIGHT AND LEVEL</td>\n",
       "      <td>NOT ON SCENE (DESK REPORT)</td>\n",
       "      <td>NO INJURY / DRIVE AWAY</td>\n",
       "      <td>OVER $1,500</td>\n",
       "      <td>08/30/2018 05:58:00 PM</td>\n",
       "      <td>Negligent</td>\n",
       "      <td>improper lane usage</td>\n",
       "      <td>2</td>\n",
       "      <td>NO INDICATION OF INJURY</td>\n",
       "      <td>17</td>\n",
       "      <td>Friday</td>\n",
       "      <td>8</td>\n",
       "      <td>41.903825</td>\n",
       "      <td>-87.643286</td>\n",
       "      <td>DRIVER</td>\n",
       "      <td>0</td>\n",
       "      <td>FORD</td>\n",
       "      <td>FLEX</td>\n",
       "      <td>2017</td>\n",
       "      <td>PASSENGER</td>\n",
       "      <td>UNKNOWN</td>\n",
       "      <td>2018-08-30 17:45:00</td>\n",
       "      <td>EVANSTON</td>\n",
       "      <td>IL</td>\n",
       "      <td>60201</td>\n",
       "      <td>M</td>\n",
       "      <td>44</td>\n",
       "      <td>USAGE UNKNOWN</td>\n",
       "      <td>DID NOT DEPLOY</td>\n",
       "      <td>NONE</td>\n",
       "      <td>NO INDICATION OF INJURY</td>\n",
       "      <td>NONE</td>\n",
       "      <td>UNKNOWN</td>\n",
       "      <td>UNKNOWN</td>\n",
       "      <td>TEST NOT OFFERED</td>\n",
       "      <td>0.0</td>\n",
       "      <td>UNKNOWN</td>\n",
       "      <td>5</td>\n",
       "      <td>600 W DIVISION ST</td>\n",
       "      <td>Hazardous</td>\n",
       "      <td>Out of State</td>\n",
       "    </tr>\n",
       "    <tr>\n",
       "      <th>4</th>\n",
       "      <td>59</td>\n",
       "      <td>30</td>\n",
       "      <td>UNKNOWN</td>\n",
       "      <td>UNKNOWN</td>\n",
       "      <td>SIDESWIPE SAME DIRECTION</td>\n",
       "      <td>DIVIDED - W/MEDIAN (NOT RAISED)</td>\n",
       "      <td>STRAIGHT AND LEVEL</td>\n",
       "      <td>ON SCENE</td>\n",
       "      <td>NO INJURY / DRIVE AWAY</td>\n",
       "      <td>$500 OR LESS</td>\n",
       "      <td>07/10/2020 05:06:00 AM</td>\n",
       "      <td>Negligent</td>\n",
       "      <td>not applicable</td>\n",
       "      <td>2</td>\n",
       "      <td>NO INDICATION OF INJURY</td>\n",
       "      <td>4</td>\n",
       "      <td>Saturday</td>\n",
       "      <td>7</td>\n",
       "      <td>41.886769</td>\n",
       "      <td>-87.745356</td>\n",
       "      <td>DRIVER</td>\n",
       "      <td>0</td>\n",
       "      <td>MAZDA</td>\n",
       "      <td>OTHER (EXPLAIN IN NARRATIVE)</td>\n",
       "      <td>0</td>\n",
       "      <td>PASSENGER</td>\n",
       "      <td>UNKNOWN</td>\n",
       "      <td>2020-07-10 04:50:00</td>\n",
       "      <td>UNKNOWN</td>\n",
       "      <td>UNKNOWN</td>\n",
       "      <td>UNKNOWN</td>\n",
       "      <td>X</td>\n",
       "      <td>0</td>\n",
       "      <td>USAGE UNKNOWN</td>\n",
       "      <td>DEPLOYMENT UNKNOWN</td>\n",
       "      <td>UNKNOWN</td>\n",
       "      <td>NO INDICATION OF INJURY</td>\n",
       "      <td>IMPROPER PASSING</td>\n",
       "      <td>UNKNOWN</td>\n",
       "      <td>UNKNOWN</td>\n",
       "      <td>TEST NOT OFFERED</td>\n",
       "      <td>0.0</td>\n",
       "      <td>UNKNOWN</td>\n",
       "      <td>6</td>\n",
       "      <td>351 N CICERO AVE</td>\n",
       "      <td>Hazardous</td>\n",
       "      <td>Out of State</td>\n",
       "    </tr>\n",
       "  </tbody>\n",
       "</table>\n",
       "</div>"
      ],
      "text/plain": [
       "   Unnamed: 0  Posted_Speed_Limit Traffic_Control_Device      Device_Condition              First_Crash_Type                  Trafficway_Type           Alignment                 Report_Type                        Crash_Type        Damage    Date_Police_Notified Prim_Contributory_Cause         Sec_Contributory_Cause  Num_Units        Most_Severe_Injury  Crash_Hour Crash_Day_Of_Week  Crash_Month   Latitude  Longitude Unit_Type  Num_Passengers    Make                         Model  Vehicle_Year                 Vehicle_Type Exceed_Speed_Limit_I           Crash_Date         City    State  Zipcode Sex  Age                 Safety_Equipment     Airbag_Deployed Ejection     Injury_Classification           Driver_Action Driver_Vision Physical_Condition        Bac_Result  Bac_Result Value Cell_Phone_Use  Day_Of_Week            Address Driving_Condition Drivers_License\n",
       "0           6                  35      STOP SIGN/FLASHER  FUNCTIONING PROPERLY                       TURNING                      NOT DIVIDED  STRAIGHT AND LEVEL                    ON SCENE  INJURY AND / OR TOW DUE TO CRASH   OVER $1,500  06/30/2017 04:01:00 PM           Non-negligent                 not applicable          2   NO INDICATION OF INJURY          16          Saturday            6  41.741804 -87.740954    DRIVER               0  NISSAN                       UNKNOWN          2011  SPORT UTILITY VEHICLE (SUV)              UNKNOWN  2017-06-30 16:00:00      CHICAGO       IL  UNKNOWN   F   20                    USAGE UNKNOWN  DEPLOYMENT UNKNOWN     NONE   NO INDICATION OF INJURY         FAILED TO YIELD       UNKNOWN            UNKNOWN  TEST NOT OFFERED               0.0        UNKNOWN            6  8301 S CICERO AVE           Perfect    Out of State\n",
       "1          12                  30         TRAFFIC SIGNAL  FUNCTIONING PROPERLY                      REAR END                         FOUR WAY  STRAIGHT AND LEVEL                    ON SCENE            NO INJURY / DRIVE AWAY   OVER $1,500  07/10/2020 10:25:00 AM           Non-negligent  failing to yield right-of-way          3   NO INDICATION OF INJURY          10          Saturday            7  41.773456 -87.585022    DRIVER               0  TOYOTA                         CAMRY          2012                    PASSENGER              UNKNOWN  2020-07-10 10:25:00      CHICAGO       IL    60617   M   50                    USAGE UNKNOWN      NOT APPLICABLE     NONE   NO INDICATION OF INJURY         FAILED TO YIELD       UNKNOWN             NORMAL  TEST NOT OFFERED               0.0        UNKNOWN            6     1632 E 67TH ST           Perfect    Out of State\n",
       "2          37                  30            NO CONTROLS           NO CONTROLS  SIDESWIPE OPPOSITE DIRECTION                      NOT DIVIDED  STRAIGHT AND LEVEL                    ON SCENE  INJURY AND / OR TOW DUE TO CRASH  $500 OR LESS  07/10/2020 10:20:00 PM               Negligent                 not applicable          2  NONINCAPACITATING INJURY          22          Saturday            7  41.880386 -87.725807    DRIVER               0  YAMAHA                        YAMAHA          2018      MOTORCYCLE (OVER 150CC)              UNKNOWN  2020-07-10 22:20:00  ST. CHARLES       IL    60175   M   26  DOT COMPLIANT MOTORCYCLE HELMET      NOT APPLICABLE     NONE  NONINCAPACITATING INJURY  EVADING POLICE VEHICLE  NOT OBSCURED             NORMAL  TEST NOT OFFERED               0.0        UNKNOWN            6    10 S PULASKI RD         Hazardous    Out of State\n",
       "3          45                  30         TRAFFIC SIGNAL  FUNCTIONING PROPERLY                       TURNING                      NOT DIVIDED  STRAIGHT AND LEVEL  NOT ON SCENE (DESK REPORT)            NO INJURY / DRIVE AWAY   OVER $1,500  08/30/2018 05:58:00 PM               Negligent            improper lane usage          2   NO INDICATION OF INJURY          17            Friday            8  41.903825 -87.643286    DRIVER               0    FORD                          FLEX          2017                    PASSENGER              UNKNOWN  2018-08-30 17:45:00     EVANSTON       IL    60201   M   44                    USAGE UNKNOWN      DID NOT DEPLOY     NONE   NO INDICATION OF INJURY                    NONE       UNKNOWN            UNKNOWN  TEST NOT OFFERED               0.0        UNKNOWN            5  600 W DIVISION ST         Hazardous    Out of State\n",
       "4          59                  30                UNKNOWN               UNKNOWN      SIDESWIPE SAME DIRECTION  DIVIDED - W/MEDIAN (NOT RAISED)  STRAIGHT AND LEVEL                    ON SCENE            NO INJURY / DRIVE AWAY  $500 OR LESS  07/10/2020 05:06:00 AM               Negligent                 not applicable          2   NO INDICATION OF INJURY           4          Saturday            7  41.886769 -87.745356    DRIVER               0   MAZDA  OTHER (EXPLAIN IN NARRATIVE)             0                    PASSENGER              UNKNOWN  2020-07-10 04:50:00      UNKNOWN  UNKNOWN  UNKNOWN   X    0                    USAGE UNKNOWN  DEPLOYMENT UNKNOWN  UNKNOWN   NO INDICATION OF INJURY        IMPROPER PASSING       UNKNOWN            UNKNOWN  TEST NOT OFFERED               0.0        UNKNOWN            6   351 N CICERO AVE         Hazardous    Out of State"
      ]
     },
     "execution_count": 71,
     "metadata": {},
     "output_type": "execute_result"
    }
   ],
   "source": [
    "test_data.head()"
   ]
  },
  {
   "cell_type": "markdown",
   "id": "sensitive-atlas",
   "metadata": {},
   "source": [
    "Checking the entire dataset to see how my data stacks up with each other. seeing if there is any type of commonality with anything"
   ]
  },
  {
   "cell_type": "code",
   "execution_count": 127,
   "id": "recent-share",
   "metadata": {},
   "outputs": [
    {
     "data": {
      "application/javascript": [
       "\n",
       "        if (window._pyforest_update_imports_cell) { window._pyforest_update_imports_cell('import numpy as np\\nimport seaborn as sns\\nimport matplotlib.pyplot as plt\\nimport pandas as pd'); }\n",
       "    "
      ],
      "text/plain": [
       "<IPython.core.display.Javascript object>"
      ]
     },
     "metadata": {},
     "output_type": "display_data"
    },
    {
     "ename": "KeyboardInterrupt",
     "evalue": "",
     "output_type": "error",
     "traceback": [
      "\u001b[1;31m---------------------------------------------------------------------------\u001b[0m",
      "\u001b[1;31mKeyboardInterrupt\u001b[0m                         Traceback (most recent call last)",
      "\u001b[1;32m<ipython-input-127-594529713d25>\u001b[0m in \u001b[0;36m<module>\u001b[1;34m\u001b[0m\n\u001b[1;32m----> 1\u001b[1;33m \u001b[0msns\u001b[0m\u001b[1;33m.\u001b[0m\u001b[0mpairplot\u001b[0m\u001b[1;33m(\u001b[0m\u001b[0mtest_data\u001b[0m\u001b[1;33m,\u001b[0m \u001b[0mhue\u001b[0m\u001b[1;33m=\u001b[0m\u001b[1;34m\"Prim_Contributory_Cause\"\u001b[0m\u001b[1;33m)\u001b[0m\u001b[1;33m\u001b[0m\u001b[1;33m\u001b[0m\u001b[0m\n\u001b[0m",
      "\u001b[1;32m~\\anaconda3\\lib\\site-packages\\seaborn\\_decorators.py\u001b[0m in \u001b[0;36minner_f\u001b[1;34m(*args, **kwargs)\u001b[0m\n\u001b[0;32m     44\u001b[0m             )\n\u001b[0;32m     45\u001b[0m         \u001b[0mkwargs\u001b[0m\u001b[1;33m.\u001b[0m\u001b[0mupdate\u001b[0m\u001b[1;33m(\u001b[0m\u001b[1;33m{\u001b[0m\u001b[0mk\u001b[0m\u001b[1;33m:\u001b[0m \u001b[0marg\u001b[0m \u001b[1;32mfor\u001b[0m \u001b[0mk\u001b[0m\u001b[1;33m,\u001b[0m \u001b[0marg\u001b[0m \u001b[1;32min\u001b[0m \u001b[0mzip\u001b[0m\u001b[1;33m(\u001b[0m\u001b[0msig\u001b[0m\u001b[1;33m.\u001b[0m\u001b[0mparameters\u001b[0m\u001b[1;33m,\u001b[0m \u001b[0margs\u001b[0m\u001b[1;33m)\u001b[0m\u001b[1;33m}\u001b[0m\u001b[1;33m)\u001b[0m\u001b[1;33m\u001b[0m\u001b[1;33m\u001b[0m\u001b[0m\n\u001b[1;32m---> 46\u001b[1;33m         \u001b[1;32mreturn\u001b[0m \u001b[0mf\u001b[0m\u001b[1;33m(\u001b[0m\u001b[1;33m**\u001b[0m\u001b[0mkwargs\u001b[0m\u001b[1;33m)\u001b[0m\u001b[1;33m\u001b[0m\u001b[1;33m\u001b[0m\u001b[0m\n\u001b[0m\u001b[0;32m     47\u001b[0m     \u001b[1;32mreturn\u001b[0m \u001b[0minner_f\u001b[0m\u001b[1;33m\u001b[0m\u001b[1;33m\u001b[0m\u001b[0m\n\u001b[0;32m     48\u001b[0m \u001b[1;33m\u001b[0m\u001b[0m\n",
      "\u001b[1;32m~\\anaconda3\\lib\\site-packages\\seaborn\\axisgrid.py\u001b[0m in \u001b[0;36mpairplot\u001b[1;34m(data, hue, hue_order, palette, vars, x_vars, y_vars, kind, diag_kind, markers, height, aspect, corner, dropna, plot_kws, diag_kws, grid_kws, size)\u001b[0m\n\u001b[0;32m   1989\u001b[0m     grid = PairGrid(data, vars=vars, x_vars=x_vars, y_vars=y_vars, hue=hue,\n\u001b[0;32m   1990\u001b[0m                     \u001b[0mhue_order\u001b[0m\u001b[1;33m=\u001b[0m\u001b[0mhue_order\u001b[0m\u001b[1;33m,\u001b[0m \u001b[0mpalette\u001b[0m\u001b[1;33m=\u001b[0m\u001b[0mpalette\u001b[0m\u001b[1;33m,\u001b[0m \u001b[0mcorner\u001b[0m\u001b[1;33m=\u001b[0m\u001b[0mcorner\u001b[0m\u001b[1;33m,\u001b[0m\u001b[1;33m\u001b[0m\u001b[1;33m\u001b[0m\u001b[0m\n\u001b[1;32m-> 1991\u001b[1;33m                     height=height, aspect=aspect, dropna=dropna, **grid_kws)\n\u001b[0m\u001b[0;32m   1992\u001b[0m \u001b[1;33m\u001b[0m\u001b[0m\n\u001b[0;32m   1993\u001b[0m     \u001b[1;31m# Add the markers here as PairGrid has figured out how many levels of the\u001b[0m\u001b[1;33m\u001b[0m\u001b[1;33m\u001b[0m\u001b[1;33m\u001b[0m\u001b[0m\n",
      "\u001b[1;32m~\\anaconda3\\lib\\site-packages\\seaborn\\_decorators.py\u001b[0m in \u001b[0;36minner_f\u001b[1;34m(*args, **kwargs)\u001b[0m\n\u001b[0;32m     44\u001b[0m             )\n\u001b[0;32m     45\u001b[0m         \u001b[0mkwargs\u001b[0m\u001b[1;33m.\u001b[0m\u001b[0mupdate\u001b[0m\u001b[1;33m(\u001b[0m\u001b[1;33m{\u001b[0m\u001b[0mk\u001b[0m\u001b[1;33m:\u001b[0m \u001b[0marg\u001b[0m \u001b[1;32mfor\u001b[0m \u001b[0mk\u001b[0m\u001b[1;33m,\u001b[0m \u001b[0marg\u001b[0m \u001b[1;32min\u001b[0m \u001b[0mzip\u001b[0m\u001b[1;33m(\u001b[0m\u001b[0msig\u001b[0m\u001b[1;33m.\u001b[0m\u001b[0mparameters\u001b[0m\u001b[1;33m,\u001b[0m \u001b[0margs\u001b[0m\u001b[1;33m)\u001b[0m\u001b[1;33m}\u001b[0m\u001b[1;33m)\u001b[0m\u001b[1;33m\u001b[0m\u001b[1;33m\u001b[0m\u001b[0m\n\u001b[1;32m---> 46\u001b[1;33m         \u001b[1;32mreturn\u001b[0m \u001b[0mf\u001b[0m\u001b[1;33m(\u001b[0m\u001b[1;33m**\u001b[0m\u001b[0mkwargs\u001b[0m\u001b[1;33m)\u001b[0m\u001b[1;33m\u001b[0m\u001b[1;33m\u001b[0m\u001b[0m\n\u001b[0m\u001b[0;32m     47\u001b[0m     \u001b[1;32mreturn\u001b[0m \u001b[0minner_f\u001b[0m\u001b[1;33m\u001b[0m\u001b[1;33m\u001b[0m\u001b[0m\n\u001b[0;32m     48\u001b[0m \u001b[1;33m\u001b[0m\u001b[0m\n",
      "\u001b[1;32m~\\anaconda3\\lib\\site-packages\\seaborn\\axisgrid.py\u001b[0m in \u001b[0;36m__init__\u001b[1;34m(self, data, hue, hue_order, palette, hue_kws, vars, x_vars, y_vars, corner, diag_sharey, height, aspect, layout_pad, despine, dropna, size)\u001b[0m\n\u001b[0;32m   1153\u001b[0m \u001b[1;33m\u001b[0m\u001b[0m\n\u001b[0;32m   1154\u001b[0m         \u001b[1;31m# Sort out the variables that define the grid\u001b[0m\u001b[1;33m\u001b[0m\u001b[1;33m\u001b[0m\u001b[1;33m\u001b[0m\u001b[0m\n\u001b[1;32m-> 1155\u001b[1;33m         \u001b[0mnumeric_cols\u001b[0m \u001b[1;33m=\u001b[0m \u001b[0mself\u001b[0m\u001b[1;33m.\u001b[0m\u001b[0m_find_numeric_cols\u001b[0m\u001b[1;33m(\u001b[0m\u001b[0mdata\u001b[0m\u001b[1;33m)\u001b[0m\u001b[1;33m\u001b[0m\u001b[1;33m\u001b[0m\u001b[0m\n\u001b[0m\u001b[0;32m   1156\u001b[0m         \u001b[1;32mif\u001b[0m \u001b[0mhue\u001b[0m \u001b[1;32min\u001b[0m \u001b[0mnumeric_cols\u001b[0m\u001b[1;33m:\u001b[0m\u001b[1;33m\u001b[0m\u001b[1;33m\u001b[0m\u001b[0m\n\u001b[0;32m   1157\u001b[0m             \u001b[0mnumeric_cols\u001b[0m\u001b[1;33m.\u001b[0m\u001b[0mremove\u001b[0m\u001b[1;33m(\u001b[0m\u001b[0mhue\u001b[0m\u001b[1;33m)\u001b[0m\u001b[1;33m\u001b[0m\u001b[1;33m\u001b[0m\u001b[0m\n",
      "\u001b[1;32m~\\anaconda3\\lib\\site-packages\\seaborn\\axisgrid.py\u001b[0m in \u001b[0;36m_find_numeric_cols\u001b[1;34m(self, data)\u001b[0m\n\u001b[0;32m   1566\u001b[0m         \u001b[0mnumeric_cols\u001b[0m \u001b[1;33m=\u001b[0m \u001b[1;33m[\u001b[0m\u001b[1;33m]\u001b[0m\u001b[1;33m\u001b[0m\u001b[1;33m\u001b[0m\u001b[0m\n\u001b[0;32m   1567\u001b[0m         \u001b[1;32mfor\u001b[0m \u001b[0mcol\u001b[0m \u001b[1;32min\u001b[0m \u001b[0mdata\u001b[0m\u001b[1;33m:\u001b[0m\u001b[1;33m\u001b[0m\u001b[1;33m\u001b[0m\u001b[0m\n\u001b[1;32m-> 1568\u001b[1;33m             \u001b[1;32mif\u001b[0m \u001b[0mvariable_type\u001b[0m\u001b[1;33m(\u001b[0m\u001b[0mdata\u001b[0m\u001b[1;33m[\u001b[0m\u001b[0mcol\u001b[0m\u001b[1;33m]\u001b[0m\u001b[1;33m)\u001b[0m \u001b[1;33m==\u001b[0m \u001b[1;34m\"numeric\"\u001b[0m\u001b[1;33m:\u001b[0m\u001b[1;33m\u001b[0m\u001b[1;33m\u001b[0m\u001b[0m\n\u001b[0m\u001b[0;32m   1569\u001b[0m                 \u001b[0mnumeric_cols\u001b[0m\u001b[1;33m.\u001b[0m\u001b[0mappend\u001b[0m\u001b[1;33m(\u001b[0m\u001b[0mcol\u001b[0m\u001b[1;33m)\u001b[0m\u001b[1;33m\u001b[0m\u001b[1;33m\u001b[0m\u001b[0m\n\u001b[0;32m   1570\u001b[0m         \u001b[1;32mreturn\u001b[0m \u001b[0mnumeric_cols\u001b[0m\u001b[1;33m\u001b[0m\u001b[1;33m\u001b[0m\u001b[0m\n",
      "\u001b[1;32m~\\anaconda3\\lib\\site-packages\\seaborn\\_core.py\u001b[0m in \u001b[0;36mvariable_type\u001b[1;34m(vector, boolean_type)\u001b[0m\n\u001b[0;32m   1220\u001b[0m \u001b[1;33m\u001b[0m\u001b[0m\n\u001b[0;32m   1221\u001b[0m     \u001b[1;31m# Special-case all-na data, which is always \"numeric\"\u001b[0m\u001b[1;33m\u001b[0m\u001b[1;33m\u001b[0m\u001b[1;33m\u001b[0m\u001b[0m\n\u001b[1;32m-> 1222\u001b[1;33m     \u001b[1;32mif\u001b[0m \u001b[0mpd\u001b[0m\u001b[1;33m.\u001b[0m\u001b[0misna\u001b[0m\u001b[1;33m(\u001b[0m\u001b[0mvector\u001b[0m\u001b[1;33m)\u001b[0m\u001b[1;33m.\u001b[0m\u001b[0mall\u001b[0m\u001b[1;33m(\u001b[0m\u001b[1;33m)\u001b[0m\u001b[1;33m:\u001b[0m\u001b[1;33m\u001b[0m\u001b[1;33m\u001b[0m\u001b[0m\n\u001b[0m\u001b[0;32m   1223\u001b[0m         \u001b[1;32mreturn\u001b[0m \u001b[1;34m\"numeric\"\u001b[0m\u001b[1;33m\u001b[0m\u001b[1;33m\u001b[0m\u001b[0m\n\u001b[0;32m   1224\u001b[0m \u001b[1;33m\u001b[0m\u001b[0m\n",
      "\u001b[1;32m~\\anaconda3\\lib\\site-packages\\pandas\\core\\dtypes\\missing.py\u001b[0m in \u001b[0;36misna\u001b[1;34m(obj)\u001b[0m\n\u001b[0;32m    125\u001b[0m     \u001b[0mName\u001b[0m\u001b[1;33m:\u001b[0m \u001b[1;36m1\u001b[0m\u001b[1;33m,\u001b[0m \u001b[0mdtype\u001b[0m\u001b[1;33m:\u001b[0m \u001b[0mbool\u001b[0m\u001b[1;33m\u001b[0m\u001b[1;33m\u001b[0m\u001b[0m\n\u001b[0;32m    126\u001b[0m     \"\"\"\n\u001b[1;32m--> 127\u001b[1;33m     \u001b[1;32mreturn\u001b[0m \u001b[0m_isna\u001b[0m\u001b[1;33m(\u001b[0m\u001b[0mobj\u001b[0m\u001b[1;33m)\u001b[0m\u001b[1;33m\u001b[0m\u001b[1;33m\u001b[0m\u001b[0m\n\u001b[0m\u001b[0;32m    128\u001b[0m \u001b[1;33m\u001b[0m\u001b[0m\n\u001b[0;32m    129\u001b[0m \u001b[1;33m\u001b[0m\u001b[0m\n",
      "\u001b[1;32m~\\anaconda3\\lib\\site-packages\\pandas\\core\\dtypes\\missing.py\u001b[0m in \u001b[0;36m_isna\u001b[1;34m(obj, inf_as_na)\u001b[0m\n\u001b[0;32m    158\u001b[0m         \u001b[1;32mreturn\u001b[0m \u001b[1;32mFalse\u001b[0m\u001b[1;33m\u001b[0m\u001b[1;33m\u001b[0m\u001b[0m\n\u001b[0;32m    159\u001b[0m     \u001b[1;32melif\u001b[0m \u001b[0misinstance\u001b[0m\u001b[1;33m(\u001b[0m\u001b[0mobj\u001b[0m\u001b[1;33m,\u001b[0m \u001b[1;33m(\u001b[0m\u001b[0mABCSeries\u001b[0m\u001b[1;33m,\u001b[0m \u001b[0mnp\u001b[0m\u001b[1;33m.\u001b[0m\u001b[0mndarray\u001b[0m\u001b[1;33m,\u001b[0m \u001b[0mABCIndexClass\u001b[0m\u001b[1;33m,\u001b[0m \u001b[0mABCExtensionArray\u001b[0m\u001b[1;33m)\u001b[0m\u001b[1;33m)\u001b[0m\u001b[1;33m:\u001b[0m\u001b[1;33m\u001b[0m\u001b[1;33m\u001b[0m\u001b[0m\n\u001b[1;32m--> 160\u001b[1;33m         \u001b[1;32mreturn\u001b[0m \u001b[0m_isna_ndarraylike\u001b[0m\u001b[1;33m(\u001b[0m\u001b[0mobj\u001b[0m\u001b[1;33m,\u001b[0m \u001b[0minf_as_na\u001b[0m\u001b[1;33m=\u001b[0m\u001b[0minf_as_na\u001b[0m\u001b[1;33m)\u001b[0m\u001b[1;33m\u001b[0m\u001b[1;33m\u001b[0m\u001b[0m\n\u001b[0m\u001b[0;32m    161\u001b[0m     \u001b[1;32melif\u001b[0m \u001b[0misinstance\u001b[0m\u001b[1;33m(\u001b[0m\u001b[0mobj\u001b[0m\u001b[1;33m,\u001b[0m \u001b[0mABCDataFrame\u001b[0m\u001b[1;33m)\u001b[0m\u001b[1;33m:\u001b[0m\u001b[1;33m\u001b[0m\u001b[1;33m\u001b[0m\u001b[0m\n\u001b[0;32m    162\u001b[0m         \u001b[1;32mreturn\u001b[0m \u001b[0mobj\u001b[0m\u001b[1;33m.\u001b[0m\u001b[0misna\u001b[0m\u001b[1;33m(\u001b[0m\u001b[1;33m)\u001b[0m\u001b[1;33m\u001b[0m\u001b[1;33m\u001b[0m\u001b[0m\n",
      "\u001b[1;32m~\\anaconda3\\lib\\site-packages\\pandas\\core\\dtypes\\missing.py\u001b[0m in \u001b[0;36m_isna_ndarraylike\u001b[1;34m(obj, inf_as_na)\u001b[0m\n\u001b[0;32m    233\u001b[0m             \u001b[0mresult\u001b[0m \u001b[1;33m=\u001b[0m \u001b[1;33m~\u001b[0m\u001b[0mnp\u001b[0m\u001b[1;33m.\u001b[0m\u001b[0misfinite\u001b[0m\u001b[1;33m(\u001b[0m\u001b[0mvalues\u001b[0m\u001b[1;33m)\u001b[0m\u001b[1;33m\u001b[0m\u001b[1;33m\u001b[0m\u001b[0m\n\u001b[0;32m    234\u001b[0m         \u001b[1;32melse\u001b[0m\u001b[1;33m:\u001b[0m\u001b[1;33m\u001b[0m\u001b[1;33m\u001b[0m\u001b[0m\n\u001b[1;32m--> 235\u001b[1;33m             \u001b[0mresult\u001b[0m \u001b[1;33m=\u001b[0m \u001b[0mnp\u001b[0m\u001b[1;33m.\u001b[0m\u001b[0misnan\u001b[0m\u001b[1;33m(\u001b[0m\u001b[0mvalues\u001b[0m\u001b[1;33m)\u001b[0m\u001b[1;33m\u001b[0m\u001b[1;33m\u001b[0m\u001b[0m\n\u001b[0m\u001b[0;32m    236\u001b[0m \u001b[1;33m\u001b[0m\u001b[0m\n\u001b[0;32m    237\u001b[0m     \u001b[1;31m# box\u001b[0m\u001b[1;33m\u001b[0m\u001b[1;33m\u001b[0m\u001b[1;33m\u001b[0m\u001b[0m\n",
      "\u001b[1;31mKeyboardInterrupt\u001b[0m: "
     ]
    }
   ],
   "source": [
    "sns.pairplot(test_data, hue=\"Prim_Contributory_Cause\")"
   ]
  },
  {
   "cell_type": "markdown",
   "id": "creative-meaning",
   "metadata": {},
   "source": [
    "### Class Imbalance?\n",
    "I am looking to see if there is any sort of possible class imbalance. if there is then than the model will have a real difficult time trying to determine if the driver was negligent or not. I am going to first remove the undertermined data out of the cleaned data. "
   ]
  },
  {
   "cell_type": "code",
   "execution_count": 72,
   "id": "recent-camping",
   "metadata": {},
   "outputs": [],
   "source": [
    "final_df = test_data[test_data['Prim_Contributory_Cause'] != 'undetermined']"
   ]
  },
  {
   "cell_type": "code",
   "execution_count": 95,
   "id": "medical-geneva",
   "metadata": {},
   "outputs": [
    {
     "data": {
      "application/javascript": [
       "\n",
       "        if (window._pyforest_update_imports_cell) { window._pyforest_update_imports_cell('import numpy as np\\nimport seaborn as sns\\nimport matplotlib.pyplot as plt\\nimport pandas as pd'); }\n",
       "    "
      ],
      "text/plain": [
       "<IPython.core.display.Javascript object>"
      ]
     },
     "metadata": {},
     "output_type": "display_data"
    },
    {
     "data": {
      "application/javascript": [
       "\n",
       "        if (window._pyforest_update_imports_cell) { window._pyforest_update_imports_cell('import numpy as np\\nimport seaborn as sns\\nimport matplotlib.pyplot as plt\\nimport pandas as pd'); }\n",
       "    "
      ],
      "text/plain": [
       "<IPython.core.display.Javascript object>"
      ]
     },
     "metadata": {},
     "output_type": "display_data"
    },
    {
     "data": {
      "application/javascript": [
       "\n",
       "        if (window._pyforest_update_imports_cell) { window._pyforest_update_imports_cell('import numpy as np\\nimport seaborn as sns\\nimport matplotlib.pyplot as plt\\nimport pandas as pd'); }\n",
       "    "
      ],
      "text/plain": [
       "<IPython.core.display.Javascript object>"
      ]
     },
     "metadata": {},
     "output_type": "display_data"
    },
    {
     "data": {
      "image/png": "[encoded data removed]",
      "text/plain": [
       "<Figure size 720x720 with 1 Axes>"
      ]
     },
     "metadata": {
      "needs_background": "light"
     },
     "output_type": "display_data"
    }
   ],
   "source": [
    "title = 'Crash Frequency'\n",
    "y1 = 'Number of crashes'\n",
    "x1 = ''\n",
    "Graph(final_df, 'Prim_Contributory_Cause',None,'countplot',title,y1,x1,(10,10))"
   ]
  },
  {
   "cell_type": "markdown",
   "id": "virtual-german",
   "metadata": {},
   "source": [
    "As you can see there is a class imbalance in this dataset. How I am going to do to fix that is take a sample of the dataset at 5,000 data points. The reason I am going with 5,000 instead of more is so my model will have enough data to be able to classify and wont take a long time to predict and run through. I will be saving that to a csv file as Training_Data for use in the model."
   ]
  },
  {
   "cell_type": "code",
   "execution_count": 74,
   "id": "statistical-episode",
   "metadata": {},
   "outputs": [
    {
     "data": {
      "application/javascript": [
       "\n",
       "        if (window._pyforest_update_imports_cell) { window._pyforest_update_imports_cell('import numpy as np\\nimport seaborn as sns\\nimport matplotlib.pyplot as plt\\nimport pandas as pd'); }\n",
       "    "
      ],
      "text/plain": [
       "<IPython.core.display.Javascript object>"
      ]
     },
     "metadata": {},
     "output_type": "display_data"
    }
   ],
   "source": [
    "Negligent = final_df[final_df['Prim_Contributory_Cause'] == 'Negligent'].copy()\n",
    "non_negligent = final_df[final_df['Prim_Contributory_Cause'] =='Non-negligent'].copy()\n",
    "df = non_negligent.sample(10000,random_state = 100)\n",
    "df2 = Negligent.sample(10000, random_state = 100)\n",
    "final = pd.concat([df,df2],join = 'inner')\n",
    "\n",
    "final.to_csv('E:\\Schoolwork\\Flat Iron\\Classwork\\Module 3\\Project\\Phase-3-project\\Data\\Training_Data.csv')"
   ]
  },
  {
   "cell_type": "markdown",
   "id": "painted-cannon",
   "metadata": {},
   "source": [
    "### What days are the most crashes to occur\n"
   ]
  },
  {
   "cell_type": "code",
   "execution_count": 96,
   "id": "first-colorado",
   "metadata": {},
   "outputs": [
    {
     "data": {
      "application/javascript": [
       "\n",
       "        if (window._pyforest_update_imports_cell) { window._pyforest_update_imports_cell('import numpy as np\\nimport seaborn as sns\\nimport matplotlib.pyplot as plt\\nimport pandas as pd'); }\n",
       "    "
      ],
      "text/plain": [
       "<IPython.core.display.Javascript object>"
      ]
     },
     "metadata": {},
     "output_type": "display_data"
    },
    {
     "data": {
      "application/javascript": [
       "\n",
       "        if (window._pyforest_update_imports_cell) { window._pyforest_update_imports_cell('import numpy as np\\nimport seaborn as sns\\nimport matplotlib.pyplot as plt\\nimport pandas as pd'); }\n",
       "    "
      ],
      "text/plain": [
       "<IPython.core.display.Javascript object>"
      ]
     },
     "metadata": {},
     "output_type": "display_data"
    },
    {
     "data": {
      "application/javascript": [
       "\n",
       "        if (window._pyforest_update_imports_cell) { window._pyforest_update_imports_cell('import numpy as np\\nimport seaborn as sns\\nimport matplotlib.pyplot as plt\\nimport pandas as pd'); }\n",
       "    "
      ],
      "text/plain": [
       "<IPython.core.display.Javascript object>"
      ]
     },
     "metadata": {},
     "output_type": "display_data"
    },
    {
     "data": {
      "image/png": "[encoded data removed]",
      "text/plain": [
       "<Figure size 720x720 with 1 Axes>"
      ]
     },
     "metadata": {
      "needs_background": "light"
     },
     "output_type": "display_data"
    }
   ],
   "source": [
    "\n",
    "title = 'Crashes based on day of the week'\n",
    "y1 = 'Number of crashes'\n",
    "x1 = 'Day of the week'\n",
    "Graph(final, 'Crash_Day_Of_Week',None,'countplot',title,y1,x1,(10,10))\n",
    "# ax = sns.violinplot(x=\"Crash_Day_Of_Week\"., y=\"Prim_Contributory_Cause\", #hue=\"smoker\",\n",
    "#                     data=test_data, palette=\"muted\")"
   ]
  },
  {
   "cell_type": "markdown",
   "id": "noble-bankruptcy",
   "metadata": {},
   "source": [
    "### What time is the most crashes to occur\n",
    "Crash time is based off of military time"
   ]
  },
  {
   "cell_type": "code",
   "execution_count": 97,
   "id": "million-russell",
   "metadata": {
    "scrolled": false
   },
   "outputs": [
    {
     "name": "stderr",
     "output_type": "stream",
     "text": [
      "C:\\Users\\Thomas\\anaconda3\\lib\\site-packages\\ipykernel_launcher.py:5: UserWarning: Boolean Series key will be reindexed to match DataFrame index.\n",
      "  \"\"\"\n"
     ]
    },
    {
     "data": {
      "application/javascript": [
       "\n",
       "        if (window._pyforest_update_imports_cell) { window._pyforest_update_imports_cell('import numpy as np\\nimport seaborn as sns\\nimport matplotlib.pyplot as plt\\nimport pandas as pd'); }\n",
       "    "
      ],
      "text/plain": [
       "<IPython.core.display.Javascript object>"
      ]
     },
     "metadata": {},
     "output_type": "display_data"
    },
    {
     "data": {
      "application/javascript": [
       "\n",
       "        if (window._pyforest_update_imports_cell) { window._pyforest_update_imports_cell('import numpy as np\\nimport seaborn as sns\\nimport matplotlib.pyplot as plt\\nimport pandas as pd'); }\n",
       "    "
      ],
      "text/plain": [
       "<IPython.core.display.Javascript object>"
      ]
     },
     "metadata": {},
     "output_type": "display_data"
    },
    {
     "data": {
      "application/javascript": [
       "\n",
       "        if (window._pyforest_update_imports_cell) { window._pyforest_update_imports_cell('import numpy as np\\nimport seaborn as sns\\nimport matplotlib.pyplot as plt\\nimport pandas as pd'); }\n",
       "    "
      ],
      "text/plain": [
       "<IPython.core.display.Javascript object>"
      ]
     },
     "metadata": {},
     "output_type": "display_data"
    },
    {
     "name": "stderr",
     "output_type": "stream",
     "text": [
      "C:\\Users\\Thomas\\anaconda3\\lib\\site-packages\\ipykernel_launcher.py:5: UserWarning: Boolean Series key will be reindexed to match DataFrame index.\n",
      "  \"\"\"\n"
     ]
    },
    {
     "data": {
      "application/javascript": [
       "\n",
       "        if (window._pyforest_update_imports_cell) { window._pyforest_update_imports_cell('import numpy as np\\nimport seaborn as sns\\nimport matplotlib.pyplot as plt\\nimport pandas as pd'); }\n",
       "    "
      ],
      "text/plain": [
       "<IPython.core.display.Javascript object>"
      ]
     },
     "metadata": {},
     "output_type": "display_data"
    },
    {
     "data": {
      "application/javascript": [
       "\n",
       "        if (window._pyforest_update_imports_cell) { window._pyforest_update_imports_cell('import numpy as np\\nimport seaborn as sns\\nimport matplotlib.pyplot as plt\\nimport pandas as pd'); }\n",
       "    "
      ],
      "text/plain": [
       "<IPython.core.display.Javascript object>"
      ]
     },
     "metadata": {},
     "output_type": "display_data"
    },
    {
     "data": {
      "application/javascript": [
       "\n",
       "        if (window._pyforest_update_imports_cell) { window._pyforest_update_imports_cell('import numpy as np\\nimport seaborn as sns\\nimport matplotlib.pyplot as plt\\nimport pandas as pd'); }\n",
       "    "
      ],
      "text/plain": [
       "<IPython.core.display.Javascript object>"
      ]
     },
     "metadata": {},
     "output_type": "display_data"
    },
    {
     "name": "stderr",
     "output_type": "stream",
     "text": [
      "C:\\Users\\Thomas\\anaconda3\\lib\\site-packages\\ipykernel_launcher.py:5: UserWarning: Boolean Series key will be reindexed to match DataFrame index.\n",
      "  \"\"\"\n"
     ]
    },
    {
     "data": {
      "application/javascript": [
       "\n",
       "        if (window._pyforest_update_imports_cell) { window._pyforest_update_imports_cell('import numpy as np\\nimport seaborn as sns\\nimport matplotlib.pyplot as plt\\nimport pandas as pd'); }\n",
       "    "
      ],
      "text/plain": [
       "<IPython.core.display.Javascript object>"
      ]
     },
     "metadata": {},
     "output_type": "display_data"
    },
    {
     "data": {
      "application/javascript": [
       "\n",
       "        if (window._pyforest_update_imports_cell) { window._pyforest_update_imports_cell('import numpy as np\\nimport seaborn as sns\\nimport matplotlib.pyplot as plt\\nimport pandas as pd'); }\n",
       "    "
      ],
      "text/plain": [
       "<IPython.core.display.Javascript object>"
      ]
     },
     "metadata": {},
     "output_type": "display_data"
    },
    {
     "data": {
      "application/javascript": [
       "\n",
       "        if (window._pyforest_update_imports_cell) { window._pyforest_update_imports_cell('import numpy as np\\nimport seaborn as sns\\nimport matplotlib.pyplot as plt\\nimport pandas as pd'); }\n",
       "    "
      ],
      "text/plain": [
       "<IPython.core.display.Javascript object>"
      ]
     },
     "metadata": {},
     "output_type": "display_data"
    },
    {
     "name": "stderr",
     "output_type": "stream",
     "text": [
      "C:\\Users\\Thomas\\anaconda3\\lib\\site-packages\\ipykernel_launcher.py:5: UserWarning: Boolean Series key will be reindexed to match DataFrame index.\n",
      "  \"\"\"\n"
     ]
    },
    {
     "data": {
      "application/javascript": [
       "\n",
       "        if (window._pyforest_update_imports_cell) { window._pyforest_update_imports_cell('import numpy as np\\nimport seaborn as sns\\nimport matplotlib.pyplot as plt\\nimport pandas as pd'); }\n",
       "    "
      ],
      "text/plain": [
       "<IPython.core.display.Javascript object>"
      ]
     },
     "metadata": {},
     "output_type": "display_data"
    },
    {
     "data": {
      "application/javascript": [
       "\n",
       "        if (window._pyforest_update_imports_cell) { window._pyforest_update_imports_cell('import numpy as np\\nimport seaborn as sns\\nimport matplotlib.pyplot as plt\\nimport pandas as pd'); }\n",
       "    "
      ],
      "text/plain": [
       "<IPython.core.display.Javascript object>"
      ]
     },
     "metadata": {},
     "output_type": "display_data"
    },
    {
     "data": {
      "application/javascript": [
       "\n",
       "        if (window._pyforest_update_imports_cell) { window._pyforest_update_imports_cell('import numpy as np\\nimport seaborn as sns\\nimport matplotlib.pyplot as plt\\nimport pandas as pd'); }\n",
       "    "
      ],
      "text/plain": [
       "<IPython.core.display.Javascript object>"
      ]
     },
     "metadata": {},
     "output_type": "display_data"
    },
    {
     "name": "stderr",
     "output_type": "stream",
     "text": [
      "C:\\Users\\Thomas\\anaconda3\\lib\\site-packages\\ipykernel_launcher.py:5: UserWarning: Boolean Series key will be reindexed to match DataFrame index.\n",
      "  \"\"\"\n"
     ]
    },
    {
     "data": {
      "application/javascript": [
       "\n",
       "        if (window._pyforest_update_imports_cell) { window._pyforest_update_imports_cell('import numpy as np\\nimport seaborn as sns\\nimport matplotlib.pyplot as plt\\nimport pandas as pd'); }\n",
       "    "
      ],
      "text/plain": [
       "<IPython.core.display.Javascript object>"
      ]
     },
     "metadata": {},
     "output_type": "display_data"
    },
    {
     "data": {
      "application/javascript": [
       "\n",
       "        if (window._pyforest_update_imports_cell) { window._pyforest_update_imports_cell('import numpy as np\\nimport seaborn as sns\\nimport matplotlib.pyplot as plt\\nimport pandas as pd'); }\n",
       "    "
      ],
      "text/plain": [
       "<IPython.core.display.Javascript object>"
      ]
     },
     "metadata": {},
     "output_type": "display_data"
    },
    {
     "data": {
      "application/javascript": [
       "\n",
       "        if (window._pyforest_update_imports_cell) { window._pyforest_update_imports_cell('import numpy as np\\nimport seaborn as sns\\nimport matplotlib.pyplot as plt\\nimport pandas as pd'); }\n",
       "    "
      ],
      "text/plain": [
       "<IPython.core.display.Javascript object>"
      ]
     },
     "metadata": {},
     "output_type": "display_data"
    },
    {
     "name": "stderr",
     "output_type": "stream",
     "text": [
      "C:\\Users\\Thomas\\anaconda3\\lib\\site-packages\\ipykernel_launcher.py:5: UserWarning: Boolean Series key will be reindexed to match DataFrame index.\n",
      "  \"\"\"\n"
     ]
    },
    {
     "data": {
      "application/javascript": [
       "\n",
       "        if (window._pyforest_update_imports_cell) { window._pyforest_update_imports_cell('import numpy as np\\nimport seaborn as sns\\nimport matplotlib.pyplot as plt\\nimport pandas as pd'); }\n",
       "    "
      ],
      "text/plain": [
       "<IPython.core.display.Javascript object>"
      ]
     },
     "metadata": {},
     "output_type": "display_data"
    },
    {
     "data": {
      "application/javascript": [
       "\n",
       "        if (window._pyforest_update_imports_cell) { window._pyforest_update_imports_cell('import numpy as np\\nimport seaborn as sns\\nimport matplotlib.pyplot as plt\\nimport pandas as pd'); }\n",
       "    "
      ],
      "text/plain": [
       "<IPython.core.display.Javascript object>"
      ]
     },
     "metadata": {},
     "output_type": "display_data"
    },
    {
     "data": {
      "application/javascript": [
       "\n",
       "        if (window._pyforest_update_imports_cell) { window._pyforest_update_imports_cell('import numpy as np\\nimport seaborn as sns\\nimport matplotlib.pyplot as plt\\nimport pandas as pd'); }\n",
       "    "
      ],
      "text/plain": [
       "<IPython.core.display.Javascript object>"
      ]
     },
     "metadata": {},
     "output_type": "display_data"
    },
    {
     "data": {
      "image/png": "[encoded data removed]",
      "text/plain": [
       "<Figure size 1080x1080 with 1 Axes>"
      ]
     },
     "metadata": {
      "needs_background": "light"
     },
     "output_type": "display_data"
    },
    {
     "data": {
      "image/png": "[encoded data removed]",
      "text/plain": [
       "<Figure size 1080x1080 with 1 Axes>"
      ]
     },
     "metadata": {
      "needs_background": "light"
     },
     "output_type": "display_data"
    },
    {
     "data": {
      "image/png": "[encoded data removed]",
      "text/plain": [
       "<Figure size 1080x1080 with 1 Axes>"
      ]
     },
     "metadata": {
      "needs_background": "light"
     },
     "output_type": "display_data"
    },
    {
     "data": {
      "image/png": "[encoded data removed]",
      "text/plain": [
       "<Figure size 1080x1080 with 1 Axes>"
      ]
     },
     "metadata": {
      "needs_background": "light"
     },
     "output_type": "display_data"
    },
    {
     "data": {
      "image/png": "[encoded data removed]",
      "text/plain": [
       "<Figure size 1080x1080 with 1 Axes>"
      ]
     },
     "metadata": {
      "needs_background": "light"
     },
     "output_type": "display_data"
    },
    {
     "data": {
      "image/png": "[encoded data removed]",
      "text/plain": [
       "<Figure size 1080x1080 with 1 Axes>"
      ]
     },
     "metadata": {
      "needs_background": "light"
     },
     "output_type": "display_data"
    }
   ],
   "source": [
    "title = 'Crashes based on day of the week'\n",
    "y1 = 'Number of crashes'\n",
    "x1 = 'Hour of the day'\n",
    "for i in range(1,7):\n",
    "    Graph(final[test_data.Day_Of_Week == i], 'Crash_Hour',None,'countplot',title,y1,x1,(15,15))\n",
    "    "
   ]
  },
  {
   "cell_type": "markdown",
   "id": "silver-sugar",
   "metadata": {},
   "source": [
    "From the looks of this graph it looks like most of the main crashes are based around the usual morning and afternoon commute"
   ]
  },
  {
   "cell_type": "markdown",
   "id": "initial-begin",
   "metadata": {},
   "source": [
    "### Crashes by Age\n",
    "Now lets take a look at the age ranges and see if age could be a decent factor to look at"
   ]
  },
  {
   "cell_type": "code",
   "execution_count": 98,
   "id": "above-contact",
   "metadata": {},
   "outputs": [
    {
     "data": {
      "application/javascript": [
       "\n",
       "        if (window._pyforest_update_imports_cell) { window._pyforest_update_imports_cell('import numpy as np\\nimport seaborn as sns\\nimport matplotlib.pyplot as plt\\nimport pandas as pd'); }\n",
       "    "
      ],
      "text/plain": [
       "<IPython.core.display.Javascript object>"
      ]
     },
     "metadata": {},
     "output_type": "display_data"
    },
    {
     "data": {
      "application/javascript": [
       "\n",
       "        if (window._pyforest_update_imports_cell) { window._pyforest_update_imports_cell('import numpy as np\\nimport seaborn as sns\\nimport matplotlib.pyplot as plt\\nimport pandas as pd'); }\n",
       "    "
      ],
      "text/plain": [
       "<IPython.core.display.Javascript object>"
      ]
     },
     "metadata": {},
     "output_type": "display_data"
    },
    {
     "data": {
      "application/javascript": [
       "\n",
       "        if (window._pyforest_update_imports_cell) { window._pyforest_update_imports_cell('import numpy as np\\nimport seaborn as sns\\nimport matplotlib.pyplot as plt\\nimport pandas as pd'); }\n",
       "    "
      ],
      "text/plain": [
       "<IPython.core.display.Javascript object>"
      ]
     },
     "metadata": {},
     "output_type": "display_data"
    },
    {
     "data": {
      "text/plain": [
       "<Figure size 1440x1440 with 0 Axes>"
      ]
     },
     "metadata": {},
     "output_type": "display_data"
    },
    {
     "data": {
      "image/png": "[encoded data removed]",
      "text/plain": [
       "<Figure size 360x360 with 1 Axes>"
      ]
     },
     "metadata": {
      "needs_background": "light"
     },
     "output_type": "display_data"
    }
   ],
   "source": [
    "title = 'Crashes based on Age'\n",
    "y1 = 'Number of crashes'\n",
    "x1 = ''\n",
    "Graph(final, 'Age',None,'distplot',title,y1,x1, size = (20,20))"
   ]
  },
  {
   "cell_type": "markdown",
   "id": "coupled-table",
   "metadata": {},
   "source": [
    "Looks really bad like this and very skewed. In EDA we went ahead and took all nulls and missing values and set them to zero cause we could use this section. Will limit the ages to a range of 16 (getting a permit) and 90 (rough age people stop driving)\n"
   ]
  },
  {
   "cell_type": "code",
   "execution_count": 100,
   "id": "extended-anthony",
   "metadata": {},
   "outputs": [
    {
     "data": {
      "application/javascript": [
       "\n",
       "        if (window._pyforest_update_imports_cell) { window._pyforest_update_imports_cell('import numpy as np\\nimport seaborn as sns\\nimport matplotlib.pyplot as plt\\nimport pandas as pd'); }\n",
       "    "
      ],
      "text/plain": [
       "<IPython.core.display.Javascript object>"
      ]
     },
     "metadata": {},
     "output_type": "display_data"
    },
    {
     "data": {
      "application/javascript": [
       "\n",
       "        if (window._pyforest_update_imports_cell) { window._pyforest_update_imports_cell('import numpy as np\\nimport seaborn as sns\\nimport matplotlib.pyplot as plt\\nimport pandas as pd'); }\n",
       "    "
      ],
      "text/plain": [
       "<IPython.core.display.Javascript object>"
      ]
     },
     "metadata": {},
     "output_type": "display_data"
    },
    {
     "data": {
      "application/javascript": [
       "\n",
       "        if (window._pyforest_update_imports_cell) { window._pyforest_update_imports_cell('import numpy as np\\nimport seaborn as sns\\nimport matplotlib.pyplot as plt\\nimport pandas as pd'); }\n",
       "    "
      ],
      "text/plain": [
       "<IPython.core.display.Javascript object>"
      ]
     },
     "metadata": {},
     "output_type": "display_data"
    },
    {
     "data": {
      "text/plain": [
       "<Figure size 1440x1440 with 0 Axes>"
      ]
     },
     "metadata": {},
     "output_type": "display_data"
    },
    {
     "data": {
      "image/png": "[encoded data removed]",
      "text/plain": [
       "<Figure size 360x360 with 1 Axes>"
      ]
     },
     "metadata": {
      "needs_background": "light"
     },
     "output_type": "display_data"
    }
   ],
   "source": [
    "age_data = final[(final.Age >=16) & (final.Age < 90)]\n",
    "title = 'Crashes based on Age'\n",
    "y1 = 'Number of crashes'\n",
    "x1 = ''\n",
    "Graph(age_data, 'Age',None,'distplot',title,y1,x1, size = (20,20))"
   ]
  },
  {
   "cell_type": "markdown",
   "id": "italian-scheduling",
   "metadata": {},
   "source": [
    "### Location of most crash sites\n",
    "Lets take a quick look at the locations of the top 25 places that the crashes are most common. There are over 150k unique crash addresses so we are just going to take a look a few of those places to get an idea of where they could be located."
   ]
  },
  {
   "cell_type": "code",
   "execution_count": 101,
   "id": "secondary-programmer",
   "metadata": {},
   "outputs": [],
   "source": [
    "n = 25\n",
    "address_top_25 = final['Address'].value_counts()[:n].index.tolist()\n"
   ]
  },
  {
   "cell_type": "code",
   "execution_count": 102,
   "id": "failing-farmer",
   "metadata": {},
   "outputs": [],
   "source": [
    "address_list = test_data[(test_data.Address.isin(address_top_25))].copy()\n",
    "address_list.drop_duplicates(subset=['Address'], keep='first', inplace=True)"
   ]
  },
  {
   "cell_type": "code",
   "execution_count": 105,
   "id": "interested-albany",
   "metadata": {},
   "outputs": [],
   "source": [
    "# from arcgis import GIS\n",
    "# gis = GIS(\"http://www.arcgis.com/\", \"shadowsword_0\",\"Acidblade1\")\n",
    "# mapp = gis.map('Chicago')\n",
    "# addresses = pd.DataFrame.spatial.from_xy(address_list,'Longitude','Latitude')\n",
    "# addresses.spatial.plot(map_widget=mapp, renderer_type = \"s\", marker_size = 5,\n",
    "#                           symbol_type='simple',symbol_style='d', # d - for diamonds\n",
    "#                           colors='Reds_r',\n",
    "#                           cstep=10,\n",
    "#                           outline_color='Blues',\n",
    "#                           renderer = 'ClassedSizeRenderer')\n",
    "\n",
    "# mapp"
   ]
  },
  {
   "cell_type": "markdown",
   "id": "ahead-party",
   "metadata": {},
   "source": [
    "Just taking a quick look at this shows me that the most of the places the crashes occur are on or around the interstates and highways. That is to be expected though given the previous notice of the times the crashes occur. It also is not surprising that some of the reasons for these top 25 having a result of reckless driving and drunk driving is based off the age graph"
   ]
  },
  {
   "cell_type": "markdown",
   "id": "resident-sixth",
   "metadata": {},
   "source": [
    "# Model\n",
    "Let's take a look more into the classification aspect of what it is we are doing and run it through the Random Forest machine learning algorithm and give recommendations on what we should do after that. We will be basing our Train Test Split off of the PRIMARY CONTRIBUTORY CAUSES"
   ]
  },
  {
   "cell_type": "markdown",
   "id": "fitting-atlas",
   "metadata": {},
   "source": [
    "## Train Test Split setup\n"
   ]
  },
  {
   "cell_type": "code",
   "execution_count": 109,
   "id": "stock-aurora",
   "metadata": {},
   "outputs": [
    {
     "data": {
      "application/javascript": [
       "\n",
       "        if (window._pyforest_update_imports_cell) { window._pyforest_update_imports_cell('import numpy as np\\nimport seaborn as sns\\nimport matplotlib.pyplot as plt\\nimport pandas as pd'); }\n",
       "    "
      ],
      "text/plain": [
       "<IPython.core.display.Javascript object>"
      ]
     },
     "metadata": {},
     "output_type": "display_data"
    },
    {
     "data": {
      "application/javascript": [
       "\n",
       "        if (window._pyforest_update_imports_cell) { window._pyforest_update_imports_cell('import numpy as np\\nimport seaborn as sns\\nimport matplotlib.pyplot as plt\\nimport pandas as pd'); }\n",
       "    "
      ],
      "text/plain": [
       "<IPython.core.display.Javascript object>"
      ]
     },
     "metadata": {},
     "output_type": "display_data"
    },
    {
     "data": {
      "application/javascript": [
       "\n",
       "        if (window._pyforest_update_imports_cell) { window._pyforest_update_imports_cell('import numpy as np\\nimport seaborn as sns\\nimport matplotlib.pyplot as plt\\nimport pandas as pd'); }\n",
       "    "
      ],
      "text/plain": [
       "<IPython.core.display.Javascript object>"
      ]
     },
     "metadata": {},
     "output_type": "display_data"
    },
    {
     "data": {
      "application/javascript": [
       "\n",
       "        if (window._pyforest_update_imports_cell) { window._pyforest_update_imports_cell('import numpy as np\\nimport seaborn as sns\\nimport matplotlib.pyplot as plt\\nimport pandas as pd'); }\n",
       "    "
      ],
      "text/plain": [
       "<IPython.core.display.Javascript object>"
      ]
     },
     "metadata": {},
     "output_type": "display_data"
    }
   ],
   "source": [
    "data = pd.read_csv('Data/Training_Data.csv')\n",
    "X,y,dataset = Data_fitting(data,'Prim_Contributory_Cause')\n",
    "dataset.head()\n",
    "data.drop(['Unnamed: 0','Unnamed: 0.1'],axis = 1, inplace = True)"
   ]
  },
  {
   "cell_type": "code",
   "execution_count": 110,
   "id": "hungarian-marriage",
   "metadata": {},
   "outputs": [
    {
     "data": {
      "text/html": [
       "<div>\n",
       "<style scoped>\n",
       "    .dataframe tbody tr th:only-of-type {\n",
       "        vertical-align: middle;\n",
       "    }\n",
       "\n",
       "    .dataframe tbody tr th {\n",
       "        vertical-align: top;\n",
       "    }\n",
       "\n",
       "    .dataframe thead th {\n",
       "        text-align: right;\n",
       "    }\n",
       "</style>\n",
       "<table border=\"1\" class=\"dataframe\">\n",
       "  <thead>\n",
       "    <tr style=\"text-align: right;\">\n",
       "      <th></th>\n",
       "      <th>Posted_Speed_Limit</th>\n",
       "      <th>Traffic_Control_Device</th>\n",
       "      <th>Device_Condition</th>\n",
       "      <th>First_Crash_Type</th>\n",
       "      <th>Trafficway_Type</th>\n",
       "      <th>Alignment</th>\n",
       "      <th>Report_Type</th>\n",
       "      <th>Crash_Type</th>\n",
       "      <th>Damage</th>\n",
       "      <th>Date_Police_Notified</th>\n",
       "      <th>Prim_Contributory_Cause</th>\n",
       "      <th>Sec_Contributory_Cause</th>\n",
       "      <th>Num_Units</th>\n",
       "      <th>Most_Severe_Injury</th>\n",
       "      <th>Crash_Hour</th>\n",
       "      <th>Crash_Day_Of_Week</th>\n",
       "      <th>Crash_Month</th>\n",
       "      <th>Latitude</th>\n",
       "      <th>Longitude</th>\n",
       "      <th>Unit_Type</th>\n",
       "      <th>Num_Passengers</th>\n",
       "      <th>Make</th>\n",
       "      <th>Model</th>\n",
       "      <th>Vehicle_Year</th>\n",
       "      <th>Vehicle_Type</th>\n",
       "      <th>Exceed_Speed_Limit_I</th>\n",
       "      <th>Crash_Date</th>\n",
       "      <th>City</th>\n",
       "      <th>State</th>\n",
       "      <th>Zipcode</th>\n",
       "      <th>Sex</th>\n",
       "      <th>Age</th>\n",
       "      <th>Safety_Equipment</th>\n",
       "      <th>Airbag_Deployed</th>\n",
       "      <th>Ejection</th>\n",
       "      <th>Injury_Classification</th>\n",
       "      <th>Driver_Action</th>\n",
       "      <th>Driver_Vision</th>\n",
       "      <th>Physical_Condition</th>\n",
       "      <th>Bac_Result</th>\n",
       "      <th>Bac_Result Value</th>\n",
       "      <th>Cell_Phone_Use</th>\n",
       "      <th>Day_Of_Week</th>\n",
       "      <th>Address</th>\n",
       "      <th>Driving_Condition</th>\n",
       "      <th>Drivers_License</th>\n",
       "    </tr>\n",
       "  </thead>\n",
       "  <tbody>\n",
       "    <tr>\n",
       "      <th>0</th>\n",
       "      <td>40</td>\n",
       "      <td>NO CONTROLS</td>\n",
       "      <td>NO CONTROLS</td>\n",
       "      <td>OTHER OBJECT</td>\n",
       "      <td>DIVIDED - W/MEDIAN BARRIER</td>\n",
       "      <td>CURVE, LEVEL</td>\n",
       "      <td>ON SCENE</td>\n",
       "      <td>INJURY AND / OR TOW DUE TO CRASH</td>\n",
       "      <td>OVER $1,500</td>\n",
       "      <td>01/01/2019 04:10:00 PM</td>\n",
       "      <td>Non-negligent</td>\n",
       "      <td>weather</td>\n",
       "      <td>1</td>\n",
       "      <td>NO INDICATION OF INJURY</td>\n",
       "      <td>16</td>\n",
       "      <td>Wednesday</td>\n",
       "      <td>1</td>\n",
       "      <td>41.952399</td>\n",
       "      <td>-87.644733</td>\n",
       "      <td>DRIVER</td>\n",
       "      <td>0</td>\n",
       "      <td>HONDA</td>\n",
       "      <td>CRV</td>\n",
       "      <td>2006</td>\n",
       "      <td>PASSENGER</td>\n",
       "      <td>UNKNOWN</td>\n",
       "      <td>2019-01-01 16:05:00</td>\n",
       "      <td>CHICAGO</td>\n",
       "      <td>IL</td>\n",
       "      <td>60645</td>\n",
       "      <td>M</td>\n",
       "      <td>22</td>\n",
       "      <td>SAFETY BELT USED</td>\n",
       "      <td>DEPLOYED, COMBINATION</td>\n",
       "      <td>NONE</td>\n",
       "      <td>NO INDICATION OF INJURY</td>\n",
       "      <td>TOO FAST FOR CONDITIONS</td>\n",
       "      <td>NOT OBSCURED</td>\n",
       "      <td>NORMAL</td>\n",
       "      <td>TEST NOT OFFERED</td>\n",
       "      <td>0.0</td>\n",
       "      <td>UNKNOWN</td>\n",
       "      <td>3</td>\n",
       "      <td>3800 N LAKE SHORE DR NB</td>\n",
       "      <td>Hazardous</td>\n",
       "      <td>Out of State</td>\n",
       "    </tr>\n",
       "    <tr>\n",
       "      <th>1</th>\n",
       "      <td>30</td>\n",
       "      <td>TRAFFIC SIGNAL</td>\n",
       "      <td>FUNCTIONING PROPERLY</td>\n",
       "      <td>PEDESTRIAN</td>\n",
       "      <td>DIVIDED - W/MEDIAN (NOT RAISED)</td>\n",
       "      <td>STRAIGHT AND LEVEL</td>\n",
       "      <td>ON SCENE</td>\n",
       "      <td>NO INJURY / DRIVE AWAY</td>\n",
       "      <td>$500 OR LESS</td>\n",
       "      <td>01/25/2017 08:17:00 AM</td>\n",
       "      <td>Non-negligent</td>\n",
       "      <td>failing to reduce speed to avoid crash</td>\n",
       "      <td>2</td>\n",
       "      <td>NO INDICATION OF INJURY</td>\n",
       "      <td>8</td>\n",
       "      <td>Thursday</td>\n",
       "      <td>1</td>\n",
       "      <td>41.874229</td>\n",
       "      <td>-87.671625</td>\n",
       "      <td>DRIVER</td>\n",
       "      <td>0</td>\n",
       "      <td>FORD</td>\n",
       "      <td>EXPLORER</td>\n",
       "      <td>2000</td>\n",
       "      <td>PASSENGER</td>\n",
       "      <td>UNKNOWN</td>\n",
       "      <td>2017-01-25 08:16:00</td>\n",
       "      <td>CHICAGO</td>\n",
       "      <td>IL</td>\n",
       "      <td>60609</td>\n",
       "      <td>M</td>\n",
       "      <td>48</td>\n",
       "      <td>SAFETY BELT USED</td>\n",
       "      <td>DID NOT DEPLOY</td>\n",
       "      <td>TOTALLY EJECTED</td>\n",
       "      <td>NO INDICATION OF INJURY</td>\n",
       "      <td>FAILED TO YIELD</td>\n",
       "      <td>NOT OBSCURED</td>\n",
       "      <td>NORMAL</td>\n",
       "      <td>TEST NOT OFFERED</td>\n",
       "      <td>0.0</td>\n",
       "      <td>UNKNOWN</td>\n",
       "      <td>4</td>\n",
       "      <td>1800 W HARRISON ST</td>\n",
       "      <td>Hazardous</td>\n",
       "      <td>Out of State</td>\n",
       "    </tr>\n",
       "    <tr>\n",
       "      <th>2</th>\n",
       "      <td>35</td>\n",
       "      <td>NO CONTROLS</td>\n",
       "      <td>NO CONTROLS</td>\n",
       "      <td>ANGLE</td>\n",
       "      <td>UNKNOWN</td>\n",
       "      <td>STRAIGHT AND LEVEL</td>\n",
       "      <td>NOT ON SCENE (DESK REPORT)</td>\n",
       "      <td>NO INJURY / DRIVE AWAY</td>\n",
       "      <td>OVER $1,500</td>\n",
       "      <td>04/17/2020 01:25:00 PM</td>\n",
       "      <td>Non-negligent</td>\n",
       "      <td>failing to yield right-of-way</td>\n",
       "      <td>2</td>\n",
       "      <td>NO INDICATION OF INJURY</td>\n",
       "      <td>13</td>\n",
       "      <td>Saturday</td>\n",
       "      <td>4</td>\n",
       "      <td>41.857056</td>\n",
       "      <td>-87.713419</td>\n",
       "      <td>DRIVER</td>\n",
       "      <td>0</td>\n",
       "      <td>UNKNOWN</td>\n",
       "      <td>OTHER (EXPLAIN IN NARRATIVE)</td>\n",
       "      <td>0</td>\n",
       "      <td>SPORT UTILITY VEHICLE (SUV)</td>\n",
       "      <td>UNKNOWN</td>\n",
       "      <td>2020-04-17 13:15:00</td>\n",
       "      <td>UNKNOWN</td>\n",
       "      <td>UNKNOWN</td>\n",
       "      <td>UNKNOWN</td>\n",
       "      <td>X</td>\n",
       "      <td>0</td>\n",
       "      <td>USAGE UNKNOWN</td>\n",
       "      <td>DID NOT DEPLOY</td>\n",
       "      <td>NONE</td>\n",
       "      <td>NO INDICATION OF INJURY</td>\n",
       "      <td>FAILED TO YIELD</td>\n",
       "      <td>UNKNOWN</td>\n",
       "      <td>UNKNOWN</td>\n",
       "      <td>TEST NOT OFFERED</td>\n",
       "      <td>0.0</td>\n",
       "      <td>UNKNOWN</td>\n",
       "      <td>6</td>\n",
       "      <td>3515 W 18TH ST</td>\n",
       "      <td>Hazardous</td>\n",
       "      <td>Out of State</td>\n",
       "    </tr>\n",
       "    <tr>\n",
       "      <th>3</th>\n",
       "      <td>30</td>\n",
       "      <td>NO CONTROLS</td>\n",
       "      <td>NO CONTROLS</td>\n",
       "      <td>PARKED MOTOR VEHICLE</td>\n",
       "      <td>PARKING LOT</td>\n",
       "      <td>STRAIGHT AND LEVEL</td>\n",
       "      <td>NOT ON SCENE (DESK REPORT)</td>\n",
       "      <td>NO INJURY / DRIVE AWAY</td>\n",
       "      <td>OVER $1,500</td>\n",
       "      <td>09/18/2019 09:30:00 PM</td>\n",
       "      <td>Non-negligent</td>\n",
       "      <td>unable to determine</td>\n",
       "      <td>2</td>\n",
       "      <td>NO INDICATION OF INJURY</td>\n",
       "      <td>20</td>\n",
       "      <td>Thursday</td>\n",
       "      <td>9</td>\n",
       "      <td>41.895785</td>\n",
       "      <td>-87.677931</td>\n",
       "      <td>PARKED</td>\n",
       "      <td>1</td>\n",
       "      <td>HONDA</td>\n",
       "      <td>CIVIC</td>\n",
       "      <td>2017</td>\n",
       "      <td>PASSENGER</td>\n",
       "      <td>UNKNOWN</td>\n",
       "      <td>2019-09-18 20:00:00</td>\n",
       "      <td>SAINT JOHN</td>\n",
       "      <td>IN</td>\n",
       "      <td>46373</td>\n",
       "      <td>F</td>\n",
       "      <td>34</td>\n",
       "      <td>USAGE UNKNOWN</td>\n",
       "      <td>DID NOT DEPLOY</td>\n",
       "      <td>NONE</td>\n",
       "      <td>NO INDICATION OF INJURY</td>\n",
       "      <td>UNKNOWN</td>\n",
       "      <td>UNKNOWN</td>\n",
       "      <td>UNKNOWN</td>\n",
       "      <td>UNKNOWN</td>\n",
       "      <td>0.0</td>\n",
       "      <td>UNKNOWN</td>\n",
       "      <td>4</td>\n",
       "      <td>2021 W CHICAGO AVE</td>\n",
       "      <td>Hazardous</td>\n",
       "      <td>Out of State</td>\n",
       "    </tr>\n",
       "    <tr>\n",
       "      <th>4</th>\n",
       "      <td>25</td>\n",
       "      <td>TRAFFIC SIGNAL</td>\n",
       "      <td>FUNCTIONING PROPERLY</td>\n",
       "      <td>PARKED MOTOR VEHICLE</td>\n",
       "      <td>ONE-WAY</td>\n",
       "      <td>STRAIGHT AND LEVEL</td>\n",
       "      <td>ON SCENE</td>\n",
       "      <td>INJURY AND / OR TOW DUE TO CRASH</td>\n",
       "      <td>OVER $1,500</td>\n",
       "      <td>08/04/2018 01:20:00 AM</td>\n",
       "      <td>Non-negligent</td>\n",
       "      <td>unable to determine</td>\n",
       "      <td>3</td>\n",
       "      <td>NO INDICATION OF INJURY</td>\n",
       "      <td>1</td>\n",
       "      <td>Sunday</td>\n",
       "      <td>8</td>\n",
       "      <td>41.793067</td>\n",
       "      <td>-87.728205</td>\n",
       "      <td>DRIVER</td>\n",
       "      <td>0</td>\n",
       "      <td>JEEP</td>\n",
       "      <td>Grand Cherokee (for vehicle years 1989 to pres...</td>\n",
       "      <td>2014</td>\n",
       "      <td>PASSENGER</td>\n",
       "      <td>UNKNOWN</td>\n",
       "      <td>2018-08-04 01:16:00</td>\n",
       "      <td>CHICAGO</td>\n",
       "      <td>IL</td>\n",
       "      <td>60629</td>\n",
       "      <td>M</td>\n",
       "      <td>30</td>\n",
       "      <td>USAGE UNKNOWN</td>\n",
       "      <td>DEPLOYED, COMBINATION</td>\n",
       "      <td>NONE</td>\n",
       "      <td>NO INDICATION OF INJURY</td>\n",
       "      <td>TOO FAST FOR CONDITIONS</td>\n",
       "      <td>UNKNOWN</td>\n",
       "      <td>UNKNOWN</td>\n",
       "      <td>TEST NOT OFFERED</td>\n",
       "      <td>0.0</td>\n",
       "      <td>UNKNOWN</td>\n",
       "      <td>7</td>\n",
       "      <td>5500 S KEELER AVE</td>\n",
       "      <td>Hazardous</td>\n",
       "      <td>Out of State</td>\n",
       "    </tr>\n",
       "  </tbody>\n",
       "</table>\n",
       "</div>"
      ],
      "text/plain": [
       "   Posted_Speed_Limit Traffic_Control_Device      Device_Condition      First_Crash_Type                  Trafficway_Type           Alignment                 Report_Type                        Crash_Type        Damage    Date_Police_Notified Prim_Contributory_Cause                  Sec_Contributory_Cause  Num_Units       Most_Severe_Injury  Crash_Hour Crash_Day_Of_Week  Crash_Month   Latitude  Longitude Unit_Type  Num_Passengers     Make                                              Model  Vehicle_Year                 Vehicle_Type Exceed_Speed_Limit_I           Crash_Date        City    State  Zipcode Sex  Age  Safety_Equipment        Airbag_Deployed         Ejection    Injury_Classification            Driver_Action Driver_Vision Physical_Condition        Bac_Result  Bac_Result Value Cell_Phone_Use  Day_Of_Week                  Address Driving_Condition Drivers_License\n",
       "0                  40            NO CONTROLS           NO CONTROLS          OTHER OBJECT       DIVIDED - W/MEDIAN BARRIER        CURVE, LEVEL                    ON SCENE  INJURY AND / OR TOW DUE TO CRASH   OVER $1,500  01/01/2019 04:10:00 PM           Non-negligent                                 weather          1  NO INDICATION OF INJURY          16         Wednesday            1  41.952399 -87.644733    DRIVER               0    HONDA                                                CRV          2006                    PASSENGER              UNKNOWN  2019-01-01 16:05:00     CHICAGO       IL    60645   M   22  SAFETY BELT USED  DEPLOYED, COMBINATION             NONE  NO INDICATION OF INJURY  TOO FAST FOR CONDITIONS  NOT OBSCURED             NORMAL  TEST NOT OFFERED               0.0        UNKNOWN            3  3800 N LAKE SHORE DR NB         Hazardous    Out of State\n",
       "1                  30         TRAFFIC SIGNAL  FUNCTIONING PROPERLY            PEDESTRIAN  DIVIDED - W/MEDIAN (NOT RAISED)  STRAIGHT AND LEVEL                    ON SCENE            NO INJURY / DRIVE AWAY  $500 OR LESS  01/25/2017 08:17:00 AM           Non-negligent  failing to reduce speed to avoid crash          2  NO INDICATION OF INJURY           8          Thursday            1  41.874229 -87.671625    DRIVER               0     FORD                                           EXPLORER          2000                    PASSENGER              UNKNOWN  2017-01-25 08:16:00     CHICAGO       IL    60609   M   48  SAFETY BELT USED         DID NOT DEPLOY  TOTALLY EJECTED  NO INDICATION OF INJURY          FAILED TO YIELD  NOT OBSCURED             NORMAL  TEST NOT OFFERED               0.0        UNKNOWN            4       1800 W HARRISON ST         Hazardous    Out of State\n",
       "2                  35            NO CONTROLS           NO CONTROLS                 ANGLE                          UNKNOWN  STRAIGHT AND LEVEL  NOT ON SCENE (DESK REPORT)            NO INJURY / DRIVE AWAY   OVER $1,500  04/17/2020 01:25:00 PM           Non-negligent           failing to yield right-of-way          2  NO INDICATION OF INJURY          13          Saturday            4  41.857056 -87.713419    DRIVER               0  UNKNOWN                       OTHER (EXPLAIN IN NARRATIVE)             0  SPORT UTILITY VEHICLE (SUV)              UNKNOWN  2020-04-17 13:15:00     UNKNOWN  UNKNOWN  UNKNOWN   X    0     USAGE UNKNOWN         DID NOT DEPLOY             NONE  NO INDICATION OF INJURY          FAILED TO YIELD       UNKNOWN            UNKNOWN  TEST NOT OFFERED               0.0        UNKNOWN            6           3515 W 18TH ST         Hazardous    Out of State\n",
       "3                  30            NO CONTROLS           NO CONTROLS  PARKED MOTOR VEHICLE                      PARKING LOT  STRAIGHT AND LEVEL  NOT ON SCENE (DESK REPORT)            NO INJURY / DRIVE AWAY   OVER $1,500  09/18/2019 09:30:00 PM           Non-negligent                     unable to determine          2  NO INDICATION OF INJURY          20          Thursday            9  41.895785 -87.677931    PARKED               1    HONDA                                              CIVIC          2017                    PASSENGER              UNKNOWN  2019-09-18 20:00:00  SAINT JOHN       IN    46373   F   34     USAGE UNKNOWN         DID NOT DEPLOY             NONE  NO INDICATION OF INJURY                  UNKNOWN       UNKNOWN            UNKNOWN           UNKNOWN               0.0        UNKNOWN            4       2021 W CHICAGO AVE         Hazardous    Out of State\n",
       "4                  25         TRAFFIC SIGNAL  FUNCTIONING PROPERLY  PARKED MOTOR VEHICLE                          ONE-WAY  STRAIGHT AND LEVEL                    ON SCENE  INJURY AND / OR TOW DUE TO CRASH   OVER $1,500  08/04/2018 01:20:00 AM           Non-negligent                     unable to determine          3  NO INDICATION OF INJURY           1            Sunday            8  41.793067 -87.728205    DRIVER               0     JEEP  Grand Cherokee (for vehicle years 1989 to pres...          2014                    PASSENGER              UNKNOWN  2018-08-04 01:16:00     CHICAGO       IL    60629   M   30     USAGE UNKNOWN  DEPLOYED, COMBINATION             NONE  NO INDICATION OF INJURY  TOO FAST FOR CONDITIONS       UNKNOWN            UNKNOWN  TEST NOT OFFERED               0.0        UNKNOWN            7        5500 S KEELER AVE         Hazardous    Out of State"
      ]
     },
     "execution_count": 110,
     "metadata": {},
     "output_type": "execute_result"
    }
   ],
   "source": [
    "data.head()\n"
   ]
  },
  {
   "cell_type": "markdown",
   "id": "lovely-adjustment",
   "metadata": {},
   "source": [
    "## Initial Random Forest\n",
    "The Initial Random Forest is going to fit the model without any type of hyper-tuning applied to it and then it will plot the True Positives and True Negatives into a confusion matrix, the important features are going to be shown in a bar graph and we will see just how well the model will actually run. The objective of this model will be  to look at the models accuracy as the metric to show how well the model did. I am not too worried about overfitting the model because Random Forests are very difficult to naturally overfit. "
   ]
  },
  {
   "cell_type": "code",
   "execution_count": 111,
   "id": "elegant-school",
   "metadata": {
    "code_folding": [
     33
    ]
   },
   "outputs": [
    {
     "data": {
      "application/javascript": [
       "\n",
       "        if (window._pyforest_update_imports_cell) { window._pyforest_update_imports_cell('import numpy as np\\nimport seaborn as sns\\nimport matplotlib.pyplot as plt\\nimport pandas as pd'); }\n",
       "    "
      ],
      "text/plain": [
       "<IPython.core.display.Javascript object>"
      ]
     },
     "metadata": {},
     "output_type": "display_data"
    },
    {
     "name": "stdout",
     "output_type": "stream",
     "text": [
      "Average model error: 0.2 degrees.\n"
     ]
    },
    {
     "data": {
      "application/javascript": [
       "\n",
       "        if (window._pyforest_update_imports_cell) { window._pyforest_update_imports_cell('import numpy as np\\nimport seaborn as sns\\nimport matplotlib.pyplot as plt\\nimport pandas as pd'); }\n",
       "    "
      ],
      "text/plain": [
       "<IPython.core.display.Javascript object>"
      ]
     },
     "metadata": {},
     "output_type": "display_data"
    },
    {
     "name": "stdout",
     "output_type": "stream",
     "text": [
      "Accuracy: -inf %.\n",
      "              precision    recall  f1-score   support\n",
      "\n",
      "         0.0       0.76      0.85      0.81      1931\n",
      "         1.0       0.85      0.75      0.80      2069\n",
      "\n",
      "    accuracy                           0.80      4000\n",
      "   macro avg       0.81      0.80      0.80      4000\n",
      "weighted avg       0.81      0.80      0.80      4000\n",
      "\n"
     ]
    },
    {
     "data": {
      "application/javascript": [
       "\n",
       "        if (window._pyforest_update_imports_cell) { window._pyforest_update_imports_cell('import numpy as np\\nimport seaborn as sns\\nimport matplotlib.pyplot as plt\\nimport pandas as pd'); }\n",
       "    "
      ],
      "text/plain": [
       "<IPython.core.display.Javascript object>"
      ]
     },
     "metadata": {},
     "output_type": "display_data"
    },
    {
     "data": {
      "application/javascript": [
       "\n",
       "        if (window._pyforest_update_imports_cell) { window._pyforest_update_imports_cell('import numpy as np\\nimport seaborn as sns\\nimport matplotlib.pyplot as plt\\nimport pandas as pd'); }\n",
       "    "
      ],
      "text/plain": [
       "<IPython.core.display.Javascript object>"
      ]
     },
     "metadata": {},
     "output_type": "display_data"
    },
    {
     "data": {
      "application/javascript": [
       "\n",
       "        if (window._pyforest_update_imports_cell) { window._pyforest_update_imports_cell('import numpy as np\\nimport seaborn as sns\\nimport matplotlib.pyplot as plt\\nimport pandas as pd'); }\n",
       "    "
      ],
      "text/plain": [
       "<IPython.core.display.Javascript object>"
      ]
     },
     "metadata": {},
     "output_type": "display_data"
    },
    {
     "data": {
      "application/javascript": [
       "\n",
       "        if (window._pyforest_update_imports_cell) { window._pyforest_update_imports_cell('import numpy as np\\nimport seaborn as sns\\nimport matplotlib.pyplot as plt\\nimport pandas as pd'); }\n",
       "    "
      ],
      "text/plain": [
       "<IPython.core.display.Javascript object>"
      ]
     },
     "metadata": {},
     "output_type": "display_data"
    },
    {
     "data": {
      "application/javascript": [
       "\n",
       "        if (window._pyforest_update_imports_cell) { window._pyforest_update_imports_cell('import numpy as np\\nimport seaborn as sns\\nimport matplotlib.pyplot as plt\\nimport pandas as pd'); }\n",
       "    "
      ],
      "text/plain": [
       "<IPython.core.display.Javascript object>"
      ]
     },
     "metadata": {},
     "output_type": "display_data"
    },
    {
     "data": {
      "application/javascript": [
       "\n",
       "        if (window._pyforest_update_imports_cell) { window._pyforest_update_imports_cell('import numpy as np\\nimport seaborn as sns\\nimport matplotlib.pyplot as plt\\nimport pandas as pd'); }\n",
       "    "
      ],
      "text/plain": [
       "<IPython.core.display.Javascript object>"
      ]
     },
     "metadata": {},
     "output_type": "display_data"
    },
    {
     "data": {
      "image/png": "[encoded data removed]",
      "text/plain": [
       "<Figure size 576x576 with 2 Axes>"
      ]
     },
     "metadata": {
      "needs_background": "light"
     },
     "output_type": "display_data"
    }
   ],
   "source": [
    "X_train,X_test,y_train,y_test = train_test_split(X,y,test_size = .20, random_state = 100)\n",
    "scaler = StandardScaler()\n",
    "scaler.fit(X_train)\n",
    "X_train = scaler.transform(X_train)\n",
    "X_test = scaler.transform(X_test)\n",
    "        # Instantiate model \n",
    "rf = RandomForestClassifier()\n",
    "\n",
    "        # Train the model on training data\n",
    "rf.fit(X_train, y_train);\n",
    "\n",
    "        # Use the forest's predict method on the test data\n",
    "predictions = rf.predict(X_test)\n",
    "\n",
    "        # Calculate the absolute errors\n",
    "errors = abs(predictions - y_test)\n",
    "\n",
    "        # Print out the mean absolute error (mae)\n",
    "print('Average model error:', round(np.mean(errors), 2), 'degrees.')\n",
    "\n",
    "\n",
    "        # Calculate mean absolute percentage error (MAPE)\n",
    "mape = 100 * (errors / predictions)\n",
    "\n",
    "        # Calculate and display accuracy\n",
    "accuracy = 100 - np.mean(mape)\n",
    "print('Accuracy:', round(accuracy, 2), '%.')\n",
    "print(classification_report(y_test, predictions))\n",
    "fig, ax = plt.subplots(figsize=(8,8))\n",
    "plot_confusion_matrix(estimator=rf, X=X_test, y_true=y_test, ax=ax)\n",
    "plt.title('True Positive                       False Positive')\n",
    "plt.xlabel('False Negative                         True Negative')\n",
    "plt.ylabel('')\n",
    "plt.tick_params(left=False,\n",
    "                bottom=False,\n",
    "                labelleft=False,\n",
    "                labelbottom=False)\n",
    "plt.show()"
   ]
  },
  {
   "cell_type": "code",
   "execution_count": 112,
   "id": "judicial-jackson",
   "metadata": {},
   "outputs": [
    {
     "data": {
      "application/javascript": [
       "\n",
       "        if (window._pyforest_update_imports_cell) { window._pyforest_update_imports_cell('import numpy as np\\nimport seaborn as sns\\nimport matplotlib.pyplot as plt\\nimport pandas as pd'); }\n",
       "    "
      ],
      "text/plain": [
       "<IPython.core.display.Javascript object>"
      ]
     },
     "metadata": {},
     "output_type": "display_data"
    },
    {
     "data": {
      "application/javascript": [
       "\n",
       "        if (window._pyforest_update_imports_cell) { window._pyforest_update_imports_cell('import numpy as np\\nimport seaborn as sns\\nimport matplotlib.pyplot as plt\\nimport pandas as pd'); }\n",
       "    "
      ],
      "text/plain": [
       "<IPython.core.display.Javascript object>"
      ]
     },
     "metadata": {},
     "output_type": "display_data"
    },
    {
     "data": {
      "image/png": "[encoded data removed]",
      "text/plain": [
       "<Figure size 432x288 with 1 Axes>"
      ]
     },
     "metadata": {
      "needs_background": "light"
     },
     "output_type": "display_data"
    }
   ],
   "source": [
    "\n",
    "ax = plt.gca()\n",
    "rfc_disp = plot_roc_curve(rf, X_test, y_test, ax=ax, alpha=0.8)\n",
    "\n",
    "plt.show()\n",
    "# from sklearn.metrics import roc_auc_score\n",
    "# fpr, tpr, thresholds = roc_curve(y, predictions)"
   ]
  },
  {
   "cell_type": "markdown",
   "id": "straight-steal",
   "metadata": {},
   "source": [
    "The AUC is naturally at a .88 out of a 1 so thats a very good score. This means that out of all the data that 88% of the data gets correctly categorized as a true positive and a true negative."
   ]
  },
  {
   "cell_type": "markdown",
   "id": "compatible-disorder",
   "metadata": {},
   "source": [
    "## Hyper-tuning Model:"
   ]
  },
  {
   "cell_type": "markdown",
   "id": "random-miracle",
   "metadata": {},
   "source": [
    "Now that I have a base model classified I will be working on trying to see if I can get that accuracy up higher from where it was at at the start of the base of 81%. With that we will be using RandomizedSearchCV."
   ]
  },
  {
   "cell_type": "code",
   "execution_count": null,
   "id": "national-marshall",
   "metadata": {},
   "outputs": [
    {
     "data": {
      "application/javascript": [
       "\n",
       "        if (window._pyforest_update_imports_cell) { window._pyforest_update_imports_cell('import numpy as np\\nimport seaborn as sns\\nimport matplotlib.pyplot as plt\\nimport pandas as pd'); }\n",
       "    "
      ],
      "text/plain": [
       "<IPython.core.display.Javascript object>"
      ]
     },
     "metadata": {},
     "output_type": "display_data"
    },
    {
     "data": {
      "application/javascript": [
       "\n",
       "        if (window._pyforest_update_imports_cell) { window._pyforest_update_imports_cell('import numpy as np\\nimport seaborn as sns\\nimport matplotlib.pyplot as plt\\nimport pandas as pd'); }\n",
       "    "
      ],
      "text/plain": [
       "<IPython.core.display.Javascript object>"
      ]
     },
     "metadata": {},
     "output_type": "display_data"
    },
    {
     "name": "stdout",
     "output_type": "stream",
     "text": [
      "Fitting 3 folds for each of 100 candidates, totalling 300 fits\n"
     ]
    },
    {
     "name": "stderr",
     "output_type": "stream",
     "text": [
      "[Parallel(n_jobs=-1)]: Using backend LokyBackend with 4 concurrent workers.\n",
      "[Parallel(n_jobs=-1)]: Done  33 tasks      | elapsed: 11.0min\n"
     ]
    }
   ],
   "source": [
    "from sklearn.model_selection import RandomizedSearchCV\n",
    "\n",
    "n_estimators = [int(x) for x in np.linspace(start = 200, stop = 2000, num = 10)]\n",
    "# Number of features to consider at every split\n",
    "max_features = ['auto', 'sqrt']\n",
    "# Maximum number of levels in tree\n",
    "max_depth = [int(x) for x in np.linspace(10, 110, num = 11)]\n",
    "max_depth.append(None)\n",
    "# Minimum number of samples required to split a node\n",
    "min_samples_split = [2, 5, 10]\n",
    "# Minimum number of samples required at each leaf node\n",
    "min_samples_leaf = [1, 2, 4]\n",
    "# Method of selecting samples for training each tree\n",
    "bootstrap = [True, False]\n",
    "# Create the random grid\n",
    "random_grid = {'n_estimators': n_estimators,\n",
    "               'max_features': max_features, \n",
    "               'max_depth': max_depth,\n",
    "               'min_samples_split': min_samples_split,\n",
    "               'min_samples_leaf': min_samples_leaf,\n",
    "               'bootstrap': bootstrap}\n",
    "# Random search of parameters\n",
    "rfc_random = RandomizedSearchCV(estimator = rf, param_distributions = random_grid, n_iter = 100, cv = 3, verbose=2, random_state=42, n_jobs = -1)\n",
    "# Fit the model\n",
    "rfc_random.fit(X_train, y_train)\n",
    "# print results\n",
    "print(rfc_random.best_params_)"
   ]
  },
  {
   "cell_type": "code",
   "execution_count": null,
   "id": "aware-syracuse",
   "metadata": {
    "code_folding": [
     0
    ]
   },
   "outputs": [],
   "source": [
    "# param_grid = {'n_estimators': n_estimators,\n",
    "#                'max_features': max_features,\n",
    "#                'max_depth': max_depth,\n",
    "#                'min_samples_split': min_samples_split,\n",
    "#                'min_samples_leaf': min_samples_leaf,\n",
    "#                'bootstrap': bootstrap}\n",
    "\n",
    "\n",
    "# grid_search = GridSearchCV(estimator = rf, param_grid = param_grid, \n",
    "#                           cv = 3, n_jobs = -1, verbose = 2)\n",
    "# grid_search.fit(X_train, y_train)\n",
    "# grid_search.best_params_"
   ]
  },
  {
   "cell_type": "code",
   "execution_count": null,
   "id": "honey-basketball",
   "metadata": {
    "code_folding": [
     0
    ]
   },
   "outputs": [],
   "source": [
    "def evaluate(model, test_features, test_labels):\n",
    "    predictions = model.predict(test_features)\n",
    "    errors = abs(predictions - test_labels)\n",
    "    mape = 100 * np.mean(errors / test_labels)\n",
    "    accuracy = 100 - mape\n",
    "    print('Model Performance')\n",
    "    print('Average Error: {:0.4f} degrees.'.format(np.mean(errors)))\n",
    "    print('Accuracy = {:0.2f}%.'.format(accuracy))\n",
    "    \n",
    "    return accuracy\n",
    "base_model = RandomForestClassifier(n_estimators = 10, random_state = 42)\n",
    "base_model.fit(X_train, y_train)\n",
    "base_accuracy = evaluate(base_model, X_test, y_test)\n",
    "\n",
    "best_random = rfc_random.best_estimator_\n",
    "random_eval = evaluate(best_random, X_test, y_test)"
   ]
  },
  {
   "cell_type": "code",
   "execution_count": 136,
   "id": "radical-shopper",
   "metadata": {},
   "outputs": [],
   "source": [
    "# best_grid = grid_search.best_estimator_\n",
    "# grid_eval = evaluate(best_grid, X_test, y_test)"
   ]
  },
  {
   "cell_type": "markdown",
   "id": "connected-compatibility",
   "metadata": {},
   "source": [
    "## Modified Random Forest\n",
    " It had a really good prediction rate at an 83% prediction. I also noticed that two random columns were added in as well so I went ahead and removed those as well. Prior to removing all the columns I was at a 76% prediction rate. After removing the columns it jumped up to a 82% prediction rate, which is pretty good."
   ]
  },
  {
   "cell_type": "code",
   "execution_count": 113,
   "id": "decent-electric",
   "metadata": {
    "code_folding": [
     35
    ]
   },
   "outputs": [
    {
     "data": {
      "application/javascript": [
       "\n",
       "        if (window._pyforest_update_imports_cell) { window._pyforest_update_imports_cell('import numpy as np\\nimport seaborn as sns\\nimport matplotlib.pyplot as plt\\nimport pandas as pd'); }\n",
       "    "
      ],
      "text/plain": [
       "<IPython.core.display.Javascript object>"
      ]
     },
     "metadata": {},
     "output_type": "display_data"
    },
    {
     "name": "stdout",
     "output_type": "stream",
     "text": [
      "Average model error: 0.19 degrees.\n"
     ]
    },
    {
     "data": {
      "application/javascript": [
       "\n",
       "        if (window._pyforest_update_imports_cell) { window._pyforest_update_imports_cell('import numpy as np\\nimport seaborn as sns\\nimport matplotlib.pyplot as plt\\nimport pandas as pd'); }\n",
       "    "
      ],
      "text/plain": [
       "<IPython.core.display.Javascript object>"
      ]
     },
     "metadata": {},
     "output_type": "display_data"
    },
    {
     "name": "stdout",
     "output_type": "stream",
     "text": [
      "Accuracy: -inf %.\n",
      "              precision    recall  f1-score   support\n",
      "\n",
      "         0.0       0.78      0.86      0.81      1931\n",
      "         1.0       0.85      0.77      0.81      2069\n",
      "\n",
      "    accuracy                           0.81      4000\n",
      "   macro avg       0.81      0.81      0.81      4000\n",
      "weighted avg       0.82      0.81      0.81      4000\n",
      "\n"
     ]
    },
    {
     "data": {
      "application/javascript": [
       "\n",
       "        if (window._pyforest_update_imports_cell) { window._pyforest_update_imports_cell('import numpy as np\\nimport seaborn as sns\\nimport matplotlib.pyplot as plt\\nimport pandas as pd'); }\n",
       "    "
      ],
      "text/plain": [
       "<IPython.core.display.Javascript object>"
      ]
     },
     "metadata": {},
     "output_type": "display_data"
    },
    {
     "data": {
      "application/javascript": [
       "\n",
       "        if (window._pyforest_update_imports_cell) { window._pyforest_update_imports_cell('import numpy as np\\nimport seaborn as sns\\nimport matplotlib.pyplot as plt\\nimport pandas as pd'); }\n",
       "    "
      ],
      "text/plain": [
       "<IPython.core.display.Javascript object>"
      ]
     },
     "metadata": {},
     "output_type": "display_data"
    },
    {
     "data": {
      "application/javascript": [
       "\n",
       "        if (window._pyforest_update_imports_cell) { window._pyforest_update_imports_cell('import numpy as np\\nimport seaborn as sns\\nimport matplotlib.pyplot as plt\\nimport pandas as pd'); }\n",
       "    "
      ],
      "text/plain": [
       "<IPython.core.display.Javascript object>"
      ]
     },
     "metadata": {},
     "output_type": "display_data"
    },
    {
     "data": {
      "application/javascript": [
       "\n",
       "        if (window._pyforest_update_imports_cell) { window._pyforest_update_imports_cell('import numpy as np\\nimport seaborn as sns\\nimport matplotlib.pyplot as plt\\nimport pandas as pd'); }\n",
       "    "
      ],
      "text/plain": [
       "<IPython.core.display.Javascript object>"
      ]
     },
     "metadata": {},
     "output_type": "display_data"
    },
    {
     "data": {
      "application/javascript": [
       "\n",
       "        if (window._pyforest_update_imports_cell) { window._pyforest_update_imports_cell('import numpy as np\\nimport seaborn as sns\\nimport matplotlib.pyplot as plt\\nimport pandas as pd'); }\n",
       "    "
      ],
      "text/plain": [
       "<IPython.core.display.Javascript object>"
      ]
     },
     "metadata": {},
     "output_type": "display_data"
    },
    {
     "data": {
      "application/javascript": [
       "\n",
       "        if (window._pyforest_update_imports_cell) { window._pyforest_update_imports_cell('import numpy as np\\nimport seaborn as sns\\nimport matplotlib.pyplot as plt\\nimport pandas as pd'); }\n",
       "    "
      ],
      "text/plain": [
       "<IPython.core.display.Javascript object>"
      ]
     },
     "metadata": {},
     "output_type": "display_data"
    },
    {
     "data": {
      "image/png": "[encoded data removed]",
      "text/plain": [
       "<Figure size 576x576 with 2 Axes>"
      ]
     },
     "metadata": {
      "needs_background": "light"
     },
     "output_type": "display_data"
    }
   ],
   "source": [
    "\n",
    "\n",
    "X_train,X_test,y_train,y_test = train_test_split(X,y,test_size = .20, random_state = 100)\n",
    "scaler = StandardScaler()\n",
    "scaler.fit(X_train)\n",
    "X_train = scaler.transform(X_train)\n",
    "X_test = scaler.transform(X_test)\n",
    "        # Instantiate model\n",
    "rf2 = RandomForestClassifier(n_estimators= 400, min_samples_split = 5, min_samples_leaf =  1, max_features = 'auto', max_depth = 90, bootstrap = False)\n",
    "\n",
    "        # Train the model on training data\n",
    "rf2.fit(X_train, y_train);\n",
    "\n",
    "        # Use the forest's predict method on the test data\n",
    "predictions = rf2.predict(X_test)\n",
    "\n",
    "        # Calculate the absolute errors\n",
    "errors = abs(predictions - y_test)\n",
    "\n",
    "        # Print out the mean absolute error (mae)\n",
    "print('Average model error:', round(np.mean(errors), 2), 'degrees.')\n",
    "\n",
    "\n",
    "        # Calculate mean absolute percentage error (MAPE)\n",
    "mape = 100 * (errors / predictions)\n",
    "\n",
    "        # Calculate and display accuracy\n",
    "accuracy = 100 - np.mean(mape)\n",
    "print('Accuracy:', round(accuracy, 2), '%.')\n",
    "print(classification_report(y_test, predictions))\n",
    "fig, ax = plt.subplots(figsize=(8,8))\n",
    "plot_confusion_matrix(estimator=rf, X=X_test, y_true=y_test, ax=ax)\n",
    "plt.title('True Positive                       False Positive')\n",
    "plt.xlabel('False Negative                         True Negative')\n",
    "plt.ylabel('')\n",
    "plt.tick_params(left=False,\n",
    "                bottom=False,\n",
    "                labelleft=False,\n",
    "                labelbottom=False)\n",
    "plt.show()\n",
    "to_remove = []\n",
    "\n"
   ]
  },
  {
   "cell_type": "code",
   "execution_count": null,
   "id": "entitled-treatment",
   "metadata": {},
   "outputs": [],
   "source": []
  },
  {
   "cell_type": "code",
   "execution_count": 126,
   "id": "neutral-essay",
   "metadata": {},
   "outputs": [],
   "source": [
    "# import scipy\n",
    "# from scipy.cluster import hierarchy as hc\n",
    "# corr = np.round(scipy.stats.spearmanr(dataset).correlation, 4)\n",
    "# corr_condensed = hc.distance.squareform(1-corr)\n",
    "# z = hc.linkage(corr_condensed, method='average')\n",
    "# fig = plt.figure(figsize=(20,20))\n",
    "# dendrogram = hc.dendrogram(z, labels=dataset.columns,\n",
    "#     orientation='left', leaf_font_size=16)\n",
    "# plt.show()"
   ]
  },
  {
   "cell_type": "markdown",
   "id": "allied-external",
   "metadata": {},
   "source": [
    "# Interpretations\n",
    "What the data says about the question:\n",
    "- Is the crash caused by a negligent driver or is it caused by actions that were not contributed to the driver. IE driving while using phone, faulty car/animals etc\n",
    "\n",
    "Taking a look at the initial model and the hyper-tuned model shows that even though the accuracy went up by 1 percent that the AUC went up. Which tells me that the overall accuracy of the data went up and the classifier was better able to determine the correct categories the data was suppose to go in."
   ]
  },
  {
   "cell_type": "code",
   "execution_count": 117,
   "id": "hispanic-chair",
   "metadata": {},
   "outputs": [
    {
     "data": {
      "application/javascript": [
       "\n",
       "        if (window._pyforest_update_imports_cell) { window._pyforest_update_imports_cell('import numpy as np\\nimport seaborn as sns\\nimport matplotlib.pyplot as plt\\nimport pandas as pd'); }\n",
       "    "
      ],
      "text/plain": [
       "<IPython.core.display.Javascript object>"
      ]
     },
     "metadata": {},
     "output_type": "display_data"
    },
    {
     "data": {
      "application/javascript": [
       "\n",
       "        if (window._pyforest_update_imports_cell) { window._pyforest_update_imports_cell('import numpy as np\\nimport seaborn as sns\\nimport matplotlib.pyplot as plt\\nimport pandas as pd'); }\n",
       "    "
      ],
      "text/plain": [
       "<IPython.core.display.Javascript object>"
      ]
     },
     "metadata": {},
     "output_type": "display_data"
    },
    {
     "data": {
      "application/javascript": [
       "\n",
       "        if (window._pyforest_update_imports_cell) { window._pyforest_update_imports_cell('import numpy as np\\nimport seaborn as sns\\nimport matplotlib.pyplot as plt\\nimport pandas as pd'); }\n",
       "    "
      ],
      "text/plain": [
       "<IPython.core.display.Javascript object>"
      ]
     },
     "metadata": {},
     "output_type": "display_data"
    },
    {
     "data": {
      "text/plain": [
       "<AxesSubplot:xlabel='importance', ylabel='feature'>"
      ]
     },
     "execution_count": 117,
     "metadata": {},
     "output_type": "execute_result"
    },
    {
     "data": {
      "image/png": "[encoded data removed]",
      "text/plain": [
       "<Figure size 1080x1080 with 1 Axes>"
      ]
     },
     "metadata": {
      "needs_background": "light"
     },
     "output_type": "display_data"
    }
   ],
   "source": [
    "Initial=pd.DataFrame({\"feature\":X.columns,\"importance\":rf.feature_importances_})\n",
    "Initial.sort_values(\"importance\", ascending = False, inplace = True)\n",
    "fig = plt.figure(figsize= (15,15))\n",
    "sns.barplot(x ='importance',y = 'feature',data = Initial)"
   ]
  },
  {
   "cell_type": "code",
   "execution_count": 118,
   "id": "portable-voltage",
   "metadata": {},
   "outputs": [
    {
     "data": {
      "application/javascript": [
       "\n",
       "        if (window._pyforest_update_imports_cell) { window._pyforest_update_imports_cell('import numpy as np\\nimport seaborn as sns\\nimport matplotlib.pyplot as plt\\nimport pandas as pd'); }\n",
       "    "
      ],
      "text/plain": [
       "<IPython.core.display.Javascript object>"
      ]
     },
     "metadata": {},
     "output_type": "display_data"
    },
    {
     "data": {
      "application/javascript": [
       "\n",
       "        if (window._pyforest_update_imports_cell) { window._pyforest_update_imports_cell('import numpy as np\\nimport seaborn as sns\\nimport matplotlib.pyplot as plt\\nimport pandas as pd'); }\n",
       "    "
      ],
      "text/plain": [
       "<IPython.core.display.Javascript object>"
      ]
     },
     "metadata": {},
     "output_type": "display_data"
    },
    {
     "data": {
      "application/javascript": [
       "\n",
       "        if (window._pyforest_update_imports_cell) { window._pyforest_update_imports_cell('import numpy as np\\nimport seaborn as sns\\nimport matplotlib.pyplot as plt\\nimport pandas as pd'); }\n",
       "    "
      ],
      "text/plain": [
       "<IPython.core.display.Javascript object>"
      ]
     },
     "metadata": {},
     "output_type": "display_data"
    },
    {
     "data": {
      "text/plain": [
       "<AxesSubplot:xlabel='importance', ylabel='feature'>"
      ]
     },
     "execution_count": 118,
     "metadata": {},
     "output_type": "execute_result"
    },
    {
     "data": {
      "image/png": "[encoded data removed]",
      "text/plain": [
       "<Figure size 1080x1080 with 1 Axes>"
      ]
     },
     "metadata": {
      "needs_background": "light"
     },
     "output_type": "display_data"
    }
   ],
   "source": [
    "Modified=pd.DataFrame({\"feature\":X.columns,\"importance\":rf2.feature_importances_})\n",
    "Modified.sort_values(\"importance\",ascending = False, inplace = True)\n",
    "fig = plt.figure(figsize= (15,15))\n",
    "sns.barplot(x ='importance',y = 'feature',data = Modified)"
   ]
  },
  {
   "cell_type": "code",
   "execution_count": 119,
   "id": "accessory-heating",
   "metadata": {},
   "outputs": [
    {
     "data": {
      "application/javascript": [
       "\n",
       "        if (window._pyforest_update_imports_cell) { window._pyforest_update_imports_cell('import numpy as np\\nimport seaborn as sns\\nimport matplotlib.pyplot as plt\\nimport pandas as pd'); }\n",
       "    "
      ],
      "text/plain": [
       "<IPython.core.display.Javascript object>"
      ]
     },
     "metadata": {},
     "output_type": "display_data"
    },
    {
     "data": {
      "application/javascript": [
       "\n",
       "        if (window._pyforest_update_imports_cell) { window._pyforest_update_imports_cell('import numpy as np\\nimport seaborn as sns\\nimport matplotlib.pyplot as plt\\nimport pandas as pd'); }\n",
       "    "
      ],
      "text/plain": [
       "<IPython.core.display.Javascript object>"
      ]
     },
     "metadata": {},
     "output_type": "display_data"
    },
    {
     "data": {
      "application/javascript": [
       "\n",
       "        if (window._pyforest_update_imports_cell) { window._pyforest_update_imports_cell('import numpy as np\\nimport seaborn as sns\\nimport matplotlib.pyplot as plt\\nimport pandas as pd'); }\n",
       "    "
      ],
      "text/plain": [
       "<IPython.core.display.Javascript object>"
      ]
     },
     "metadata": {},
     "output_type": "display_data"
    },
    {
     "data": {
      "text/plain": [
       "Text(0.5, 1.0, 'Initial Models feature importance')"
      ]
     },
     "execution_count": 119,
     "metadata": {},
     "output_type": "execute_result"
    },
    {
     "data": {
      "image/png": "[encoded data removed]",
      "text/plain": [
       "<Figure size 720x576 with 1 Axes>"
      ]
     },
     "metadata": {
      "needs_background": "light"
     },
     "output_type": "display_data"
    }
   ],
   "source": [
    "fig = plt.figure(figsize=(10, 8))\n",
    "ax = fig.add_subplot(212)\n",
    "sns.violinplot(data=Initial, ax=ax)\n",
    "plt.title('Initial Models feature importance')"
   ]
  },
  {
   "cell_type": "code",
   "execution_count": 120,
   "id": "professional-behalf",
   "metadata": {},
   "outputs": [
    {
     "data": {
      "application/javascript": [
       "\n",
       "        if (window._pyforest_update_imports_cell) { window._pyforest_update_imports_cell('import numpy as np\\nimport seaborn as sns\\nimport matplotlib.pyplot as plt\\nimport pandas as pd'); }\n",
       "    "
      ],
      "text/plain": [
       "<IPython.core.display.Javascript object>"
      ]
     },
     "metadata": {},
     "output_type": "display_data"
    },
    {
     "data": {
      "application/javascript": [
       "\n",
       "        if (window._pyforest_update_imports_cell) { window._pyforest_update_imports_cell('import numpy as np\\nimport seaborn as sns\\nimport matplotlib.pyplot as plt\\nimport pandas as pd'); }\n",
       "    "
      ],
      "text/plain": [
       "<IPython.core.display.Javascript object>"
      ]
     },
     "metadata": {},
     "output_type": "display_data"
    },
    {
     "data": {
      "application/javascript": [
       "\n",
       "        if (window._pyforest_update_imports_cell) { window._pyforest_update_imports_cell('import numpy as np\\nimport seaborn as sns\\nimport matplotlib.pyplot as plt\\nimport pandas as pd'); }\n",
       "    "
      ],
      "text/plain": [
       "<IPython.core.display.Javascript object>"
      ]
     },
     "metadata": {},
     "output_type": "display_data"
    },
    {
     "data": {
      "text/plain": [
       "Text(0.5, 1.0, 'Hypertuned Models feature importance')"
      ]
     },
     "execution_count": 120,
     "metadata": {},
     "output_type": "execute_result"
    },
    {
     "data": {
      "image/png": "[encoded data removed]",
      "text/plain": [
       "<Figure size 720x576 with 1 Axes>"
      ]
     },
     "metadata": {
      "needs_background": "light"
     },
     "output_type": "display_data"
    }
   ],
   "source": [
    "fig = plt.figure(figsize=(10, 8))\n",
    "ax = fig.add_subplot(211)\n",
    "sns.violinplot(data=Modified, ax=ax)\n",
    "plt.title('Hypertuned Models feature importance')\n"
   ]
  },
  {
   "cell_type": "code",
   "execution_count": null,
   "id": "sustainable-library",
   "metadata": {},
   "outputs": [],
   "source": []
  }
 ],
 "metadata": {
  "kernelspec": {
   "display_name": "Python 3",
   "language": "python",
   "name": "python3"
  },
  "toc": {
   "base_numbering": 1,
   "nav_menu": {
    "height": "147px",
    "width": "237px"
   },
   "number_sections": false,
   "sideBar": true,
   "skip_h1_title": false,
   "title_cell": "Table of Contents",
   "title_sidebar": "Contents",
   "toc_cell": false,
   "toc_position": {
    "height": "calc(100% - 180px)",
    "left": "10px",
    "top": "150px",
    "width": "165px"
   },
   "toc_section_display": true,
   "toc_window_display": true
  }
 },
 "nbformat": 4,
 "nbformat_minor": 5
}
